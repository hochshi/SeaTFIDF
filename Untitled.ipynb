{
 "cells": [
  {
   "cell_type": "code",
   "execution_count": 1,
   "metadata": {},
   "outputs": [
    {
     "name": "stdout",
     "output_type": "stream",
     "text": [
      "running keep_single_mapping\n",
      "running sanitize\n",
      "running add_position\n",
      "running smiles_largest_frag\n"
     ]
    }
   ],
   "source": [
    "import numpy as np\n",
    "import pandas as pd\n",
    "from DataFilters import *\n",
    "CMerModel.mol_id = 'MOLREGNO'\n",
    "CMerModel.target_id= 'TARGET_ID'\n",
    "\n",
    "files = {\n",
    "    'mols': 'data/chembl_17_10uM_mol_data.csv',\n",
    "    'targets': 'data/chembl_17_10uM_target_data.csv',\n",
    "    'map': 'data/chembl_17_10uM_target_mol.csv'\n",
    "}\n",
    "\n",
    "action_list = [\n",
    "    'keep_single_mapping',\n",
    "    'sanitize',\n",
    "    'add_position',\n",
    "    'smiles_largest_frag'\n",
    "]\n",
    "\n",
    "mol_data = pd.read_csv(files['mols'])\n",
    "target_data = pd.read_csv(files['targets'])\n",
    "tm_map = pd.read_csv(files['map'])\n",
    "\n",
    "mol_data[['MOLREGNO', 'MAX_PHASE', 'THERAPEUTIC']] = mol_data[\n",
    "    ['MOLREGNO', 'MAX_PHASE', 'THERAPEUTIC']].apply(pd.to_numeric)\n",
    "target_data[['TARGET_ID']] = target_data[['TARGET_ID']].apply(pd.to_numeric)\n",
    "tm_map[['TARGET_ID', 'MOLREGNO', 'STANDARD_VALUE']] = tm_map[\n",
    "    ['TARGET_ID', 'MOLREGNO', 'STANDARD_VALUE']].apply(pd.to_numeric)\n",
    "\n",
    "target_data = target_data.sort_values(['TARGET_ID']).set_index(['TARGET_ID'])\n",
    "target_data.index.names = ['TARGET_ID']\n",
    "\n",
    "mol_data = mol_data.sort_values(['MOLREGNO']).set_index(['MOLREGNO'])\n",
    "mol_data.index.names = ['MOLREGNO']\n",
    "\n",
    "tm_map = tm_map.set_index(['TARGET_ID', 'MOLREGNO'])\n",
    "\n",
    "for func in action_list:\n",
    "    print \"running %s\" % (str(func))\n",
    "    mol_data, target_data, tm_map = methods[func](mol_data, target_data, tm_map)"
   ]
  },
  {
   "cell_type": "code",
   "execution_count": 25,
   "metadata": {},
   "outputs": [
    {
     "data": {
      "text/html": [
       "\n",
       "    <div class=\"bk-root\">\n",
       "        <a href=\"https://bokeh.pydata.org\" target=\"_blank\" class=\"bk-logo bk-logo-small bk-logo-notebook\"></a>\n",
       "        <span id=\"8650d50e-cd48-4a9e-bcb0-a97a715ce842\">Loading BokehJS ...</span>\n",
       "    </div>"
      ]
     },
     "metadata": {},
     "output_type": "display_data"
    },
    {
     "data": {
      "application/javascript": [
       "\n",
       "(function(root) {\n",
       "  function now() {\n",
       "    return new Date();\n",
       "  }\n",
       "\n",
       "  var force = true;\n",
       "\n",
       "  if (typeof (root._bokeh_onload_callbacks) === \"undefined\" || force === true) {\n",
       "    root._bokeh_onload_callbacks = [];\n",
       "    root._bokeh_is_loading = undefined;\n",
       "  }\n",
       "\n",
       "  var JS_MIME_TYPE = 'application/javascript';\n",
       "  var HTML_MIME_TYPE = 'text/html';\n",
       "  var EXEC_MIME_TYPE = 'application/vnd.bokehjs_exec.v0+json';\n",
       "  var CLASS_NAME = 'output_bokeh rendered_html';\n",
       "\n",
       "  /**\n",
       "   * Render data to the DOM node\n",
       "   */\n",
       "  function render(props, node) {\n",
       "    var script = document.createElement(\"script\");\n",
       "    node.appendChild(script);\n",
       "  }\n",
       "\n",
       "  /**\n",
       "   * Handle when an output is cleared or removed\n",
       "   */\n",
       "  function handleClearOutput(event, handle) {\n",
       "    var cell = handle.cell;\n",
       "\n",
       "    var id = cell.output_area._bokeh_element_id;\n",
       "    var server_id = cell.output_area._bokeh_server_id;\n",
       "    // Clean up Bokeh references\n",
       "    if (id !== undefined) {\n",
       "      Bokeh.index[id].model.document.clear();\n",
       "      delete Bokeh.index[id];\n",
       "    }\n",
       "\n",
       "    if (server_id !== undefined) {\n",
       "      // Clean up Bokeh references\n",
       "      var cmd = \"from bokeh.io.state import curstate; print(curstate().uuid_to_server['\" + server_id + \"'].get_sessions()[0].document.roots[0]._id)\";\n",
       "      cell.notebook.kernel.execute(cmd, {\n",
       "        iopub: {\n",
       "          output: function(msg) {\n",
       "            var element_id = msg.content.text.trim();\n",
       "            Bokeh.index[element_id].model.document.clear();\n",
       "            delete Bokeh.index[element_id];\n",
       "          }\n",
       "        }\n",
       "      });\n",
       "      // Destroy server and session\n",
       "      var cmd = \"import bokeh.io.notebook as ion; ion.destroy_server('\" + server_id + \"')\";\n",
       "      cell.notebook.kernel.execute(cmd);\n",
       "    }\n",
       "  }\n",
       "\n",
       "  /**\n",
       "   * Handle when a new output is added\n",
       "   */\n",
       "  function handleAddOutput(event, handle) {\n",
       "    var output_area = handle.output_area;\n",
       "    var output = handle.output;\n",
       "\n",
       "    // limit handleAddOutput to display_data with EXEC_MIME_TYPE content only\n",
       "    if ((output.output_type != \"display_data\") || (!output.data.hasOwnProperty(EXEC_MIME_TYPE))) {\n",
       "      return\n",
       "    }\n",
       "\n",
       "    var toinsert = output_area.element.find(\".\" + CLASS_NAME.split(' ')[0]);\n",
       "\n",
       "    if (output.metadata[EXEC_MIME_TYPE][\"id\"] !== undefined) {\n",
       "      toinsert[0].firstChild.textContent = output.data[JS_MIME_TYPE];\n",
       "      // store reference to embed id on output_area\n",
       "      output_area._bokeh_element_id = output.metadata[EXEC_MIME_TYPE][\"id\"];\n",
       "    }\n",
       "    if (output.metadata[EXEC_MIME_TYPE][\"server_id\"] !== undefined) {\n",
       "      var bk_div = document.createElement(\"div\");\n",
       "      bk_div.innerHTML = output.data[HTML_MIME_TYPE];\n",
       "      var script_attrs = bk_div.children[0].attributes;\n",
       "      for (var i = 0; i < script_attrs.length; i++) {\n",
       "        toinsert[0].firstChild.setAttribute(script_attrs[i].name, script_attrs[i].value);\n",
       "      }\n",
       "      // store reference to server id on output_area\n",
       "      output_area._bokeh_server_id = output.metadata[EXEC_MIME_TYPE][\"server_id\"];\n",
       "    }\n",
       "  }\n",
       "\n",
       "  function register_renderer(events, OutputArea) {\n",
       "\n",
       "    function append_mime(data, metadata, element) {\n",
       "      // create a DOM node to render to\n",
       "      var toinsert = this.create_output_subarea(\n",
       "        metadata,\n",
       "        CLASS_NAME,\n",
       "        EXEC_MIME_TYPE\n",
       "      );\n",
       "      this.keyboard_manager.register_events(toinsert);\n",
       "      // Render to node\n",
       "      var props = {data: data, metadata: metadata[EXEC_MIME_TYPE]};\n",
       "      render(props, toinsert[0]);\n",
       "      element.append(toinsert);\n",
       "      return toinsert\n",
       "    }\n",
       "\n",
       "    /* Handle when an output is cleared or removed */\n",
       "    events.on('clear_output.CodeCell', handleClearOutput);\n",
       "    events.on('delete.Cell', handleClearOutput);\n",
       "\n",
       "    /* Handle when a new output is added */\n",
       "    events.on('output_added.OutputArea', handleAddOutput);\n",
       "\n",
       "    /**\n",
       "     * Register the mime type and append_mime function with output_area\n",
       "     */\n",
       "    OutputArea.prototype.register_mime_type(EXEC_MIME_TYPE, append_mime, {\n",
       "      /* Is output safe? */\n",
       "      safe: true,\n",
       "      /* Index of renderer in `output_area.display_order` */\n",
       "      index: 0\n",
       "    });\n",
       "  }\n",
       "\n",
       "  // register the mime type if in Jupyter Notebook environment and previously unregistered\n",
       "  if (root.Jupyter !== undefined) {\n",
       "    var events = require('base/js/events');\n",
       "    var OutputArea = require('notebook/js/outputarea').OutputArea;\n",
       "\n",
       "    if (OutputArea.prototype.mime_types().indexOf(EXEC_MIME_TYPE) == -1) {\n",
       "      register_renderer(events, OutputArea);\n",
       "    }\n",
       "  }\n",
       "\n",
       "  \n",
       "  if (typeof (root._bokeh_timeout) === \"undefined\" || force === true) {\n",
       "    root._bokeh_timeout = Date.now() + 5000;\n",
       "    root._bokeh_failed_load = false;\n",
       "  }\n",
       "\n",
       "  var NB_LOAD_WARNING = {'data': {'text/html':\n",
       "     \"<div style='background-color: #fdd'>\\n\"+\n",
       "     \"<p>\\n\"+\n",
       "     \"BokehJS does not appear to have successfully loaded. If loading BokehJS from CDN, this \\n\"+\n",
       "     \"may be due to a slow or bad network connection. Possible fixes:\\n\"+\n",
       "     \"</p>\\n\"+\n",
       "     \"<ul>\\n\"+\n",
       "     \"<li>re-rerun `output_notebook()` to attempt to load from CDN again, or</li>\\n\"+\n",
       "     \"<li>use INLINE resources instead, as so:</li>\\n\"+\n",
       "     \"</ul>\\n\"+\n",
       "     \"<code>\\n\"+\n",
       "     \"from bokeh.resources import INLINE\\n\"+\n",
       "     \"output_notebook(resources=INLINE)\\n\"+\n",
       "     \"</code>\\n\"+\n",
       "     \"</div>\"}};\n",
       "\n",
       "  function display_loaded() {\n",
       "    var el = document.getElementById(\"8650d50e-cd48-4a9e-bcb0-a97a715ce842\");\n",
       "    if (el != null) {\n",
       "      el.textContent = \"BokehJS is loading...\";\n",
       "    }\n",
       "    if (root.Bokeh !== undefined) {\n",
       "      if (el != null) {\n",
       "        el.textContent = \"BokehJS \" + root.Bokeh.version + \" successfully loaded.\";\n",
       "      }\n",
       "    } else if (Date.now() < root._bokeh_timeout) {\n",
       "      setTimeout(display_loaded, 100)\n",
       "    }\n",
       "  }\n",
       "\n",
       "\n",
       "  function run_callbacks() {\n",
       "    try {\n",
       "      root._bokeh_onload_callbacks.forEach(function(callback) { callback() });\n",
       "    }\n",
       "    finally {\n",
       "      delete root._bokeh_onload_callbacks\n",
       "    }\n",
       "    console.info(\"Bokeh: all callbacks have finished\");\n",
       "  }\n",
       "\n",
       "  function load_libs(js_urls, callback) {\n",
       "    root._bokeh_onload_callbacks.push(callback);\n",
       "    if (root._bokeh_is_loading > 0) {\n",
       "      console.log(\"Bokeh: BokehJS is being loaded, scheduling callback at\", now());\n",
       "      return null;\n",
       "    }\n",
       "    if (js_urls == null || js_urls.length === 0) {\n",
       "      run_callbacks();\n",
       "      return null;\n",
       "    }\n",
       "    console.log(\"Bokeh: BokehJS not loaded, scheduling load and callback at\", now());\n",
       "    root._bokeh_is_loading = js_urls.length;\n",
       "    for (var i = 0; i < js_urls.length; i++) {\n",
       "      var url = js_urls[i];\n",
       "      var s = document.createElement('script');\n",
       "      s.src = url;\n",
       "      s.async = false;\n",
       "      s.onreadystatechange = s.onload = function() {\n",
       "        root._bokeh_is_loading--;\n",
       "        if (root._bokeh_is_loading === 0) {\n",
       "          console.log(\"Bokeh: all BokehJS libraries loaded\");\n",
       "          run_callbacks()\n",
       "        }\n",
       "      };\n",
       "      s.onerror = function() {\n",
       "        console.warn(\"failed to load library \" + url);\n",
       "      };\n",
       "      console.log(\"Bokeh: injecting script tag for BokehJS library: \", url);\n",
       "      document.getElementsByTagName(\"head\")[0].appendChild(s);\n",
       "    }\n",
       "  };var element = document.getElementById(\"8650d50e-cd48-4a9e-bcb0-a97a715ce842\");\n",
       "  if (element == null) {\n",
       "    console.log(\"Bokeh: ERROR: autoload.js configured with elementid '8650d50e-cd48-4a9e-bcb0-a97a715ce842' but no matching script tag was found. \")\n",
       "    return false;\n",
       "  }\n",
       "\n",
       "  var js_urls = [\"https://cdn.pydata.org/bokeh/release/bokeh-0.12.13.min.js\", \"https://cdn.pydata.org/bokeh/release/bokeh-widgets-0.12.13.min.js\", \"https://cdn.pydata.org/bokeh/release/bokeh-tables-0.12.13.min.js\", \"https://cdn.pydata.org/bokeh/release/bokeh-gl-0.12.13.min.js\"];\n",
       "\n",
       "  var inline_js = [\n",
       "    function(Bokeh) {\n",
       "      Bokeh.set_log_level(\"info\");\n",
       "    },\n",
       "    \n",
       "    function(Bokeh) {\n",
       "      \n",
       "    },\n",
       "    function(Bokeh) {\n",
       "      console.log(\"Bokeh: injecting CSS: https://cdn.pydata.org/bokeh/release/bokeh-0.12.13.min.css\");\n",
       "      Bokeh.embed.inject_css(\"https://cdn.pydata.org/bokeh/release/bokeh-0.12.13.min.css\");\n",
       "      console.log(\"Bokeh: injecting CSS: https://cdn.pydata.org/bokeh/release/bokeh-widgets-0.12.13.min.css\");\n",
       "      Bokeh.embed.inject_css(\"https://cdn.pydata.org/bokeh/release/bokeh-widgets-0.12.13.min.css\");\n",
       "      console.log(\"Bokeh: injecting CSS: https://cdn.pydata.org/bokeh/release/bokeh-tables-0.12.13.min.css\");\n",
       "      Bokeh.embed.inject_css(\"https://cdn.pydata.org/bokeh/release/bokeh-tables-0.12.13.min.css\");\n",
       "    }\n",
       "  ];\n",
       "\n",
       "  function run_inline_js() {\n",
       "    \n",
       "    if ((root.Bokeh !== undefined) || (force === true)) {\n",
       "      for (var i = 0; i < inline_js.length; i++) {\n",
       "        inline_js[i].call(root, root.Bokeh);\n",
       "      }if (force === true) {\n",
       "        display_loaded();\n",
       "      }} else if (Date.now() < root._bokeh_timeout) {\n",
       "      setTimeout(run_inline_js, 100);\n",
       "    } else if (!root._bokeh_failed_load) {\n",
       "      console.log(\"Bokeh: BokehJS failed to load within specified timeout.\");\n",
       "      root._bokeh_failed_load = true;\n",
       "    } else if (force !== true) {\n",
       "      var cell = $(document.getElementById(\"8650d50e-cd48-4a9e-bcb0-a97a715ce842\")).parents('.cell').data().cell;\n",
       "      cell.output_area.append_execute_result(NB_LOAD_WARNING)\n",
       "    }\n",
       "\n",
       "  }\n",
       "\n",
       "  if (root._bokeh_is_loading === 0) {\n",
       "    console.log(\"Bokeh: BokehJS loaded, going straight to plotting\");\n",
       "    run_inline_js();\n",
       "  } else {\n",
       "    load_libs(js_urls, function() {\n",
       "      console.log(\"Bokeh: BokehJS plotting callback run at\", now());\n",
       "      run_inline_js();\n",
       "    });\n",
       "  }\n",
       "}(window));"
      ],
      "application/vnd.bokehjs_load.v0+json": "\n(function(root) {\n  function now() {\n    return new Date();\n  }\n\n  var force = true;\n\n  if (typeof (root._bokeh_onload_callbacks) === \"undefined\" || force === true) {\n    root._bokeh_onload_callbacks = [];\n    root._bokeh_is_loading = undefined;\n  }\n\n  \n\n  \n  if (typeof (root._bokeh_timeout) === \"undefined\" || force === true) {\n    root._bokeh_timeout = Date.now() + 5000;\n    root._bokeh_failed_load = false;\n  }\n\n  var NB_LOAD_WARNING = {'data': {'text/html':\n     \"<div style='background-color: #fdd'>\\n\"+\n     \"<p>\\n\"+\n     \"BokehJS does not appear to have successfully loaded. If loading BokehJS from CDN, this \\n\"+\n     \"may be due to a slow or bad network connection. Possible fixes:\\n\"+\n     \"</p>\\n\"+\n     \"<ul>\\n\"+\n     \"<li>re-rerun `output_notebook()` to attempt to load from CDN again, or</li>\\n\"+\n     \"<li>use INLINE resources instead, as so:</li>\\n\"+\n     \"</ul>\\n\"+\n     \"<code>\\n\"+\n     \"from bokeh.resources import INLINE\\n\"+\n     \"output_notebook(resources=INLINE)\\n\"+\n     \"</code>\\n\"+\n     \"</div>\"}};\n\n  function display_loaded() {\n    var el = document.getElementById(\"8650d50e-cd48-4a9e-bcb0-a97a715ce842\");\n    if (el != null) {\n      el.textContent = \"BokehJS is loading...\";\n    }\n    if (root.Bokeh !== undefined) {\n      if (el != null) {\n        el.textContent = \"BokehJS \" + root.Bokeh.version + \" successfully loaded.\";\n      }\n    } else if (Date.now() < root._bokeh_timeout) {\n      setTimeout(display_loaded, 100)\n    }\n  }\n\n\n  function run_callbacks() {\n    try {\n      root._bokeh_onload_callbacks.forEach(function(callback) { callback() });\n    }\n    finally {\n      delete root._bokeh_onload_callbacks\n    }\n    console.info(\"Bokeh: all callbacks have finished\");\n  }\n\n  function load_libs(js_urls, callback) {\n    root._bokeh_onload_callbacks.push(callback);\n    if (root._bokeh_is_loading > 0) {\n      console.log(\"Bokeh: BokehJS is being loaded, scheduling callback at\", now());\n      return null;\n    }\n    if (js_urls == null || js_urls.length === 0) {\n      run_callbacks();\n      return null;\n    }\n    console.log(\"Bokeh: BokehJS not loaded, scheduling load and callback at\", now());\n    root._bokeh_is_loading = js_urls.length;\n    for (var i = 0; i < js_urls.length; i++) {\n      var url = js_urls[i];\n      var s = document.createElement('script');\n      s.src = url;\n      s.async = false;\n      s.onreadystatechange = s.onload = function() {\n        root._bokeh_is_loading--;\n        if (root._bokeh_is_loading === 0) {\n          console.log(\"Bokeh: all BokehJS libraries loaded\");\n          run_callbacks()\n        }\n      };\n      s.onerror = function() {\n        console.warn(\"failed to load library \" + url);\n      };\n      console.log(\"Bokeh: injecting script tag for BokehJS library: \", url);\n      document.getElementsByTagName(\"head\")[0].appendChild(s);\n    }\n  };var element = document.getElementById(\"8650d50e-cd48-4a9e-bcb0-a97a715ce842\");\n  if (element == null) {\n    console.log(\"Bokeh: ERROR: autoload.js configured with elementid '8650d50e-cd48-4a9e-bcb0-a97a715ce842' but no matching script tag was found. \")\n    return false;\n  }\n\n  var js_urls = [\"https://cdn.pydata.org/bokeh/release/bokeh-0.12.13.min.js\", \"https://cdn.pydata.org/bokeh/release/bokeh-widgets-0.12.13.min.js\", \"https://cdn.pydata.org/bokeh/release/bokeh-tables-0.12.13.min.js\", \"https://cdn.pydata.org/bokeh/release/bokeh-gl-0.12.13.min.js\"];\n\n  var inline_js = [\n    function(Bokeh) {\n      Bokeh.set_log_level(\"info\");\n    },\n    \n    function(Bokeh) {\n      \n    },\n    function(Bokeh) {\n      console.log(\"Bokeh: injecting CSS: https://cdn.pydata.org/bokeh/release/bokeh-0.12.13.min.css\");\n      Bokeh.embed.inject_css(\"https://cdn.pydata.org/bokeh/release/bokeh-0.12.13.min.css\");\n      console.log(\"Bokeh: injecting CSS: https://cdn.pydata.org/bokeh/release/bokeh-widgets-0.12.13.min.css\");\n      Bokeh.embed.inject_css(\"https://cdn.pydata.org/bokeh/release/bokeh-widgets-0.12.13.min.css\");\n      console.log(\"Bokeh: injecting CSS: https://cdn.pydata.org/bokeh/release/bokeh-tables-0.12.13.min.css\");\n      Bokeh.embed.inject_css(\"https://cdn.pydata.org/bokeh/release/bokeh-tables-0.12.13.min.css\");\n    }\n  ];\n\n  function run_inline_js() {\n    \n    if ((root.Bokeh !== undefined) || (force === true)) {\n      for (var i = 0; i < inline_js.length; i++) {\n        inline_js[i].call(root, root.Bokeh);\n      }if (force === true) {\n        display_loaded();\n      }} else if (Date.now() < root._bokeh_timeout) {\n      setTimeout(run_inline_js, 100);\n    } else if (!root._bokeh_failed_load) {\n      console.log(\"Bokeh: BokehJS failed to load within specified timeout.\");\n      root._bokeh_failed_load = true;\n    } else if (force !== true) {\n      var cell = $(document.getElementById(\"8650d50e-cd48-4a9e-bcb0-a97a715ce842\")).parents('.cell').data().cell;\n      cell.output_area.append_execute_result(NB_LOAD_WARNING)\n    }\n\n  }\n\n  if (root._bokeh_is_loading === 0) {\n    console.log(\"Bokeh: BokehJS loaded, going straight to plotting\");\n    run_inline_js();\n  } else {\n    load_libs(js_urls, function() {\n      console.log(\"Bokeh: BokehJS plotting callback run at\", now());\n      run_inline_js();\n    });\n  }\n}(window));"
     },
     "metadata": {},
     "output_type": "display_data"
    }
   ],
   "source": [
    "from bokeh.io import output_notebook\n",
    "from bokeh.layouts import gridplot\n",
    "from bokeh.plotting import figure, show\n",
    "from bokeh.palettes import Spectral6\n",
    "from bokeh.layouts import row, column\n",
    "from bokeh.models.ranges import Range1d, DataRange1d\n",
    "from bokeh.models.axes import LinearAxis\n",
    "output_notebook()"
   ]
  },
  {
   "cell_type": "code",
   "execution_count": 81,
   "metadata": {},
   "outputs": [],
   "source": [
    "target_mol_count = np.concatenate(tm_map.STANDARD_RELATION.groupby(level=CMerModel.target_id).agg(['count']).values)"
   ]
  },
  {
   "cell_type": "code",
   "execution_count": 82,
   "metadata": {},
   "outputs": [
    {
     "name": "stdout",
     "output_type": "stream",
     "text": [
      "185 1806\n"
     ]
    }
   ],
   "source": [
    "print np.count_nonzero(target_mol_count == 1), len(target_mol_count)"
   ]
  },
  {
   "cell_type": "code",
   "execution_count": 86,
   "metadata": {},
   "outputs": [],
   "source": [
    "tmc_hist, tmc_h_edges = np.histogram(target_mol_count, density=True, bins='auto')\n",
    "tmc_count, tmc_c_edges = np.histogram(target_mol_count, density=False, bins='auto')"
   ]
  },
  {
   "cell_type": "code",
   "execution_count": 87,
   "metadata": {},
   "outputs": [],
   "source": [
    "p1 = figure(x_axis_label='Coumpounds per target', y_axis_label='Percentage of targets')\n",
    "p1.quad(top=tmc_hist, bottom=0, left=tmc_c_edges[:-1], right=tmc_c_edges[1:],\n",
    "        fill_color=Spectral6[1])\n",
    "p1.extra_y_ranges = {}\n",
    "p1.extra_y_ranges['y2'] = DataRange1d(start=min(tmc_count), end=max(tmc_count))\n",
    "p1.add_layout(LinearAxis(y_range_name = 'y2', axis_label = 'No. of targets'), 'right')\n"
   ]
  },
  {
   "cell_type": "code",
   "execution_count": null,
   "metadata": {},
   "outputs": [],
   "source": [
    "output_file"
   ]
  },
  {
   "cell_type": "code",
   "execution_count": 88,
   "metadata": {},
   "outputs": [
    {
     "data": {
      "text/html": [
       "\n",
       "<div class=\"bk-root\">\n",
       "    <div class=\"bk-plotdiv\" id=\"cbb6e73a-7ae6-47d2-89c3-8e66feb890fb\"></div>\n",
       "</div>"
      ]
     },
     "metadata": {},
     "output_type": "display_data"
    },
    {
     "data": {
      "application/javascript": [
       "(function(root) {\n",
       "  function embed_document(root) {\n",
       "    \n",
       "  var docs_json = {\"8d583679-7c19-4968-b414-08ee50061a47\":{\"roots\":{\"references\":[{\"attributes\":{\"bottom_units\":\"screen\",\"fill_alpha\":{\"value\":0.5},\"fill_color\":{\"value\":\"lightgrey\"},\"left_units\":\"screen\",\"level\":\"overlay\",\"line_alpha\":{\"value\":1.0},\"line_color\":{\"value\":\"black\"},\"line_dash\":[4,4],\"line_width\":{\"value\":2},\"plot\":null,\"render_mode\":\"css\",\"right_units\":\"screen\",\"top_units\":\"screen\"},\"id\":\"92108554-ac1c-4899-81bf-0293639ea80a\",\"type\":\"BoxAnnotation\"},{\"attributes\":{\"callback\":null},\"id\":\"0aa91622-8c0a-4711-a3a5-d5b13602d33f\",\"type\":\"DataRange1d\"},{\"attributes\":{\"plot\":{\"id\":\"17e19ce8-0bd1-4f72-b0f7-aa7afa73ce6f\",\"subtype\":\"Figure\",\"type\":\"Plot\"},\"ticker\":{\"id\":\"60005900-0036-44dd-a7cf-9507feec662d\",\"type\":\"BasicTicker\"}},\"id\":\"9697c0cc-eeec-4d80-aa89-0ff73e7621c2\",\"type\":\"Grid\"},{\"attributes\":{},\"id\":\"b5302665-3f7d-4e1c-b287-225ab0978c0c\",\"type\":\"PanTool\"},{\"attributes\":{\"axis_label\":\"Coumpounds per target\",\"formatter\":{\"id\":\"00ffcca8-babf-41c7-bd2e-eb45999c9886\",\"type\":\"BasicTickFormatter\"},\"plot\":{\"id\":\"17e19ce8-0bd1-4f72-b0f7-aa7afa73ce6f\",\"subtype\":\"Figure\",\"type\":\"Plot\"},\"ticker\":{\"id\":\"60005900-0036-44dd-a7cf-9507feec662d\",\"type\":\"BasicTicker\"}},\"id\":\"6e17c67d-515d-49f9-b269-1e8b4c0fd83a\",\"type\":\"LinearAxis\"},{\"attributes\":{\"overlay\":{\"id\":\"92108554-ac1c-4899-81bf-0293639ea80a\",\"type\":\"BoxAnnotation\"}},\"id\":\"973fd523-7363-47d8-9d99-f5024292b7a5\",\"type\":\"BoxZoomTool\"},{\"attributes\":{\"axis_label\":\"No. of targets\",\"formatter\":{\"id\":\"383a867e-232a-447d-b85c-3bc766661d6f\",\"type\":\"BasicTickFormatter\"},\"plot\":{\"id\":\"17e19ce8-0bd1-4f72-b0f7-aa7afa73ce6f\",\"subtype\":\"Figure\",\"type\":\"Plot\"},\"ticker\":{\"id\":\"4239d8af-9a11-41bc-bd02-49468263dd01\",\"type\":\"BasicTicker\"},\"y_range_name\":\"y2\"},\"id\":\"c6afdbe1-f37f-4985-b4f3-3149feb8c650\",\"type\":\"LinearAxis\"},{\"attributes\":{\"callback\":null},\"id\":\"22acaabb-43da-4ae5-aaec-2d534094e057\",\"type\":\"DataRange1d\"},{\"attributes\":{\"active_drag\":\"auto\",\"active_inspect\":\"auto\",\"active_scroll\":\"auto\",\"active_tap\":\"auto\",\"tools\":[{\"id\":\"b5302665-3f7d-4e1c-b287-225ab0978c0c\",\"type\":\"PanTool\"},{\"id\":\"3264dd75-02df-4420-8efe-c7e7f97e2b9d\",\"type\":\"WheelZoomTool\"},{\"id\":\"973fd523-7363-47d8-9d99-f5024292b7a5\",\"type\":\"BoxZoomTool\"},{\"id\":\"b3d3058c-f735-4f93-aee2-bb12a5d13de2\",\"type\":\"SaveTool\"},{\"id\":\"2cfeb10b-9b48-443d-b2a1-3b98fa04fefc\",\"type\":\"ResetTool\"},{\"id\":\"ffedeb91-f51b-47dd-8f76-4b4fa7964023\",\"type\":\"HelpTool\"}]},\"id\":\"85177cb7-a214-4de6-8874-2b58739ca2ed\",\"type\":\"Toolbar\"},{\"attributes\":{},\"id\":\"2cfeb10b-9b48-443d-b2a1-3b98fa04fefc\",\"type\":\"ResetTool\"},{\"attributes\":{},\"id\":\"4239d8af-9a11-41bc-bd02-49468263dd01\",\"type\":\"BasicTicker\"},{\"attributes\":{\"callback\":null,\"end\":884,\"start\":0},\"id\":\"b833ae37-335c-4829-8eea-8d5924613e93\",\"type\":\"DataRange1d\"},{\"attributes\":{},\"id\":\"383a867e-232a-447d-b85c-3bc766661d6f\",\"type\":\"BasicTickFormatter\"},{\"attributes\":{},\"id\":\"360a0fc8-f3a1-4ad0-a8da-4b40884ac563\",\"type\":\"LinearScale\"},{\"attributes\":{},\"id\":\"ffedeb91-f51b-47dd-8f76-4b4fa7964023\",\"type\":\"HelpTool\"},{\"attributes\":{\"bottom\":{\"value\":0},\"fill_alpha\":{\"value\":0.1},\"fill_color\":{\"value\":\"#1f77b4\"},\"left\":{\"field\":\"left\"},\"line_alpha\":{\"value\":0.1},\"line_color\":{\"value\":\"#1f77b4\"},\"right\":{\"field\":\"right\"},\"top\":{\"field\":\"top\"}},\"id\":\"54d5fd53-2d30-4cfa-a159-5769b0eae010\",\"type\":\"Quad\"},{\"attributes\":{\"plot\":null,\"text\":\"\"},\"id\":\"4361b21d-060e-42e0-9738-89f62be064af\",\"type\":\"Title\"},{\"attributes\":{},\"id\":\"b3de7c9e-e180-44d9-a6d2-89915a161a6f\",\"type\":\"BasicTicker\"},{\"attributes\":{\"bottom\":{\"value\":0},\"fill_color\":{\"value\":\"#99d594\"},\"left\":{\"field\":\"left\"},\"line_color\":{\"value\":\"#1f77b4\"},\"right\":{\"field\":\"right\"},\"top\":{\"field\":\"top\"}},\"id\":\"cc8ddd64-bcb9-460e-8129-2daf572fdba7\",\"type\":\"Quad\"},{\"attributes\":{\"callback\":null,\"column_names\":[\"left\",\"top\",\"right\"],\"data\":{\"left\":{\"__ndarray__\":\"AAAAAAAA8D+amZmZmXlAQJqZmZmZOVBAZmZmZmY2WECamZmZmRlgQAAAAAAAGGRAZmZmZmYWaEDNzMzMzBRsQJqZmZmZCXBAzczMzMwIckAAAAAAAAh0QDMzMzMzB3ZAZmZmZmYGeECZmZmZmQV6QM3MzMzMBHxAAAAAAAAEfkCamZmZmQGAQDMzMzMzAYFAzczMzMwAgkBmZmZmZgCDQAAAAAAAAIRAmZmZmZn/hEAzMzMzM/+FQM3MzMzM/oZAZmZmZmb+h0AAAAAAAP6IQJmZmZmZ/YlAMzMzMzP9ikDNzMzMzPyLQGZmZmZm/IxAAAAAAAD8jUCZmZmZmfuOQDMzMzMz+49AZmZmZmZ9kEAzMzMzM/2QQAAAAAAAfZFAzczMzMz8kUCZmZmZmXySQGZmZmZm/JJAMzMzMzN8k0AAAAAAAPyTQM3MzMzMe5RAmZmZmZn7lEBmZmZmZnuVQDMzMzMz+5VAAAAAAAB7lkDNzMzMzPqWQJmZmZmZepdAZmZmZmb6l0AzMzMzM3qYQAAAAAAA+phAzczMzMx5mUCZmZmZmfmZQGZmZmZmeZpAMzMzMzP5mkAAAAAAAHmbQM3MzMzM+JtAmZmZmZl4nEBmZmZmZvicQDMzMzMzeJ1AAAAAAAD4nUDNzMzMzHeeQJmZmZmZ955AZmZmZmZ3n0AzMzMzM/efQAAAAACAO6BAZmZmZmZ7oEDNzMzMTLugQDMzMzMz+6BAmZmZmRk7oUAAAAAAAHuhQGZmZmbmuqFAzczMzMz6oUAzMzMzszqiQJmZmZmZeqJAAAAAAIC6okBmZmZmZvqiQM3MzMxMOqNAMzMzMzN6o0CZmZmZGbqjQAAAAAAA+qNAZmZmZuY5pEDNzMzMzHmkQDMzMzOzuaRAmZmZmZn5pEAAAAAAgDmlQGZmZmZmeaVAzczMzEy5pUAzMzMzM/mlQJmZmZkZOaZAAAAAAAB5pkBmZmZm5rimQM3MzMzM+KZAMzMzM7M4p0CZmZmZmXinQAAAAACAuKdAZmZmZmb4p0DNzMzMTDioQDMzMzMzeKhAmZmZmRm4qEAAAAAAAPioQGZmZmbmN6lAzczMzMx3qUAzMzMzs7epQJmZmZmZ96lAAAAAAIA3qkBmZmZmZneqQM3MzMxMt6pAMzMzMzP3qkCZmZmZGTerQAAAAAAAd6tAZmZmZua2q0DNzMzMzParQDMzMzOzNqxAmZmZmZl2rEAAAAAAgLasQGZmZmZm9qxAzczMzEw2rUAzMzMzM3atQJmZmZkZtq1AAAAAAAD2rUBmZmZm5jWuQM3MzMzMda5AMzMzM7O1rkCZmZmZmfWuQAAAAACANa9AZmZmZmZ1r0DNzMzMTLWvQDMzMzMz9a9AzczMzIwasEAAAAAAgDqwQDMzMzNzWrBAZmZmZmZ6sECZmZmZWZqwQM3MzMxMurBAAAAAAEDasEAzMzMzM/qwQGZmZmYmGrFAmZmZmRk6sUDNzMzMDFqxQA==\",\"dtype\":\"float64\",\"shape\":[140]},\"right\":{\"__ndarray__\":\"mpmZmZl5QECamZmZmTlQQGZmZmZmNlhAmpmZmZkZYEAAAAAAABhkQGZmZmZmFmhAzczMzMwUbECamZmZmQlwQM3MzMzMCHJAAAAAAAAIdEAzMzMzMwd2QGZmZmZmBnhAmZmZmZkFekDNzMzMzAR8QAAAAAAABH5AmpmZmZkBgEAzMzMzMwGBQM3MzMzMAIJAZmZmZmYAg0AAAAAAAACEQJmZmZmZ/4RAMzMzMzP/hUDNzMzMzP6GQGZmZmZm/odAAAAAAAD+iECZmZmZmf2JQDMzMzMz/YpAzczMzMz8i0BmZmZmZvyMQAAAAAAA/I1AmZmZmZn7jkAzMzMzM/uPQGZmZmZmfZBAMzMzMzP9kEAAAAAAAH2RQM3MzMzM/JFAmZmZmZl8kkBmZmZmZvySQDMzMzMzfJNAAAAAAAD8k0DNzMzMzHuUQJmZmZmZ+5RAZmZmZmZ7lUAzMzMzM/uVQAAAAAAAe5ZAzczMzMz6lkCZmZmZmXqXQGZmZmZm+pdAMzMzMzN6mEAAAAAAAPqYQM3MzMzMeZlAmZmZmZn5mUBmZmZmZnmaQDMzMzMz+ZpAAAAAAAB5m0DNzMzMzPibQJmZmZmZeJxAZmZmZmb4nEAzMzMzM3idQAAAAAAA+J1AzczMzMx3nkCZmZmZmfeeQGZmZmZmd59AMzMzMzP3n0AAAAAAgDugQGZmZmZme6BAzczMzEy7oEAzMzMzM/ugQJmZmZkZO6FAAAAAAAB7oUBmZmZm5rqhQM3MzMzM+qFAMzMzM7M6okCZmZmZmXqiQAAAAACAuqJAZmZmZmb6okDNzMzMTDqjQDMzMzMzeqNAmZmZmRm6o0AAAAAAAPqjQGZmZmbmOaRAzczMzMx5pEAzMzMzs7mkQJmZmZmZ+aRAAAAAAIA5pUBmZmZmZnmlQM3MzMxMuaVAMzMzMzP5pUCZmZmZGTmmQAAAAAAAeaZAZmZmZua4pkDNzMzMzPimQDMzMzOzOKdAmZmZmZl4p0AAAAAAgLinQGZmZmZm+KdAzczMzEw4qEAzMzMzM3ioQJmZmZkZuKhAAAAAAAD4qEBmZmZm5jepQM3MzMzMd6lAMzMzM7O3qUCZmZmZmfepQAAAAACAN6pAZmZmZmZ3qkDNzMzMTLeqQDMzMzMz96pAmZmZmRk3q0AAAAAAAHerQGZmZmbmtqtAzczMzMz2q0AzMzMzszasQJmZmZmZdqxAAAAAAIC2rEBmZmZmZvasQM3MzMxMNq1AMzMzMzN2rUCZmZmZGbatQAAAAAAA9q1AZmZmZuY1rkDNzMzMzHWuQDMzMzOzta5AmZmZmZn1rkAAAAAAgDWvQGZmZmZmda9AzczMzEy1r0AzMzMzM/WvQM3MzMyMGrBAAAAAAIA6sEAzMzMzc1qwQGZmZmZmerBAmZmZmVmasEDNzMzMTLqwQAAAAABA2rBAMzMzMzP6sEBmZmZmJhqxQJmZmZkZOrFAzczMzAxasUAAAAAAAHqxQA==\",\"dtype\":\"float64\",\"shape\":[140]},\"top\":{\"__ndarray__\":\"JMhQwC5gjz9jhi7O6PdrP8X+SguirVw/7MlsseFOUz+/rWGTzrBKP3RNsZVtH0o/Nyodr0LgQz/N6n2qBANFP4iKzayjcUQ/p2m8s4C9Qj976Pq8/HdAP8tPNIN1qj4/YBCVfjfNLz+oC4+jJ7c2PwoOEpEvQis/URCVfjfNLz9wEJV+N80vP32KzayjcSQ/RI/Th7OHLT9REJV+N80fP74Lj6MntyY/fYrNrKNxJD/8DRKRL0ILP3AQlX43zR8/UgkMth8sEj8XDhKRL0IbP1EQlX43zR8/UgkMth8sEj8XDhKRL0IbP1IJDLYfLBI/ZQkMth8sEj9SCQy2HyzyPhcOEpEvQgs/UgkMth8sEj+oC4+jJ7cWP/wNEpEvQgs/dwkMth8sAj9SCQy2HywSP1IJDLYfLAI//A0SkS9CCz9SCQy2HywCPzIOEpEvQgs//A0SkS9CCz/8DRKRL0ILP1IJDLYfLAI/UgkMth8sEj93CQy2HyzyPvwNEpEvQgs/UgkMth8s8j5SCQy2HywCP1IJDLYfLPI+dwkMth8sAj8AAAAAAAAAAFIJDLYfLPI+UgkMth8sAj/8DRKRL0ILP3cJDLYfLPI+AAAAAAAAAAAAAAAAAAAAAAAAAAAAAAAAUgkMth8s8j4AAAAAAAAAAPwNEpEvQgs/UgkMth8s8j5SCQy2HywSPwAAAAAAAAAALgkMth8s8j4AAAAAAAAAAHcJDLYfLPI+AAAAAAAAAAAAAAAAAAAAAAAAAAAAAAAAAAAAAAAAAAAAAAAAAAAAAC4JDLYfLAI/dwkMth8s8j4uCQy2HyzyPncJDLYfLPI+dwkMth8s8j4AAAAAAAAAAHcJDLYfLPI+LgkMth8sAj8AAAAAAAAAAAAAAAAAAAAALgkMth8sAj93CQy2HyzyPi4JDLYfLAI/AAAAAAAAAAB3CQy2HyzyPi4JDLYfLPI+AAAAAAAAAAAAAAAAAAAAAAAAAAAAAAAAdwkMth8s8j4uCQy2HyzyPncJDLYfLPI+AAAAAAAAAAB3CQy2HyzyPgAAAAAAAAAALgkMth8s8j4AAAAAAAAAAAAAAAAAAAAAAAAAAAAAAAAAAAAAAAAAAAAAAAAAAAAAAAAAAAAAAAAAAAAAAAAAAHcJDLYfLPI+AAAAAAAAAAAAAAAAAAAAAHcJDLYfLPI+AAAAAAAAAAAAAAAAAAAAAAAAAAAAAAAAAAAAAAAAAAAAAAAAAAAAAAAAAAAAAAAAAAAAAAAAAAB3CQy2HyzyPgAAAAAAAAAAAAAAAAAAAAAAAAAAAAAAAAAAAAAAAAAAdwkMth8s8j4AAAAAAAAAAAAAAAAAAAAAAAAAAAAAAAAAAAAAAAAAAAAAAAAAAAAAAAAAAAAAAAAAAAAAAAAAAHcJDLYfLPI+AAAAAAAAAAAAAAAAAAAAAAAAAAAAAAAAAAAAAAAAAAAAAAAAAAAAAAAAAAAAAAAAAAAAAAAAAAB3CQy2HyzyPg==\",\"dtype\":\"float64\",\"shape\":[140]}}},\"id\":\"8acb1731-8dd2-46f0-b2b8-275375edd0e6\",\"type\":\"ColumnDataSource\"},{\"attributes\":{},\"id\":\"e88d869d-1679-4637-9660-0ecd4dd4799a\",\"type\":\"BasicTickFormatter\"},{\"attributes\":{},\"id\":\"3264dd75-02df-4420-8efe-c7e7f97e2b9d\",\"type\":\"WheelZoomTool\"},{\"attributes\":{\"source\":{\"id\":\"8acb1731-8dd2-46f0-b2b8-275375edd0e6\",\"type\":\"ColumnDataSource\"}},\"id\":\"67474bd4-3bf7-405f-92e1-0458e2e3aae7\",\"type\":\"CDSView\"},{\"attributes\":{},\"id\":\"00ffcca8-babf-41c7-bd2e-eb45999c9886\",\"type\":\"BasicTickFormatter\"},{\"attributes\":{\"dimension\":1,\"plot\":{\"id\":\"17e19ce8-0bd1-4f72-b0f7-aa7afa73ce6f\",\"subtype\":\"Figure\",\"type\":\"Plot\"},\"ticker\":{\"id\":\"b3de7c9e-e180-44d9-a6d2-89915a161a6f\",\"type\":\"BasicTicker\"}},\"id\":\"410bbf7e-c285-43b0-b445-f341042c1820\",\"type\":\"Grid\"},{\"attributes\":{},\"id\":\"b3d3058c-f735-4f93-aee2-bb12a5d13de2\",\"type\":\"SaveTool\"},{\"attributes\":{\"data_source\":{\"id\":\"8acb1731-8dd2-46f0-b2b8-275375edd0e6\",\"type\":\"ColumnDataSource\"},\"glyph\":{\"id\":\"cc8ddd64-bcb9-460e-8129-2daf572fdba7\",\"type\":\"Quad\"},\"hover_glyph\":null,\"muted_glyph\":null,\"nonselection_glyph\":{\"id\":\"54d5fd53-2d30-4cfa-a159-5769b0eae010\",\"type\":\"Quad\"},\"selection_glyph\":null,\"view\":{\"id\":\"67474bd4-3bf7-405f-92e1-0458e2e3aae7\",\"type\":\"CDSView\"}},\"id\":\"b2b543f9-129f-4ff3-b91a-623292cf9ac6\",\"type\":\"GlyphRenderer\"},{\"attributes\":{},\"id\":\"990f1b17-9b74-447c-b98f-f6fb57413eca\",\"type\":\"LinearScale\"},{\"attributes\":{\"axis_label\":\"Percentage of targets\",\"formatter\":{\"id\":\"e88d869d-1679-4637-9660-0ecd4dd4799a\",\"type\":\"BasicTickFormatter\"},\"plot\":{\"id\":\"17e19ce8-0bd1-4f72-b0f7-aa7afa73ce6f\",\"subtype\":\"Figure\",\"type\":\"Plot\"},\"ticker\":{\"id\":\"b3de7c9e-e180-44d9-a6d2-89915a161a6f\",\"type\":\"BasicTicker\"}},\"id\":\"0128a61e-e6c1-4d4e-9c1c-2c4fbd53b63c\",\"type\":\"LinearAxis\"},{\"attributes\":{},\"id\":\"60005900-0036-44dd-a7cf-9507feec662d\",\"type\":\"BasicTicker\"},{\"attributes\":{\"below\":[{\"id\":\"6e17c67d-515d-49f9-b269-1e8b4c0fd83a\",\"type\":\"LinearAxis\"}],\"extra_y_ranges\":{\"y2\":{\"id\":\"b833ae37-335c-4829-8eea-8d5924613e93\",\"type\":\"DataRange1d\"}},\"left\":[{\"id\":\"0128a61e-e6c1-4d4e-9c1c-2c4fbd53b63c\",\"type\":\"LinearAxis\"}],\"renderers\":[{\"id\":\"6e17c67d-515d-49f9-b269-1e8b4c0fd83a\",\"type\":\"LinearAxis\"},{\"id\":\"9697c0cc-eeec-4d80-aa89-0ff73e7621c2\",\"type\":\"Grid\"},{\"id\":\"0128a61e-e6c1-4d4e-9c1c-2c4fbd53b63c\",\"type\":\"LinearAxis\"},{\"id\":\"410bbf7e-c285-43b0-b445-f341042c1820\",\"type\":\"Grid\"},{\"id\":\"92108554-ac1c-4899-81bf-0293639ea80a\",\"type\":\"BoxAnnotation\"},{\"id\":\"b2b543f9-129f-4ff3-b91a-623292cf9ac6\",\"type\":\"GlyphRenderer\"},{\"id\":\"c6afdbe1-f37f-4985-b4f3-3149feb8c650\",\"type\":\"LinearAxis\"}],\"right\":[{\"id\":\"c6afdbe1-f37f-4985-b4f3-3149feb8c650\",\"type\":\"LinearAxis\"}],\"title\":{\"id\":\"4361b21d-060e-42e0-9738-89f62be064af\",\"type\":\"Title\"},\"toolbar\":{\"id\":\"85177cb7-a214-4de6-8874-2b58739ca2ed\",\"type\":\"Toolbar\"},\"x_range\":{\"id\":\"22acaabb-43da-4ae5-aaec-2d534094e057\",\"type\":\"DataRange1d\"},\"x_scale\":{\"id\":\"990f1b17-9b74-447c-b98f-f6fb57413eca\",\"type\":\"LinearScale\"},\"y_range\":{\"id\":\"0aa91622-8c0a-4711-a3a5-d5b13602d33f\",\"type\":\"DataRange1d\"},\"y_scale\":{\"id\":\"360a0fc8-f3a1-4ad0-a8da-4b40884ac563\",\"type\":\"LinearScale\"}},\"id\":\"17e19ce8-0bd1-4f72-b0f7-aa7afa73ce6f\",\"subtype\":\"Figure\",\"type\":\"Plot\"}],\"root_ids\":[\"17e19ce8-0bd1-4f72-b0f7-aa7afa73ce6f\"]},\"title\":\"Bokeh Application\",\"version\":\"0.12.13\"}};\n",
       "  var render_items = [{\"docid\":\"8d583679-7c19-4968-b414-08ee50061a47\",\"elementid\":\"cbb6e73a-7ae6-47d2-89c3-8e66feb890fb\",\"modelid\":\"17e19ce8-0bd1-4f72-b0f7-aa7afa73ce6f\",\"notebook_comms_target\":\"a87c3267-5be3-4d3d-a910-baa214fabf25\"}];\n",
       "  root.Bokeh.embed.embed_items_notebook(docs_json, render_items);\n",
       "\n",
       "  }\n",
       "  if (root.Bokeh !== undefined) {\n",
       "    embed_document(root);\n",
       "  } else {\n",
       "    var attempts = 0;\n",
       "    var timer = setInterval(function(root) {\n",
       "      if (root.Bokeh !== undefined) {\n",
       "        embed_document(root);\n",
       "        clearInterval(timer);\n",
       "      }\n",
       "      attempts++;\n",
       "      if (attempts > 100) {\n",
       "        console.log(\"Bokeh: ERROR: Unable to run BokehJS code because BokehJS library is missing\")\n",
       "        clearInterval(timer);\n",
       "      }\n",
       "    }, 10, root)\n",
       "  }\n",
       "})(window);"
      ],
      "application/vnd.bokehjs_exec.v0+json": ""
     },
     "metadata": {
      "application/vnd.bokehjs_exec.v0+json": {
       "id": "17e19ce8-0bd1-4f72-b0f7-aa7afa73ce6f"
      }
     },
     "output_type": "display_data"
    },
    {
     "data": {
      "text/html": [
       "<p><code>&lt;Bokeh Notebook handle for <strong>In[88]</strong>&gt;</code></p>"
      ],
      "text/plain": [
       "<bokeh.io.notebook.CommsHandle at 0x11b0ec110>"
      ]
     },
     "execution_count": 88,
     "metadata": {},
     "output_type": "execute_result"
    }
   ],
   "source": [
    "show(p1, notebook_handle=True)"
   ]
  },
  {
   "cell_type": "code",
   "execution_count": 73,
   "metadata": {
    "scrolled": true
   },
   "outputs": [
    {
     "data": {
      "text/html": [
       "\n",
       "<div class=\"bk-root\">\n",
       "    <div class=\"bk-plotdiv\" id=\"96707bcf-530d-4c4a-bd1c-828cc1ecb7d6\"></div>\n",
       "</div>"
      ]
     },
     "metadata": {},
     "output_type": "display_data"
    },
    {
     "data": {
      "application/javascript": [
       "(function(root) {\n",
       "  function embed_document(root) {\n",
       "    \n",
       "  var docs_json = {\"de330436-33c4-4263-96ed-625fa111030d\":{\"roots\":{\"references\":[{\"attributes\":{},\"id\":\"4b1b862e-8a69-465f-a06b-28f77b23100a\",\"type\":\"WheelZoomTool\"},{\"attributes\":{\"data_source\":{\"id\":\"cab74f58-7d88-4973-bb6a-da40b08bd47e\",\"type\":\"ColumnDataSource\"},\"glyph\":{\"id\":\"b2980546-c106-4350-8eb8-1b50d7230917\",\"type\":\"Quad\"},\"hover_glyph\":null,\"muted_glyph\":null,\"nonselection_glyph\":{\"id\":\"d3f8b7e9-a9a8-461a-ab56-d34bf14336f5\",\"type\":\"Quad\"},\"selection_glyph\":null,\"view\":{\"id\":\"acd409fe-50a3-4eca-9097-63130c6e0a67\",\"type\":\"CDSView\"}},\"id\":\"5bd202e5-fc41-4bd8-a287-4f605c38a8d4\",\"type\":\"GlyphRenderer\"},{\"attributes\":{\"source\":{\"id\":\"cab74f58-7d88-4973-bb6a-da40b08bd47e\",\"type\":\"ColumnDataSource\"}},\"id\":\"acd409fe-50a3-4eca-9097-63130c6e0a67\",\"type\":\"CDSView\"},{\"attributes\":{},\"id\":\"5a21d651-7eee-499c-a7e2-8c23244ae9b9\",\"type\":\"PanTool\"},{\"attributes\":{},\"id\":\"1add5f8f-5694-4780-a06a-c357df5d8c42\",\"type\":\"BasicTickFormatter\"},{\"attributes\":{},\"id\":\"e1bc78c1-309d-4484-b4e7-232aad32db7d\",\"type\":\"LinearScale\"},{\"attributes\":{\"bottom\":{\"value\":0},\"fill_alpha\":{\"value\":0.1},\"fill_color\":{\"value\":\"#1f77b4\"},\"left\":{\"field\":\"left\"},\"line_alpha\":{\"value\":0.1},\"line_color\":{\"value\":\"#1f77b4\"},\"right\":{\"field\":\"right\"},\"top\":{\"field\":\"top\"}},\"id\":\"d3f8b7e9-a9a8-461a-ab56-d34bf14336f5\",\"type\":\"Quad\"},{\"attributes\":{\"callback\":null,\"column_names\":[\"left\",\"top\",\"right\"],\"data\":{\"left\":{\"__ndarray__\":\"AAAAAAAA8D8AAAAAADBvQAAAAAAAIH9AAAAAAABUh0AAAAAAABiPQAAAAAAAbpNAAAAAAABQl0AAAAAAADKbQAAAAAAAFJ9AAAAAAAB7oUAAAAAAAGyjQAAAAAAAXaVAAAAAAABOp0AAAAAAAD+pQAAAAAAAMKtAAAAAAAAhrUAAAAAAABKvQAAAAACAgbBA\",\"dtype\":\"float64\",\"shape\":[18]},\"right\":{\"__ndarray__\":\"AAAAAAAwb0AAAAAAACB/QAAAAAAAVIdAAAAAAAAYj0AAAAAAAG6TQAAAAAAAUJdAAAAAAAAym0AAAAAAABSfQAAAAAAAe6FAAAAAAABso0AAAAAAAF2lQAAAAAAATqdAAAAAAAA/qUAAAAAAADCrQAAAAAAAIa1AAAAAAAASr0AAAAAAgIGwQAAAAAAAerFA\",\"dtype\":\"float64\",\"shape\":[18]},\"top\":{\"__ndarray__\":\"0AKvasKuaT95Un1t4QM7P4Jq/Kw8MiY/1l9hAsXHFj8jFSRYf94KP3sqWq1uswk/KlXGV01d9z431QpX6VrwPipVxldNXfc+KlXGV01d5z7M/+0CkAnsPsz/7QKQCew+iaqerAqx4j6Jqp6sCrHCPomqnqwKscI+iaqerAqx0j6Jqp6sCrHCPomqnqwKscI+\",\"dtype\":\"float64\",\"shape\":[18]}}},\"id\":\"cab74f58-7d88-4973-bb6a-da40b08bd47e\",\"type\":\"ColumnDataSource\"},{\"attributes\":{},\"id\":\"0f6e91b4-2c6f-4ed8-834c-de274ed8c067\",\"type\":\"BasicTicker\"},{\"attributes\":{\"formatter\":{\"id\":\"1add5f8f-5694-4780-a06a-c357df5d8c42\",\"type\":\"BasicTickFormatter\"},\"plot\":{\"id\":\"f3ca563d-0d0e-42ea-9268-35ec230f8fcb\",\"subtype\":\"Figure\",\"type\":\"Plot\"},\"ticker\":{\"id\":\"aff4e46b-d055-4e00-b22b-91d95e5a3b69\",\"type\":\"BasicTicker\"}},\"id\":\"84112969-c679-4206-b570-9aaf4f44240b\",\"type\":\"LinearAxis\"},{\"attributes\":{\"formatter\":{\"id\":\"526d58fa-c222-4dee-ad38-8867194355e8\",\"type\":\"BasicTickFormatter\"},\"plot\":{\"id\":\"f3ca563d-0d0e-42ea-9268-35ec230f8fcb\",\"subtype\":\"Figure\",\"type\":\"Plot\"},\"ticker\":{\"id\":\"0f6e91b4-2c6f-4ed8-834c-de274ed8c067\",\"type\":\"BasicTicker\"}},\"id\":\"3493e614-9153-4483-8ca2-6a0f8feebe43\",\"type\":\"LinearAxis\"},{\"attributes\":{},\"id\":\"0c7833e1-fcbc-457b-a11e-ffe96a4dd7d8\",\"type\":\"HelpTool\"},{\"attributes\":{},\"id\":\"aff4e46b-d055-4e00-b22b-91d95e5a3b69\",\"type\":\"BasicTicker\"},{\"attributes\":{\"active_drag\":\"auto\",\"active_inspect\":\"auto\",\"active_scroll\":\"auto\",\"active_tap\":\"auto\",\"tools\":[{\"id\":\"5a21d651-7eee-499c-a7e2-8c23244ae9b9\",\"type\":\"PanTool\"},{\"id\":\"4b1b862e-8a69-465f-a06b-28f77b23100a\",\"type\":\"WheelZoomTool\"},{\"id\":\"27352954-2129-49db-89f6-b08a3c459e67\",\"type\":\"BoxZoomTool\"},{\"id\":\"db51424b-2bfe-4565-8630-f480fa7ee2c5\",\"type\":\"SaveTool\"},{\"id\":\"3b3fe786-d57a-4170-8206-386c5f380ce8\",\"type\":\"ResetTool\"},{\"id\":\"0c7833e1-fcbc-457b-a11e-ffe96a4dd7d8\",\"type\":\"HelpTool\"}]},\"id\":\"f381240b-8d30-4752-b341-8a7d75dcc791\",\"type\":\"Toolbar\"},{\"attributes\":{\"callback\":null},\"id\":\"80592a4e-3bf2-4bd8-948b-3a4e675ed1e8\",\"type\":\"DataRange1d\"},{\"attributes\":{},\"id\":\"3b3fe786-d57a-4170-8206-386c5f380ce8\",\"type\":\"ResetTool\"},{\"attributes\":{},\"id\":\"db51424b-2bfe-4565-8630-f480fa7ee2c5\",\"type\":\"SaveTool\"},{\"attributes\":{\"callback\":null},\"id\":\"49a8952f-bc29-406d-bd33-3bbe75192cc8\",\"type\":\"DataRange1d\"},{\"attributes\":{\"dimension\":1,\"plot\":{\"id\":\"f3ca563d-0d0e-42ea-9268-35ec230f8fcb\",\"subtype\":\"Figure\",\"type\":\"Plot\"},\"ticker\":{\"id\":\"aff4e46b-d055-4e00-b22b-91d95e5a3b69\",\"type\":\"BasicTicker\"}},\"id\":\"7cc25f38-f1ff-4cb4-9215-93e2a8a1dec1\",\"type\":\"Grid\"},{\"attributes\":{\"below\":[{\"id\":\"3493e614-9153-4483-8ca2-6a0f8feebe43\",\"type\":\"LinearAxis\"}],\"left\":[{\"id\":\"84112969-c679-4206-b570-9aaf4f44240b\",\"type\":\"LinearAxis\"}],\"renderers\":[{\"id\":\"3493e614-9153-4483-8ca2-6a0f8feebe43\",\"type\":\"LinearAxis\"},{\"id\":\"2a53cc0a-11ba-4807-a445-993a2e2de4b6\",\"type\":\"Grid\"},{\"id\":\"84112969-c679-4206-b570-9aaf4f44240b\",\"type\":\"LinearAxis\"},{\"id\":\"7cc25f38-f1ff-4cb4-9215-93e2a8a1dec1\",\"type\":\"Grid\"},{\"id\":\"1ff5c72a-d5ad-43ca-bab1-e4393baa59b4\",\"type\":\"BoxAnnotation\"},{\"id\":\"5bd202e5-fc41-4bd8-a287-4f605c38a8d4\",\"type\":\"GlyphRenderer\"}],\"title\":{\"id\":\"8c23d2c5-7099-4a63-aa8f-7293edc6cdcb\",\"type\":\"Title\"},\"toolbar\":{\"id\":\"f381240b-8d30-4752-b341-8a7d75dcc791\",\"type\":\"Toolbar\"},\"x_range\":{\"id\":\"80592a4e-3bf2-4bd8-948b-3a4e675ed1e8\",\"type\":\"DataRange1d\"},\"x_scale\":{\"id\":\"e1bc78c1-309d-4484-b4e7-232aad32db7d\",\"type\":\"LinearScale\"},\"y_range\":{\"id\":\"49a8952f-bc29-406d-bd33-3bbe75192cc8\",\"type\":\"DataRange1d\"},\"y_scale\":{\"id\":\"5e0e8e52-0855-42fd-b402-af087aa34c17\",\"type\":\"LinearScale\"}},\"id\":\"f3ca563d-0d0e-42ea-9268-35ec230f8fcb\",\"subtype\":\"Figure\",\"type\":\"Plot\"},{\"attributes\":{},\"id\":\"5e0e8e52-0855-42fd-b402-af087aa34c17\",\"type\":\"LinearScale\"},{\"attributes\":{\"plot\":{\"id\":\"f3ca563d-0d0e-42ea-9268-35ec230f8fcb\",\"subtype\":\"Figure\",\"type\":\"Plot\"},\"ticker\":{\"id\":\"0f6e91b4-2c6f-4ed8-834c-de274ed8c067\",\"type\":\"BasicTicker\"}},\"id\":\"2a53cc0a-11ba-4807-a445-993a2e2de4b6\",\"type\":\"Grid\"},{\"attributes\":{\"overlay\":{\"id\":\"1ff5c72a-d5ad-43ca-bab1-e4393baa59b4\",\"type\":\"BoxAnnotation\"}},\"id\":\"27352954-2129-49db-89f6-b08a3c459e67\",\"type\":\"BoxZoomTool\"},{\"attributes\":{},\"id\":\"526d58fa-c222-4dee-ad38-8867194355e8\",\"type\":\"BasicTickFormatter\"},{\"attributes\":{\"bottom\":{\"value\":0},\"fill_color\":{\"value\":\"#fc8d59\"},\"left\":{\"field\":\"left\"},\"line_color\":{\"value\":\"#1f77b4\"},\"right\":{\"field\":\"right\"},\"top\":{\"field\":\"top\"}},\"id\":\"b2980546-c106-4350-8eb8-1b50d7230917\",\"type\":\"Quad\"},{\"attributes\":{\"plot\":null,\"text\":\"\"},\"id\":\"8c23d2c5-7099-4a63-aa8f-7293edc6cdcb\",\"type\":\"Title\"},{\"attributes\":{\"bottom_units\":\"screen\",\"fill_alpha\":{\"value\":0.5},\"fill_color\":{\"value\":\"lightgrey\"},\"left_units\":\"screen\",\"level\":\"overlay\",\"line_alpha\":{\"value\":1.0},\"line_color\":{\"value\":\"black\"},\"line_dash\":[4,4],\"line_width\":{\"value\":2},\"plot\":null,\"render_mode\":\"css\",\"right_units\":\"screen\",\"top_units\":\"screen\"},\"id\":\"1ff5c72a-d5ad-43ca-bab1-e4393baa59b4\",\"type\":\"BoxAnnotation\"}],\"root_ids\":[\"f3ca563d-0d0e-42ea-9268-35ec230f8fcb\"]},\"title\":\"Bokeh Application\",\"version\":\"0.12.13\"}};\n",
       "  var render_items = [{\"docid\":\"de330436-33c4-4263-96ed-625fa111030d\",\"elementid\":\"96707bcf-530d-4c4a-bd1c-828cc1ecb7d6\",\"modelid\":\"f3ca563d-0d0e-42ea-9268-35ec230f8fcb\",\"notebook_comms_target\":\"246f024a-f62c-4444-ae6e-34ccb14d0274\"}];\n",
       "  root.Bokeh.embed.embed_items_notebook(docs_json, render_items);\n",
       "\n",
       "  }\n",
       "  if (root.Bokeh !== undefined) {\n",
       "    embed_document(root);\n",
       "  } else {\n",
       "    var attempts = 0;\n",
       "    var timer = setInterval(function(root) {\n",
       "      if (root.Bokeh !== undefined) {\n",
       "        embed_document(root);\n",
       "        clearInterval(timer);\n",
       "      }\n",
       "      attempts++;\n",
       "      if (attempts > 100) {\n",
       "        console.log(\"Bokeh: ERROR: Unable to run BokehJS code because BokehJS library is missing\")\n",
       "        clearInterval(timer);\n",
       "      }\n",
       "    }, 10, root)\n",
       "  }\n",
       "})(window);"
      ],
      "application/vnd.bokehjs_exec.v0+json": ""
     },
     "metadata": {
      "application/vnd.bokehjs_exec.v0+json": {
       "id": "f3ca563d-0d0e-42ea-9268-35ec230f8fcb"
      }
     },
     "output_type": "display_data"
    },
    {
     "data": {
      "text/html": [
       "<p><code>&lt;Bokeh Notebook handle for <strong>In[73]</strong>&gt;</code></p>"
      ],
      "text/plain": [
       "<bokeh.io.notebook.CommsHandle at 0x119a0ec90>"
      ]
     },
     "execution_count": 73,
     "metadata": {},
     "output_type": "execute_result"
    }
   ],
   "source": [
    "p1 = figure()\n",
    "p1.quad(top=tmc_hist, bottom=0, left=tmc_h_edges[:-1], right=tmc_h_edges[1:],\n",
    "        fill_color=Spectral6[4])\n",
    "\n",
    "show(p1, notebook_handle=True)"
   ]
  },
  {
   "cell_type": "code",
   "execution_count": 95,
   "metadata": {},
   "outputs": [],
   "source": [
    "from pymongo import MongoClient\n",
    "import gridfs\n",
    "db = MongoClient().sacred\n",
    "fs = gridfs.GridFS(db)\n",
    "cth = fs.find_one({\"filename\": 'artifact://runs/24/Compound target histogram'})\n",
    "data = np.load(cth)"
   ]
  },
  {
   "cell_type": "code",
   "execution_count": 96,
   "metadata": {},
   "outputs": [
    {
     "data": {
      "text/plain": [
       "['count', 'density_edges', 'count_edges', 'density']"
      ]
     },
     "execution_count": 96,
     "metadata": {},
     "output_type": "execute_result"
    }
   ],
   "source": [
    "data.files"
   ]
  },
  {
   "cell_type": "code",
   "execution_count": 97,
   "metadata": {
    "scrolled": true
   },
   "outputs": [
    {
     "data": {
      "text/html": [
       "\n",
       "<div class=\"bk-root\">\n",
       "    <div class=\"bk-plotdiv\" id=\"9933986b-7f88-478d-8385-d7c6828f9204\"></div>\n",
       "</div>"
      ]
     },
     "metadata": {},
     "output_type": "display_data"
    },
    {
     "data": {
      "application/javascript": [
       "(function(root) {\n",
       "  function embed_document(root) {\n",
       "    \n",
       "  var docs_json = {\"c671713d-b420-4908-8a83-1206faf1a9ad\":{\"roots\":{\"references\":[{\"attributes\":{},\"id\":\"7c7ab7c4-15ea-4a2d-aef7-1eef157d3a67\",\"type\":\"BasicTickFormatter\"},{\"attributes\":{\"bottom\":{\"value\":0},\"fill_alpha\":{\"value\":0.1},\"fill_color\":{\"value\":\"#1f77b4\"},\"left\":{\"field\":\"left\"},\"line_alpha\":{\"value\":0.1},\"line_color\":{\"value\":\"#1f77b4\"},\"right\":{\"field\":\"right\"},\"top\":{\"field\":\"top\"}},\"id\":\"338100a0-b864-4ec8-af26-8cdfc6bafe70\",\"type\":\"Quad\"},{\"attributes\":{},\"id\":\"10a8e2fa-a3e0-4fae-8fc1-ae36aae69333\",\"type\":\"SaveTool\"},{\"attributes\":{\"bottom_units\":\"screen\",\"fill_alpha\":{\"value\":0.5},\"fill_color\":{\"value\":\"lightgrey\"},\"left_units\":\"screen\",\"level\":\"overlay\",\"line_alpha\":{\"value\":1.0},\"line_color\":{\"value\":\"black\"},\"line_dash\":[4,4],\"line_width\":{\"value\":2},\"plot\":null,\"render_mode\":\"css\",\"right_units\":\"screen\",\"top_units\":\"screen\"},\"id\":\"11d18b5e-81d3-486c-a7e5-c32c30202f89\",\"type\":\"BoxAnnotation\"},{\"attributes\":{\"axis_label\":\"Percentage of targets\",\"formatter\":{\"id\":\"cf12ab0a-1e16-4ef4-b24f-3f57f9e5f3e9\",\"type\":\"BasicTickFormatter\"},\"plot\":{\"id\":\"667072ba-81ee-4ceb-80e8-7a33261115e4\",\"subtype\":\"Figure\",\"type\":\"Plot\"},\"ticker\":{\"id\":\"5afece76-6509-412e-83a2-944800902467\",\"type\":\"BasicTicker\"}},\"id\":\"99b68853-54cd-4895-aff2-4048c5db6900\",\"type\":\"LinearAxis\"},{\"attributes\":{},\"id\":\"5afece76-6509-412e-83a2-944800902467\",\"type\":\"BasicTicker\"},{\"attributes\":{},\"id\":\"1a1f05b3-76d1-46b0-8e60-937dac59e499\",\"type\":\"ResetTool\"},{\"attributes\":{\"bottom\":{\"value\":0},\"fill_color\":{\"value\":\"#99d594\"},\"left\":{\"field\":\"left\"},\"line_color\":{\"value\":\"#1f77b4\"},\"right\":{\"field\":\"right\"},\"top\":{\"field\":\"top\"}},\"id\":\"02e7ec95-30c8-4bba-b862-e2af9130327b\",\"type\":\"Quad\"},{\"attributes\":{\"dimension\":1,\"plot\":{\"id\":\"667072ba-81ee-4ceb-80e8-7a33261115e4\",\"subtype\":\"Figure\",\"type\":\"Plot\"},\"ticker\":{\"id\":\"5afece76-6509-412e-83a2-944800902467\",\"type\":\"BasicTicker\"}},\"id\":\"ff1d9b00-ab18-42dc-bee8-189fbf346fee\",\"type\":\"Grid\"},{\"attributes\":{},\"id\":\"cf12ab0a-1e16-4ef4-b24f-3f57f9e5f3e9\",\"type\":\"BasicTickFormatter\"},{\"attributes\":{\"source\":{\"id\":\"1360960d-11ae-4f36-89ba-5f9a81eb7e5e\",\"type\":\"ColumnDataSource\"}},\"id\":\"e44a55e0-3d67-4a75-9f46-f55d27799f32\",\"type\":\"CDSView\"},{\"attributes\":{},\"id\":\"5326afbb-9e24-44c3-9c93-024caa0a5c79\",\"type\":\"WheelZoomTool\"},{\"attributes\":{\"callback\":null},\"id\":\"65a7846f-328d-4c58-9ca8-0795a7fcab67\",\"type\":\"DataRange1d\"},{\"attributes\":{\"active_drag\":\"auto\",\"active_inspect\":\"auto\",\"active_scroll\":\"auto\",\"active_tap\":\"auto\",\"tools\":[{\"id\":\"fe6386d1-4ed8-4147-9aa5-54d4908df724\",\"type\":\"PanTool\"},{\"id\":\"5326afbb-9e24-44c3-9c93-024caa0a5c79\",\"type\":\"WheelZoomTool\"},{\"id\":\"246370b7-bce4-4d67-ac1b-dc4ed526a98f\",\"type\":\"BoxZoomTool\"},{\"id\":\"10a8e2fa-a3e0-4fae-8fc1-ae36aae69333\",\"type\":\"SaveTool\"},{\"id\":\"1a1f05b3-76d1-46b0-8e60-937dac59e499\",\"type\":\"ResetTool\"},{\"id\":\"73d8f1c1-a4e5-46ec-b41f-1b53c81b6c39\",\"type\":\"HelpTool\"}]},\"id\":\"9a234f88-3321-488d-a80d-ef771f33993e\",\"type\":\"Toolbar\"},{\"attributes\":{},\"id\":\"73d8f1c1-a4e5-46ec-b41f-1b53c81b6c39\",\"type\":\"HelpTool\"},{\"attributes\":{},\"id\":\"6c3e6ab6-40e5-4206-a10b-c1e43cddf846\",\"type\":\"LinearScale\"},{\"attributes\":{},\"id\":\"b1a74753-4d80-4122-949b-ce8c04d62437\",\"type\":\"LinearScale\"},{\"attributes\":{\"below\":[{\"id\":\"dea6b96a-9907-44b7-b9a2-9b52118c0e54\",\"type\":\"LinearAxis\"}],\"left\":[{\"id\":\"99b68853-54cd-4895-aff2-4048c5db6900\",\"type\":\"LinearAxis\"}],\"renderers\":[{\"id\":\"dea6b96a-9907-44b7-b9a2-9b52118c0e54\",\"type\":\"LinearAxis\"},{\"id\":\"0ff55ba2-0937-4914-897b-c38bbb19e009\",\"type\":\"Grid\"},{\"id\":\"99b68853-54cd-4895-aff2-4048c5db6900\",\"type\":\"LinearAxis\"},{\"id\":\"ff1d9b00-ab18-42dc-bee8-189fbf346fee\",\"type\":\"Grid\"},{\"id\":\"11d18b5e-81d3-486c-a7e5-c32c30202f89\",\"type\":\"BoxAnnotation\"},{\"id\":\"2004da0f-7f81-408f-821e-5cd7977bdfb5\",\"type\":\"GlyphRenderer\"}],\"title\":{\"id\":\"8ee3bb53-3251-46bd-9cb2-b0c954ccba92\",\"type\":\"Title\"},\"toolbar\":{\"id\":\"9a234f88-3321-488d-a80d-ef771f33993e\",\"type\":\"Toolbar\"},\"x_range\":{\"id\":\"65a7846f-328d-4c58-9ca8-0795a7fcab67\",\"type\":\"DataRange1d\"},\"x_scale\":{\"id\":\"6c3e6ab6-40e5-4206-a10b-c1e43cddf846\",\"type\":\"LinearScale\"},\"y_range\":{\"id\":\"d8b14709-172a-4009-bb07-969a87fa6a88\",\"type\":\"DataRange1d\"},\"y_scale\":{\"id\":\"b1a74753-4d80-4122-949b-ce8c04d62437\",\"type\":\"LinearScale\"}},\"id\":\"667072ba-81ee-4ceb-80e8-7a33261115e4\",\"subtype\":\"Figure\",\"type\":\"Plot\"},{\"attributes\":{},\"id\":\"280d5615-2c4c-4f69-969f-56d1869c29e7\",\"type\":\"BasicTicker\"},{\"attributes\":{\"callback\":null,\"column_names\":[\"left\",\"top\",\"right\"],\"data\":{\"left\":{\"__ndarray__\":\"AAAAAAAA8D8AAAAAAMABQAAAAAAAgAtAAAAAAACgEkAAAAAAAIAXQAAAAAAAYBxAAAAAAACgIEAAAAAAABAjQAAAAAAAgCVAAAAAAADwJ0AAAAAAAGAqQAAAAAAA0CxAAAAAAABAL0AAAAAAANgwQAAAAAAAEDJAAAAAAABIM0AAAAAAAIA0QAAAAAAAuDVAAAAAAADwNkAAAAAAACg4QAAAAAAAYDlAAAAAAACYOkAAAAAAANA7QAAAAAAACD1AAAAAAABAPkAAAAAAAHg/QAAAAAAAWEBAAAAAAAD0QEAAAAAAAJBBQAAAAAAALEJAAAAAAADIQkAAAAAAAGRDQA==\",\"dtype\":\"float64\",\"shape\":[32]},\"right\":{\"__ndarray__\":\"AAAAAADAAUAAAAAAAIALQAAAAAAAoBJAAAAAAACAF0AAAAAAAGAcQAAAAAAAoCBAAAAAAAAQI0AAAAAAAIAlQAAAAAAA8CdAAAAAAABgKkAAAAAAANAsQAAAAAAAQC9AAAAAAADYMEAAAAAAABAyQAAAAAAASDNAAAAAAACANEAAAAAAALg1QAAAAAAA8DZAAAAAAAAoOEAAAAAAAGA5QAAAAAAAmDpAAAAAAADQO0AAAAAAAAg9QAAAAAAAQD5AAAAAAAB4P0AAAAAAAFhAQAAAAAAA9EBAAAAAAACQQUAAAAAAACxCQAAAAAAAyEJAAAAAAABkQ0AAAAAAAABEQA==\",\"dtype\":\"float64\",\"shape\":[32]},\"top\":{\"__ndarray__\":\"77N1p+rB2j+A0R9R2XO4PzvflW2BpaU/xcOpNDFCqz8735VtgaWlP7D6gabRCJA/510217WneT9txmhhyD2TPyqSTxy/cpY/SyzcvkPYlD9txmhhyD2DP7D6gabRCIA/bcZoYcg9cz9txmhhyD2DP+ddNte1p1k/bcZoYcg9cz9txmhhyD1zP23GaGHIPXM/pCkdkqzcjD9txmhhyD1zP+ddNte1p3k/AAAAAAAAAADnXTbXtadpPwAAAAAAAAAA510217WnWT/nXTbXtadZPwAAAAAAAAAA510217WneT8AAAAAAAAAAAAAAAAAAAAAAAAAAAAAAADnXTbXtadZPw==\",\"dtype\":\"float64\",\"shape\":[32]}}},\"id\":\"1360960d-11ae-4f36-89ba-5f9a81eb7e5e\",\"type\":\"ColumnDataSource\"},{\"attributes\":{\"callback\":null},\"id\":\"d8b14709-172a-4009-bb07-969a87fa6a88\",\"type\":\"DataRange1d\"},{\"attributes\":{\"axis_label\":\"Coumpounds per target\",\"formatter\":{\"id\":\"7c7ab7c4-15ea-4a2d-aef7-1eef157d3a67\",\"type\":\"BasicTickFormatter\"},\"plot\":{\"id\":\"667072ba-81ee-4ceb-80e8-7a33261115e4\",\"subtype\":\"Figure\",\"type\":\"Plot\"},\"ticker\":{\"id\":\"280d5615-2c4c-4f69-969f-56d1869c29e7\",\"type\":\"BasicTicker\"}},\"id\":\"dea6b96a-9907-44b7-b9a2-9b52118c0e54\",\"type\":\"LinearAxis\"},{\"attributes\":{\"plot\":{\"id\":\"667072ba-81ee-4ceb-80e8-7a33261115e4\",\"subtype\":\"Figure\",\"type\":\"Plot\"},\"ticker\":{\"id\":\"280d5615-2c4c-4f69-969f-56d1869c29e7\",\"type\":\"BasicTicker\"}},\"id\":\"0ff55ba2-0937-4914-897b-c38bbb19e009\",\"type\":\"Grid\"},{\"attributes\":{\"plot\":null,\"text\":\"\"},\"id\":\"8ee3bb53-3251-46bd-9cb2-b0c954ccba92\",\"type\":\"Title\"},{\"attributes\":{},\"id\":\"fe6386d1-4ed8-4147-9aa5-54d4908df724\",\"type\":\"PanTool\"},{\"attributes\":{\"overlay\":{\"id\":\"11d18b5e-81d3-486c-a7e5-c32c30202f89\",\"type\":\"BoxAnnotation\"}},\"id\":\"246370b7-bce4-4d67-ac1b-dc4ed526a98f\",\"type\":\"BoxZoomTool\"},{\"attributes\":{\"data_source\":{\"id\":\"1360960d-11ae-4f36-89ba-5f9a81eb7e5e\",\"type\":\"ColumnDataSource\"},\"glyph\":{\"id\":\"02e7ec95-30c8-4bba-b862-e2af9130327b\",\"type\":\"Quad\"},\"hover_glyph\":null,\"muted_glyph\":null,\"nonselection_glyph\":{\"id\":\"338100a0-b864-4ec8-af26-8cdfc6bafe70\",\"type\":\"Quad\"},\"selection_glyph\":null,\"view\":{\"id\":\"e44a55e0-3d67-4a75-9f46-f55d27799f32\",\"type\":\"CDSView\"}},\"id\":\"2004da0f-7f81-408f-821e-5cd7977bdfb5\",\"type\":\"GlyphRenderer\"}],\"root_ids\":[\"667072ba-81ee-4ceb-80e8-7a33261115e4\"]},\"title\":\"Bokeh Application\",\"version\":\"0.12.13\"}};\n",
       "  var render_items = [{\"docid\":\"c671713d-b420-4908-8a83-1206faf1a9ad\",\"elementid\":\"9933986b-7f88-478d-8385-d7c6828f9204\",\"modelid\":\"667072ba-81ee-4ceb-80e8-7a33261115e4\",\"notebook_comms_target\":\"5c401677-c446-4a1e-abee-4ea458bdeb4c\"}];\n",
       "  root.Bokeh.embed.embed_items_notebook(docs_json, render_items);\n",
       "\n",
       "  }\n",
       "  if (root.Bokeh !== undefined) {\n",
       "    embed_document(root);\n",
       "  } else {\n",
       "    var attempts = 0;\n",
       "    var timer = setInterval(function(root) {\n",
       "      if (root.Bokeh !== undefined) {\n",
       "        embed_document(root);\n",
       "        clearInterval(timer);\n",
       "      }\n",
       "      attempts++;\n",
       "      if (attempts > 100) {\n",
       "        console.log(\"Bokeh: ERROR: Unable to run BokehJS code because BokehJS library is missing\")\n",
       "        clearInterval(timer);\n",
       "      }\n",
       "    }, 10, root)\n",
       "  }\n",
       "})(window);"
      ],
      "application/vnd.bokehjs_exec.v0+json": ""
     },
     "metadata": {
      "application/vnd.bokehjs_exec.v0+json": {
       "id": "667072ba-81ee-4ceb-80e8-7a33261115e4"
      }
     },
     "output_type": "display_data"
    },
    {
     "data": {
      "text/html": [
       "<p><code>&lt;Bokeh Notebook handle for <strong>In[4]</strong>&gt;</code></p>"
      ],
      "text/plain": [
       "<bokeh.io.notebook.CommsHandle at 0x11ce05590>"
      ]
     },
     "execution_count": 97,
     "metadata": {},
     "output_type": "execute_result"
    }
   ],
   "source": [
    "p1 = figure(x_axis_label='Coumpounds per target', y_axis_label='Percentage of targets')\n",
    "p1.quad(top=data['density'], bottom=0, left=data['density_edges'][:-1], right=data['density_edges'][1:],\n",
    "        fill_color=Spectral6[1])\n",
    "show(p1, notebook_handle=True)"
   ]
  },
  {
   "cell_type": "code",
   "execution_count": 288,
   "metadata": {
    "scrolled": false
   },
   "outputs": [
    {
     "data": {
      "text/plain": [
       "[u'/Users/sh/Code/newSeaModel/tfidf_experiment/CMerModel.py',\n",
       " u'/Users/sh/Code/newSeaModel/tfidf_experiment/cf_ingredient.py',\n",
       " u'/Users/sh/Code/newSeaModel/tfidf_experiment/dataset_ingredient.py',\n",
       " u'/Users/sh/Code/newSeaModel/tfidf_experiment/filter_ingredient.py',\n",
       " u'/Users/sh/Code/newSeaModel/tfidf_experiment/log_ingredient.py',\n",
       " u'/Users/sh/Code/newSeaModel/tfidf_experiment/similarity_measures.py',\n",
       " u'/Users/sh/Code/newSeaModel/tfidf_experiment/tfidf_experiment.py',\n",
       " u'artifact://runs/22/Compound target histogram',\n",
       " u'artifact://runs/22/Target compound histogram',\n",
       " u'artifact://runs/23/Compound target histogram',\n",
       " u'artifact://runs/23/Target compound histogram',\n",
       " u'artifact://runs/24/Compound target histogram',\n",
       " u'artifact://runs/24/Target compound histogram',\n",
       " u'artifact://runs/24/c17mols',\n",
       " u'artifact://runs/24/c17targets',\n",
       " u'artifact://runs/24/c17tm',\n",
       " u'artifact://runs/26/Compound target histogram',\n",
       " u'artifact://runs/26/Target compound histogram',\n",
       " u'artifact://runs/27/Compound target histogram',\n",
       " u'artifact://runs/27/Target compound histogram',\n",
       " u'artifact://runs/28/Compound target histogram',\n",
       " u'artifact://runs/28/Target compound histogram',\n",
       " u'artifact://runs/28/compound based target similarity',\n",
       " u'artifact://runs/29/Compound target histogram',\n",
       " u'artifact://runs/29/Target compound histogram',\n",
       " u'artifact://runs/29/compound based target similarity',\n",
       " u'artifact://runs/30/Compound target histogram',\n",
       " u'artifact://runs/30/Target compound histogram',\n",
       " u'artifact://runs/30/chemical features based target similarity',\n",
       " u'artifact://runs/30/compound based target similarity',\n",
       " u'artifact://runs/31/Compound target histogram',\n",
       " u'artifact://runs/31/Target compound histogram',\n",
       " u'artifact://runs/31/chemical features based target similarity',\n",
       " u'artifact://runs/31/compound based target similarity',\n",
       " u'artifact://runs/32/Compound target histogram',\n",
       " u'artifact://runs/32/Target compound histogram',\n",
       " u'artifact://runs/32/chemical features based target similarity',\n",
       " u'artifact://runs/32/compound based target similarity',\n",
       " u'artifact://runs/33/Compound target histogram',\n",
       " u'artifact://runs/33/Target compound histogram',\n",
       " u'artifact://runs/33/chemical features based target similarity',\n",
       " u'artifact://runs/33/compound based target similarity',\n",
       " u'artifact://runs/34/Compound target histogram',\n",
       " u'artifact://runs/34/Target compound histogram',\n",
       " u'artifact://runs/34/chemical features based target similarity',\n",
       " u'artifact://runs/34/compound based target similarity',\n",
       " u'artifact://runs/35/Compound target histogram',\n",
       " u'artifact://runs/35/TFIDF Target similarity, doc:log_norm*idf, query:log_norm*idf',\n",
       " u'artifact://runs/35/TFIDF Target similarity, doc:log_norm*unary, query:binary*idf_smooth',\n",
       " u'artifact://runs/35/TFIDF Target similarity, doc:raw_count*idf, query:double_norm*idf',\n",
       " u'artifact://runs/35/Target compound histogram',\n",
       " u'artifact://runs/35/chemical features based target similarity',\n",
       " u'artifact://runs/35/compound based target similarity',\n",
       " u'artifact://runs/39/Compound target histogram ',\n",
       " u'artifact://runs/39/TFIDF Target similarity, doc:log_norm*idf, query:log_norm*idf',\n",
       " u'artifact://runs/39/TFIDF Target similarity, doc:log_norm*unary, query:binary*idf_smooth',\n",
       " u'artifact://runs/39/TFIDF Target similarity, doc:raw_count*idf, query:double_norm*idf',\n",
       " u'artifact://runs/39/Target compound histogram ',\n",
       " u'artifact://runs/39/chemical features based target similarity',\n",
       " u'artifact://runs/39/compound based target similarity',\n",
       " u'artifact://runs/40/Compound target histogram ',\n",
       " u'artifact://runs/40/Target compound histogram ',\n",
       " u'artifact://runs/41/Compound target histogram ',\n",
       " u'artifact://runs/41/Target compound histogram ',\n",
       " u'artifact://runs/42/Compound target histogram ',\n",
       " u'artifact://runs/42/Target compound histogram ',\n",
       " u'artifact://runs/43/Compound target histogram ',\n",
       " u'artifact://runs/43/Target compound histogram ',\n",
       " u'artifact://runs/44/Compound target histogram ',\n",
       " u'artifact://runs/44/Target compound histogram ',\n",
       " u'artifact://runs/45/Compound target histogram ',\n",
       " u'artifact://runs/45/Target compound histogram ',\n",
       " u'artifact://runs/46/Compound target histogram ',\n",
       " u'artifact://runs/46/Target compound histogram ',\n",
       " u'artifact://runs/47/Compound target histogram ',\n",
       " u'artifact://runs/47/Target compound histogram ',\n",
       " u'artifact://runs/48/Compound target histogram ',\n",
       " u'artifact://runs/48/TFIDF Target similarity, doc:log_norm*idf, query:log_norm*idf',\n",
       " u'artifact://runs/48/TFIDF Target similarity, doc:log_norm*unary, query:binary*idf_smooth',\n",
       " u'artifact://runs/48/TFIDF Target similarity, doc:raw_count*idf, query:double_norm*idf',\n",
       " u'artifact://runs/48/Target compound histogram ',\n",
       " u'artifact://runs/48/chemical features based target similarity',\n",
       " u'artifact://runs/49/Compound target histogram ',\n",
       " u'artifact://runs/49/Target compound histogram ',\n",
       " u'artifact://runs/50/Compound target histogram ',\n",
       " u'artifact://runs/50/Target compound histogram ',\n",
       " u'artifact://runs/51/Compound target histogram ',\n",
       " u'artifact://runs/51/Target compound histogram ',\n",
       " u'artifact://runs/52/Compound target histogram ',\n",
       " u'artifact://runs/52/Target compound histogram ',\n",
       " u'artifact://runs/53/Compound target histogram ',\n",
       " u'artifact://runs/53/Target compound histogram ',\n",
       " u'artifact://runs/54/Compound target histogram ',\n",
       " u'artifact://runs/54/Target compound histogram ',\n",
       " u'artifact://runs/55/Compound target histogram ',\n",
       " u'artifact://runs/55/Target compound histogram ',\n",
       " u'artifact://runs/56/Compound target histogram ',\n",
       " u'artifact://runs/56/Target compound histogram ',\n",
       " u'artifact://runs/57/Compound target histogram ',\n",
       " u'artifact://runs/57/Target compound histogram ',\n",
       " u'artifact://runs/58/Compound target histogram ',\n",
       " u'artifact://runs/58/Target compound histogram ',\n",
       " u'artifact://runs/59/Compound target histogram ',\n",
       " u'artifact://runs/59/Target compound histogram ',\n",
       " u'artifact://runs/60/Compound target histogram ',\n",
       " u'artifact://runs/60/Target compound histogram ',\n",
       " u'artifact://runs/61/Compound target histogram ',\n",
       " u'artifact://runs/61/Target compound histogram ',\n",
       " u'artifact://runs/62/Compound target histogram ',\n",
       " u'artifact://runs/62/Target compound histogram ',\n",
       " u'artifact://runs/63/Compound target histogram ',\n",
       " u'artifact://runs/63/Target compound histogram ',\n",
       " u'artifact://runs/64/Compound target histogram ',\n",
       " u'artifact://runs/64/Target compound histogram ',\n",
       " u'artifact://runs/65/Compound target histogram ',\n",
       " u'artifact://runs/65/TFIDF Target similarity, doc:log_norm*idf, query:log_norm*idf',\n",
       " u'artifact://runs/65/TFIDF Target similarity, doc:log_norm*unary, query:binary*idf_smooth',\n",
       " u'artifact://runs/65/TFIDF Target similarity, doc:raw_count*idf, query:double_norm*idf',\n",
       " u'artifact://runs/65/Target compound histogram ',\n",
       " u'artifact://runs/65/chemical features based target similarity',\n",
       " u'artifact://runs/65/compound based target similarity',\n",
       " u'artifact://runs/66/Compound target histogram ',\n",
       " u'artifact://runs/66/TFIDF Target similarity, doc:raw_count*idf, query:double_norm*idf',\n",
       " u'artifact://runs/66/Target compound histogram ',\n",
       " u'artifact://runs/66/chemical features based target similarity',\n",
       " u'artifact://runs/66/compound based target similarity',\n",
       " u'artifact://runs/67/Compound target histogram ',\n",
       " u'artifact://runs/67/TFIDF Target similarity, doc:raw_count*idf, query:double_norm*idf',\n",
       " u'artifact://runs/67/Target compound histogram ',\n",
       " u'artifact://runs/67/chemical features based target similarity',\n",
       " u'artifact://runs/67/compound based target similarity',\n",
       " u'artifact://runs/68/Compound target histogram ',\n",
       " u'artifact://runs/68/TFIDF Target similarity, doc:raw_count*idf, query:double_norm*idf',\n",
       " u'artifact://runs/68/Target compound histogram ',\n",
       " u'artifact://runs/68/chemical features based target similarity',\n",
       " u'artifact://runs/68/compound based target similarity',\n",
       " u'artifact://runs/69/Compound target histogram ',\n",
       " u'artifact://runs/69/TFIDF Target similarity, doc:raw_count*idf, query:double_norm*idf',\n",
       " u'artifact://runs/69/Target compound histogram ',\n",
       " u'artifact://runs/69/chemical features based target similarity',\n",
       " u'artifact://runs/69/compound based target similarity',\n",
       " u'artifact://runs/70/Compound target histogram ',\n",
       " u'artifact://runs/70/TFIDF Target similarity, doc:raw_count*idf, query:double_norm*idf',\n",
       " u'artifact://runs/70/Target compound histogram ',\n",
       " u'artifact://runs/70/chemical features based target similarity',\n",
       " u'artifact://runs/70/compound based target similarity',\n",
       " u'artifact://runs/71/Compound target histogram ',\n",
       " u'artifact://runs/71/TFIDF Target similarity, doc:raw_count*idf, query:double_norm*idf',\n",
       " u'artifact://runs/71/Target compound histogram ',\n",
       " u'artifact://runs/71/chemical features based target similarity',\n",
       " u'artifact://runs/71/compound based target similarity',\n",
       " u'artifact://runs/72/Compound target histogram ',\n",
       " u'artifact://runs/72/TFIDF Target similarity, doc:raw_count*idf, query:double_norm*idf',\n",
       " u'artifact://runs/72/Target compound histogram ',\n",
       " u'artifact://runs/72/chemical features based target similarity',\n",
       " u'artifact://runs/72/compound based target similarity',\n",
       " u'artifact://runs/73/Compound target histogram ',\n",
       " u'artifact://runs/73/TFIDF Target similarity, doc:raw_count*idf, query:double_norm*idf',\n",
       " u'artifact://runs/73/Target compound histogram ',\n",
       " u'artifact://runs/73/chemical features based target similarity',\n",
       " u'artifact://runs/73/compound based target similarity',\n",
       " u'artifact://runs/74/C17 Compound target histogram ',\n",
       " u'artifact://runs/74/C17 Target compound histogram ',\n",
       " u'artifact://runs/74/chemical features based target similarity',\n",
       " u'artifact://runs/74/compound based target similarity',\n",
       " u'artifact://runs/75/C17 Compound target histogram ',\n",
       " u'artifact://runs/75/C17 Target compound histogram ',\n",
       " u'artifact://runs/75/chemical features based target similarity',\n",
       " u'artifact://runs/75/compound based target similarity',\n",
       " u\"artifact://runs/76/<type 'str'>\",\n",
       " u'artifact://runs/76/C17 Compound target histogram ',\n",
       " u'artifact://runs/76/C17 Target compound histogram ',\n",
       " u'artifact://runs/76/chemical features based target similarity',\n",
       " u'artifact://runs/76/compound based target similarity',\n",
       " u\"artifact://runs/77/<type 'str'>\",\n",
       " u'artifact://runs/77/C17 Compound target histogram ',\n",
       " u'artifact://runs/77/C17 Target compound histogram ',\n",
       " u'artifact://runs/77/chemical features based target similarity',\n",
       " u'artifact://runs/77/compound based target similarity',\n",
       " u'artifact://runs/78/C17 Compound target histogram ',\n",
       " u'artifact://runs/78/C17 Target compound histogram ',\n",
       " u'artifact://runs/78/TFIDF 82 Targets 469 Compound similarity, doc:log_norm*idf, query:log_norm*idf',\n",
       " u'artifact://runs/78/TFIDF 82 Targets 469 Compound similarity, doc:log_norm*unary, query:binary*idf_smooth',\n",
       " u'artifact://runs/78/TFIDF 82 Targets 469 Compound similarity, doc:raw_count*idf, query:double_norm*idf',\n",
       " u'artifact://runs/78/TFIDF Target similarity, doc:log_norm*idf, query:log_norm*idf',\n",
       " u'artifact://runs/78/TFIDF Target similarity, doc:log_norm*unary, query:binary*idf_smooth',\n",
       " u'artifact://runs/78/TFIDF Target similarity, doc:raw_count*idf, query:double_norm*idf',\n",
       " u'artifact://runs/78/chemical features based target similarity',\n",
       " u'artifact://runs/78/compound based target similarity',\n",
       " u'artifact://runs/79/C17 Compound target histogram ',\n",
       " u'artifact://runs/79/C17 Target compound histogram ',\n",
       " u'artifact://runs/79/chemical features based target similarity',\n",
       " u'artifact://runs/79/compound based target similarity',\n",
       " u'artifact://runs/81/C17 Compound target histogram ',\n",
       " u'artifact://runs/81/C17 TFIDF 82 Targets 469 Compound similarity, doc:log_norm*idf, query:log_norm*idf',\n",
       " u'artifact://runs/81/C17 TFIDF 82 Targets 469 Compound similarity, doc:log_norm*unary, query:binary*idf_smooth',\n",
       " u'artifact://runs/81/C17 TFIDF 82 Targets 469 Compound similarity, doc:raw_count*idf, query:double_norm*idf',\n",
       " u'artifact://runs/81/C17 Target compound histogram ',\n",
       " u'artifact://runs/81/C20 Compound target histogram ',\n",
       " u'artifact://runs/81/C20 TFIDF 82 Targets 35 Compound similarity, doc:log_norm*idf, query:log_norm*idf',\n",
       " u'artifact://runs/81/C20 TFIDF 82 Targets 35 Compound similarity, doc:log_norm*unary, query:binary*idf_smooth',\n",
       " u'artifact://runs/81/C20 TFIDF 82 Targets 35 Compound similarity, doc:raw_count*idf, query:double_norm*idf',\n",
       " u'artifact://runs/81/C20 Target compound histogram ',\n",
       " u'artifact://runs/81/C23 Compound target histogram ',\n",
       " u'artifact://runs/81/C23 TFIDF 82 Targets 35 Compound similarity, doc:log_norm*idf, query:log_norm*idf',\n",
       " u'artifact://runs/81/C23 TFIDF 82 Targets 35 Compound similarity, doc:log_norm*unary, query:binary*idf_smooth',\n",
       " u'artifact://runs/81/C23 TFIDF 82 Targets 35 Compound similarity, doc:raw_count*idf, query:double_norm*idf',\n",
       " u'artifact://runs/81/C23 Target compound histogram ',\n",
       " u'artifact://runs/81/TFIDF Target similarity, doc:log_norm*idf, query:log_norm*idf',\n",
       " u'artifact://runs/81/TFIDF Target similarity, doc:log_norm*unary, query:binary*idf_smooth',\n",
       " u'artifact://runs/81/TFIDF Target similarity, doc:raw_count*idf, query:double_norm*idf',\n",
       " u'artifact://runs/81/chemical features based target similarity',\n",
       " u'artifact://runs/81/compound based target similarity',\n",
       " u'artifact://runs/82/C17 Compound target histogram ',\n",
       " u'artifact://runs/82/C17 TFIDF 82 Targets 469 Compound similarity, doc:raw_count*idf, query:double_norm*idf',\n",
       " u'artifact://runs/82/C17 Target compound histogram ',\n",
       " u'artifact://runs/82/C20 Compound target histogram ',\n",
       " u'artifact://runs/82/C20 Target compound histogram ',\n",
       " u'artifact://runs/82/C23 Compound target histogram ',\n",
       " u'artifact://runs/82/C23 Target compound histogram ',\n",
       " u'artifact://runs/82/TFIDF Target similarity, doc:raw_count*idf, query:double_norm*idf',\n",
       " u'artifact://runs/82/chemical features based target similarity',\n",
       " u'artifact://runs/82/compound based target similarity',\n",
       " u'artifact://runs/83/C17 Compound target histogram ',\n",
       " u'artifact://runs/83/C17 TFIDF 82 Targets 469 Compound similarity, doc:raw_count*idf, query:double_norm*idf',\n",
       " u'artifact://runs/83/C17 TFIDF doc:raw_count*idf, query:double_norm*idf similarity positions',\n",
       " u'artifact://runs/83/C17 Target compound histogram ',\n",
       " u'artifact://runs/83/C20 Compound target histogram ',\n",
       " u'artifact://runs/83/C20 TFIDF 82 Targets 35 Compound similarity, doc:raw_count*idf, query:double_norm*idf',\n",
       " u'artifact://runs/83/C20 Target compound histogram ',\n",
       " u'artifact://runs/83/C23 Compound target histogram ',\n",
       " u'artifact://runs/83/C23 Target compound histogram ',\n",
       " u'artifact://runs/83/TFIDF Target similarity, doc:raw_count*idf, query:double_norm*idf',\n",
       " u'artifact://runs/83/chemical features based target similarity',\n",
       " u'artifact://runs/83/compound based target similarity',\n",
       " u'artifact://runs/84/C17 Compound target histogram ',\n",
       " u'artifact://runs/84/C17 TFIDF 82 Targets 469 Compound similarity, doc:raw_count*idf, query:double_norm*idf',\n",
       " u'artifact://runs/84/C17 TFIDF doc:raw_count*idf, query:double_norm*idf similarity positions',\n",
       " u'artifact://runs/84/C17 Target compound histogram ',\n",
       " u'artifact://runs/84/C20 Compound target histogram ',\n",
       " u'artifact://runs/84/C20 TFIDF 82 Targets 35 Compound similarity, doc:raw_count*idf, query:double_norm*idf',\n",
       " u'artifact://runs/84/C20 Target compound histogram ',\n",
       " u'artifact://runs/84/C23 Compound target histogram ',\n",
       " u'artifact://runs/84/C23 Target compound histogram ',\n",
       " u'artifact://runs/84/TFIDF Target similarity, doc:raw_count*idf, query:double_norm*idf',\n",
       " u'artifact://runs/84/chemical features based target similarity',\n",
       " u'artifact://runs/84/compound based target similarity',\n",
       " u'artifact://runs/85/C17 Compound target histogram ',\n",
       " u'artifact://runs/85/C17 TFIDF 82 Targets 469 Compound similarity, doc:raw_count*idf, query:double_norm*idf',\n",
       " u'artifact://runs/85/C17 TFIDF doc:raw_count*idf, query:double_norm*idf similarity positions',\n",
       " u'artifact://runs/85/C17 Target compound histogram ',\n",
       " u'artifact://runs/85/C20 Compound target histogram ',\n",
       " u'artifact://runs/85/C20 TFIDF 82 Targets 35 Compound similarity, doc:raw_count*idf, query:double_norm*idf',\n",
       " u'artifact://runs/85/C20 Target compound histogram ',\n",
       " u'artifact://runs/85/C23 Compound target histogram ',\n",
       " u'artifact://runs/85/C23 Target compound histogram ',\n",
       " u'artifact://runs/85/TFIDF Target similarity, doc:raw_count*idf, query:double_norm*idf',\n",
       " u'artifact://runs/85/chemical features based target similarity',\n",
       " u'artifact://runs/85/compound based target similarity',\n",
       " u'artifact://runs/86/C17 Compound target histogram ',\n",
       " u'artifact://runs/86/C17 TFIDF 82 Targets 469 Compound similarity, doc:log_norm*idf, query:log_norm*idf',\n",
       " u'artifact://runs/86/C17 TFIDF 82 Targets 469 Compound similarity, doc:log_norm*unary, query:binary*idf_smooth',\n",
       " u'artifact://runs/86/C17 TFIDF 82 Targets 469 Compound similarity, doc:raw_count*idf, query:double_norm*idf',\n",
       " u'artifact://runs/86/C17 TFIDF doc:log_norm*idf, query:log_norm*idf similarity positions',\n",
       " u'artifact://runs/86/C17 TFIDF doc:log_norm*unary, query:binary*idf_smooth similarity positions',\n",
       " u'artifact://runs/86/C17 TFIDF doc:raw_count*idf, query:double_norm*idf similarity positions',\n",
       " u'artifact://runs/86/C17 Target compound histogram ',\n",
       " u'artifact://runs/86/C20 Compound target histogram ',\n",
       " u'artifact://runs/86/C20 TFIDF 38 Targets 35 Compound similarity, doc:log_norm*idf, query:log_norm*idf',\n",
       " u'artifact://runs/86/C20 TFIDF 38 Targets 35 Compound similarity, doc:log_norm*unary, query:binary*idf_smooth',\n",
       " u'artifact://runs/86/C20 TFIDF 38 Targets 35 Compound similarity, doc:raw_count*idf, query:double_norm*idf',\n",
       " u'artifact://runs/86/C20 TFIDF doc:log_norm*idf, query:log_norm*idf similarity positions',\n",
       " u'artifact://runs/86/C20 TFIDF doc:log_norm*unary, query:binary*idf_smooth similarity positions',\n",
       " u'artifact://runs/86/C20 TFIDF doc:raw_count*idf, query:double_norm*idf similarity positions',\n",
       " u'artifact://runs/86/C20 Target compound histogram ',\n",
       " u'artifact://runs/86/C23 Compound target histogram ',\n",
       " u'artifact://runs/86/C23 TFIDF 38 Targets 35 Compound similarity, doc:log_norm*idf, query:log_norm*idf',\n",
       " u'artifact://runs/86/C23 TFIDF 38 Targets 35 Compound similarity, doc:log_norm*unary, query:binary*idf_smooth',\n",
       " u'artifact://runs/86/C23 TFIDF 38 Targets 35 Compound similarity, doc:raw_count*idf, query:double_norm*idf',\n",
       " u'artifact://runs/86/C23 TFIDF doc:log_norm*idf, query:log_norm*idf similarity positions',\n",
       " u'artifact://runs/86/C23 TFIDF doc:log_norm*unary, query:binary*idf_smooth similarity positions',\n",
       " u'artifact://runs/86/C23 TFIDF doc:raw_count*idf, query:double_norm*idf similarity positions',\n",
       " u'artifact://runs/86/C23 Target compound histogram ',\n",
       " u'artifact://runs/86/TFIDF Target similarity, doc:log_norm*idf, query:log_norm*idf',\n",
       " u'artifact://runs/86/TFIDF Target similarity, doc:log_norm*unary, query:binary*idf_smooth',\n",
       " u'artifact://runs/86/TFIDF Target similarity, doc:raw_count*idf, query:double_norm*idf',\n",
       " u'artifact://runs/86/chemical features based target similarity',\n",
       " u'artifact://runs/86/compound based target similarity',\n",
       " u'artifact://runs/87/C17 Compound target histogram ',\n",
       " u'artifact://runs/87/C17 TFIDF 82 Targets 469 Compound similarity, doc:raw_count*idf, query:double_norm*idf',\n",
       " u'artifact://runs/87/C17 Target compound histogram ',\n",
       " u'artifact://runs/87/C20 Compound target histogram ',\n",
       " u'artifact://runs/87/C20 Target compound histogram ',\n",
       " u'artifact://runs/87/C23 Compound target histogram ',\n",
       " u'artifact://runs/87/C23 Target compound histogram ',\n",
       " u'artifact://runs/87/TFIDF Target similarity, doc:raw_count*idf, query:double_norm*idf',\n",
       " u'artifact://runs/87/chemical features based target similarity',\n",
       " u'artifact://runs/87/compound based target similarity',\n",
       " u'artifact://runs/88/C17 Compound target histogram ',\n",
       " u'artifact://runs/88/C17 TFIDF 82 Targets 469 Compound similarity, doc:log_norm*idf, query:log_norm*idf',\n",
       " u'artifact://runs/88/C17 TFIDF 82 Targets 469 Compound similarity, doc:log_norm*unary, query:binary*idf_smooth',\n",
       " u'artifact://runs/88/C17 TFIDF 82 Targets 469 Compound similarity, doc:raw_count*idf, query:double_norm*idf',\n",
       " u'artifact://runs/88/C17 TFIDF doc:log_norm*idf, query:log_norm*idf similarity positions',\n",
       " u'artifact://runs/88/C17 TFIDF doc:log_norm*unary, query:binary*idf_smooth similarity positions',\n",
       " u'artifact://runs/88/C17 TFIDF doc:raw_count*idf, query:double_norm*idf similarity positions',\n",
       " u'artifact://runs/88/C17 Target compound histogram ',\n",
       " u'artifact://runs/88/C20 Compound target histogram ',\n",
       " u'artifact://runs/88/C20 TFIDF 38 Targets 35 Compound similarity, doc:log_norm*idf, query:log_norm*idf',\n",
       " u'artifact://runs/88/C20 TFIDF 38 Targets 35 Compound similarity, doc:log_norm*unary, query:binary*idf_smooth',\n",
       " u'artifact://runs/88/C20 TFIDF 38 Targets 35 Compound similarity, doc:raw_count*idf, query:double_norm*idf',\n",
       " u'artifact://runs/88/C20 TFIDF doc:log_norm*idf, query:log_norm*idf similarity positions',\n",
       " u'artifact://runs/88/C20 TFIDF doc:log_norm*unary, query:binary*idf_smooth similarity positions',\n",
       " u'artifact://runs/88/C20 TFIDF doc:raw_count*idf, query:double_norm*idf similarity positions',\n",
       " u'artifact://runs/88/C20 Target compound histogram ',\n",
       " u'artifact://runs/88/C23 Compound target histogram ',\n",
       " u'artifact://runs/88/C23 TFIDF 38 Targets 35 Compound similarity, doc:log_norm*idf, query:log_norm*idf',\n",
       " u'artifact://runs/88/C23 TFIDF 38 Targets 35 Compound similarity, doc:log_norm*unary, query:binary*idf_smooth',\n",
       " u'artifact://runs/88/C23 TFIDF 38 Targets 35 Compound similarity, doc:raw_count*idf, query:double_norm*idf',\n",
       " u'artifact://runs/88/C23 TFIDF doc:log_norm*idf, query:log_norm*idf similarity positions',\n",
       " u'artifact://runs/88/C23 TFIDF doc:log_norm*unary, query:binary*idf_smooth similarity positions',\n",
       " u'artifact://runs/88/C23 TFIDF doc:raw_count*idf, query:double_norm*idf similarity positions',\n",
       " u'artifact://runs/88/C23 Target compound histogram ',\n",
       " u'artifact://runs/88/TFIDF Target similarity, doc:log_norm*idf, query:log_norm*idf',\n",
       " u'artifact://runs/88/TFIDF Target similarity, doc:log_norm*unary, query:binary*idf_smooth',\n",
       " u'artifact://runs/88/TFIDF Target similarity, doc:raw_count*idf, query:double_norm*idf',\n",
       " u'artifact://runs/88/chemical features based target similarity',\n",
       " u'artifact://runs/88/compound based target similarity',\n",
       " u'artifact://runs/89/C17 Compound target histogram ',\n",
       " u'artifact://runs/89/C17 TFIDF 82 Targets 469 Compound similarity, doc:log_norm*idf, query:log_norm*idf',\n",
       " u'artifact://runs/89/C17 TFIDF 82 Targets 469 Compound similarity, doc:log_norm*unary, query:binary*idf_smooth',\n",
       " u'artifact://runs/89/C17 TFIDF 82 Targets 469 Compound similarity, doc:raw_count*idf, query:double_norm*idf',\n",
       " u'artifact://runs/89/C17 TFIDF doc:log_norm*idf, query:log_norm*idf similarity positions',\n",
       " u'artifact://runs/89/C17 TFIDF doc:log_norm*unary, query:binary*idf_smooth similarity positions',\n",
       " u'artifact://runs/89/C17 TFIDF doc:raw_count*idf, query:double_norm*idf similarity positions',\n",
       " u'artifact://runs/89/C17 Target compound histogram ',\n",
       " u'artifact://runs/89/C20 Compound target histogram ',\n",
       " u'artifact://runs/89/C20 TFIDF 38 Targets 35 Compound similarity, doc:log_norm*idf, query:log_norm*idf',\n",
       " u'artifact://runs/89/C20 TFIDF 38 Targets 35 Compound similarity, doc:log_norm*unary, query:binary*idf_smooth',\n",
       " u'artifact://runs/89/C20 TFIDF 38 Targets 35 Compound similarity, doc:raw_count*idf, query:double_norm*idf',\n",
       " u'artifact://runs/89/C20 TFIDF doc:log_norm*idf, query:log_norm*idf similarity positions',\n",
       " u'artifact://runs/89/C20 TFIDF doc:log_norm*unary, query:binary*idf_smooth similarity positions',\n",
       " u'artifact://runs/89/C20 TFIDF doc:raw_count*idf, query:double_norm*idf similarity positions',\n",
       " u'artifact://runs/89/C20 Target compound histogram ',\n",
       " u'artifact://runs/89/C23 Compound target histogram ',\n",
       " u'artifact://runs/89/C23 TFIDF 38 Targets 35 Compound similarity, doc:log_norm*idf, query:log_norm*idf',\n",
       " u'artifact://runs/89/C23 TFIDF 38 Targets 35 Compound similarity, doc:log_norm*unary, query:binary*idf_smooth',\n",
       " u'artifact://runs/89/C23 TFIDF 38 Targets 35 Compound similarity, doc:raw_count*idf, query:double_norm*idf',\n",
       " u'artifact://runs/89/C23 TFIDF doc:log_norm*idf, query:log_norm*idf similarity positions',\n",
       " u'artifact://runs/89/C23 TFIDF doc:log_norm*unary, query:binary*idf_smooth similarity positions',\n",
       " u'artifact://runs/89/C23 TFIDF doc:raw_count*idf, query:double_norm*idf similarity positions',\n",
       " u'artifact://runs/89/C23 Target compound histogram ',\n",
       " u'artifact://runs/89/TFIDF Target similarity, doc:log_norm*idf, query:log_norm*idf',\n",
       " u'artifact://runs/89/TFIDF Target similarity, doc:log_norm*unary, query:binary*idf_smooth',\n",
       " u'artifact://runs/89/TFIDF Target similarity, doc:raw_count*idf, query:double_norm*idf',\n",
       " u'artifact://runs/89/chemical features based target similarity',\n",
       " u'artifact://runs/89/compound based target similarity',\n",
       " u'artifact://runs/90/C17 Compound target histogram ',\n",
       " u'artifact://runs/90/C17 TFIDF 82 Targets 469 Compound similarity, doc:log_norm*idf, query:log_norm*idf',\n",
       " u'artifact://runs/90/C17 TFIDF 82 Targets 469 Compound similarity, doc:log_norm*unary, query:binary*idf_smooth',\n",
       " u'artifact://runs/90/C17 TFIDF 82 Targets 469 Compound similarity, doc:raw_count*idf, query:double_norm*idf',\n",
       " u'artifact://runs/90/C17 TFIDF doc:log_norm*idf, query:log_norm*idf similarity positions',\n",
       " u'artifact://runs/90/C17 TFIDF doc:log_norm*unary, query:binary*idf_smooth similarity positions',\n",
       " u'artifact://runs/90/C17 TFIDF doc:raw_count*idf, query:double_norm*idf similarity positions',\n",
       " u'artifact://runs/90/C17 Target compound histogram ',\n",
       " u'artifact://runs/90/C20 Compound target histogram ',\n",
       " u'artifact://runs/90/C20 TFIDF 38 Targets 35 Compound similarity, doc:log_norm*idf, query:log_norm*idf',\n",
       " u'artifact://runs/90/C20 TFIDF 38 Targets 35 Compound similarity, doc:log_norm*unary, query:binary*idf_smooth',\n",
       " u'artifact://runs/90/C20 TFIDF 38 Targets 35 Compound similarity, doc:raw_count*idf, query:double_norm*idf',\n",
       " u'artifact://runs/90/C20 TFIDF doc:log_norm*idf, query:log_norm*idf similarity positions',\n",
       " u'artifact://runs/90/C20 TFIDF doc:log_norm*unary, query:binary*idf_smooth similarity positions',\n",
       " u'artifact://runs/90/C20 TFIDF doc:raw_count*idf, query:double_norm*idf similarity positions',\n",
       " u'artifact://runs/90/C20 Target compound histogram ',\n",
       " u'artifact://runs/90/C23 Compound target histogram ',\n",
       " u'artifact://runs/90/C23 TFIDF 38 Targets 35 Compound similarity, doc:log_norm*idf, query:log_norm*idf',\n",
       " u'artifact://runs/90/C23 TFIDF 38 Targets 35 Compound similarity, doc:log_norm*unary, query:binary*idf_smooth',\n",
       " u'artifact://runs/90/C23 TFIDF 38 Targets 35 Compound similarity, doc:raw_count*idf, query:double_norm*idf',\n",
       " u'artifact://runs/90/C23 TFIDF doc:log_norm*idf, query:log_norm*idf similarity positions',\n",
       " u'artifact://runs/90/C23 TFIDF doc:log_norm*unary, query:binary*idf_smooth similarity positions',\n",
       " u'artifact://runs/90/C23 TFIDF doc:raw_count*idf, query:double_norm*idf similarity positions',\n",
       " u'artifact://runs/90/C23 Target compound histogram ',\n",
       " u'artifact://runs/90/TFIDF Target similarity, doc:log_norm*idf, query:log_norm*idf',\n",
       " u'artifact://runs/90/TFIDF Target similarity, doc:log_norm*unary, query:binary*idf_smooth',\n",
       " u'artifact://runs/90/TFIDF Target similarity, doc:raw_count*idf, query:double_norm*idf',\n",
       " u'artifact://runs/90/chemical features based target similarity',\n",
       " u'artifact://runs/90/compound based target similarity',\n",
       " u'artifact://runs/91/C17 Compound target histogram ',\n",
       " u'artifact://runs/91/C17 TFIDF 82 Targets 469 Compound similarity, doc:log_norm*idf, query:log_norm*idf',\n",
       " u'artifact://runs/91/C17 TFIDF 82 Targets 469 Compound similarity, doc:log_norm*unary, query:binary*idf_smooth',\n",
       " u'artifact://runs/91/C17 TFIDF 82 Targets 469 Compound similarity, doc:raw_count*idf, query:double_norm*idf',\n",
       " u'artifact://runs/91/C17 TFIDF doc:log_norm*idf, query:log_norm*idf similarity positions',\n",
       " u'artifact://runs/91/C17 TFIDF doc:log_norm*unary, query:binary*idf_smooth similarity positions',\n",
       " u'artifact://runs/91/C17 TFIDF doc:raw_count*idf, query:double_norm*idf similarity positions',\n",
       " u'artifact://runs/91/C17 Target compound histogram ',\n",
       " u'artifact://runs/91/C20 Compound target histogram ',\n",
       " u'artifact://runs/91/C20 TFIDF 38 Targets 35 Compound similarity, doc:log_norm*idf, query:log_norm*idf',\n",
       " u'artifact://runs/91/C20 TFIDF 38 Targets 35 Compound similarity, doc:log_norm*unary, query:binary*idf_smooth',\n",
       " u'artifact://runs/91/C20 TFIDF 38 Targets 35 Compound similarity, doc:raw_count*idf, query:double_norm*idf',\n",
       " u'artifact://runs/91/C20 TFIDF doc:log_norm*idf, query:log_norm*idf similarity positions',\n",
       " u'artifact://runs/91/C20 TFIDF doc:log_norm*unary, query:binary*idf_smooth similarity positions',\n",
       " u'artifact://runs/91/C20 TFIDF doc:raw_count*idf, query:double_norm*idf similarity positions',\n",
       " u'artifact://runs/91/C20 Target compound histogram ',\n",
       " u'artifact://runs/91/C23 Compound target histogram ',\n",
       " u'artifact://runs/91/C23 TFIDF 38 Targets 35 Compound similarity, doc:log_norm*idf, query:log_norm*idf',\n",
       " u'artifact://runs/91/C23 TFIDF 38 Targets 35 Compound similarity, doc:log_norm*unary, query:binary*idf_smooth',\n",
       " u'artifact://runs/91/C23 TFIDF 38 Targets 35 Compound similarity, doc:raw_count*idf, query:double_norm*idf',\n",
       " u'artifact://runs/91/C23 TFIDF doc:log_norm*idf, query:log_norm*idf similarity positions',\n",
       " u'artifact://runs/91/C23 TFIDF doc:log_norm*unary, query:binary*idf_smooth similarity positions',\n",
       " u'artifact://runs/91/C23 TFIDF doc:raw_count*idf, query:double_norm*idf similarity positions',\n",
       " u'artifact://runs/91/C23 Target compound histogram ',\n",
       " u'artifact://runs/91/TFIDF Target similarity, doc:log_norm*idf, query:log_norm*idf',\n",
       " u'artifact://runs/91/TFIDF Target similarity, doc:log_norm*unary, query:binary*idf_smooth',\n",
       " u'artifact://runs/91/TFIDF Target similarity, doc:raw_count*idf, query:double_norm*idf',\n",
       " u'artifact://runs/91/chemical features based target similarity',\n",
       " u'artifact://runs/91/compound based target similarity',\n",
       " u'artifact://runs/92/C17 Compound target histogram ',\n",
       " u'artifact://runs/92/C17 TFIDF 82 Targets 469 Compound similarity, doc:raw_count*idf, query:double_norm*idf',\n",
       " u'artifact://runs/92/C17 Target compound histogram ',\n",
       " u'artifact://runs/92/C20 Compound target histogram ',\n",
       " u'artifact://runs/92/C20 Target compound histogram ',\n",
       " u'artifact://runs/92/C23 Compound target histogram ',\n",
       " u'artifact://runs/92/C23 Target compound histogram ',\n",
       " u'artifact://runs/92/TFIDF Target similarity, doc:raw_count*idf, query:double_norm*idf',\n",
       " u'artifact://runs/92/chemical features based target similarity',\n",
       " u'artifact://runs/92/compound based target similarity',\n",
       " u'artifact://runs/93/C17 Compound target histogram ',\n",
       " u'artifact://runs/93/C17 TFIDF 82 Targets 469 Compound similarity, doc:raw_count*idf, query:double_norm*idf',\n",
       " u'artifact://runs/93/C17 Target compound histogram ',\n",
       " u'artifact://runs/93/C20 Compound target histogram ',\n",
       " u'artifact://runs/93/C20 Target compound histogram ',\n",
       " u'artifact://runs/93/C23 Compound target histogram ',\n",
       " u'artifact://runs/93/C23 Target compound histogram ',\n",
       " u'artifact://runs/93/TFIDF Target similarity, doc:raw_count*idf, query:double_norm*idf',\n",
       " u'artifact://runs/93/chemical features based target similarity',\n",
       " u'artifact://runs/93/compound based target similarity',\n",
       " u'artifact://runs/94/C17 Compound target histogram ',\n",
       " u'artifact://runs/94/C17 TFIDF 82 Targets 469 Compound similarity, doc:raw_count*idf, query:double_norm*idf',\n",
       " u'artifact://runs/94/C17 Target compound histogram ',\n",
       " u'artifact://runs/94/C20 Compound target histogram ',\n",
       " u'artifact://runs/94/C20 Target compound histogram ',\n",
       " u'artifact://runs/94/C23 Compound target histogram ',\n",
       " u'artifact://runs/94/C23 Target compound histogram ',\n",
       " u'artifact://runs/94/TFIDF Target similarity, doc:raw_count*idf, query:double_norm*idf',\n",
       " u'artifact://runs/94/chemical features based target similarity',\n",
       " u'artifact://runs/94/compound based target similarity',\n",
       " u'artifact://runs/95/C17 Compound target histogram ',\n",
       " u'artifact://runs/95/C17 TFIDF 82 Targets 469 Compound similarity, doc:raw_count*idf, query:double_norm*idf',\n",
       " u'artifact://runs/95/C17 Target compound histogram ',\n",
       " u'artifact://runs/95/C20 Compound target histogram ',\n",
       " u'artifact://runs/95/C20 Target compound histogram ',\n",
       " u'artifact://runs/95/C23 Compound target histogram ',\n",
       " u'artifact://runs/95/C23 Target compound histogram ',\n",
       " u'artifact://runs/95/TFIDF Target similarity, doc:raw_count*idf, query:double_norm*idf',\n",
       " u'artifact://runs/95/chemical features based target similarity',\n",
       " u'artifact://runs/95/compound based target similarity',\n",
       " u'artifact://runs/96/C17 Compound target histogram ',\n",
       " u'artifact://runs/96/C17 TFIDF 82 Targets 469 Compound similarity, doc:raw_count*idf, query:double_norm*idf',\n",
       " u'artifact://runs/96/C17 Target compound histogram ',\n",
       " u'artifact://runs/96/C20 Compound target histogram ',\n",
       " u'artifact://runs/96/C20 Target compound histogram ',\n",
       " u'artifact://runs/96/C23 Compound target histogram ',\n",
       " u'artifact://runs/96/C23 Target compound histogram ',\n",
       " u'artifact://runs/96/TFIDF Target similarity, doc:raw_count*idf, query:double_norm*idf',\n",
       " u'artifact://runs/96/chemical features based target similarity',\n",
       " u'artifact://runs/96/compound based target similarity',\n",
       " u'artifact://runs/97/C17 Compound target histogram ',\n",
       " u'artifact://runs/97/C17 TFIDF 82 Targets 469 Compound similarity, doc:log_norm*idf, query:log_norm*idf',\n",
       " u'artifact://runs/97/C17 TFIDF 82 Targets 469 Compound similarity, doc:log_norm*unary, query:binary*idf_smooth',\n",
       " u'artifact://runs/97/C17 TFIDF 82 Targets 469 Compound similarity, doc:raw_count*idf, query:double_norm*idf',\n",
       " u'artifact://runs/97/C17 TFIDF doc:log_norm*idf, query:log_norm*idf similarity positions',\n",
       " u'artifact://runs/97/C17 TFIDF doc:log_norm*unary, query:binary*idf_smooth similarity positions',\n",
       " u'artifact://runs/97/C17 TFIDF doc:raw_count*idf, query:double_norm*idf similarity positions',\n",
       " u'artifact://runs/97/C17 Target compound histogram ',\n",
       " u'artifact://runs/97/C20 Compound target histogram ',\n",
       " u'artifact://runs/97/C20 TFIDF 38 Targets 35 Compound similarity, doc:log_norm*idf, query:log_norm*idf',\n",
       " u'artifact://runs/97/C20 TFIDF 38 Targets 35 Compound similarity, doc:log_norm*unary, query:binary*idf_smooth',\n",
       " u'artifact://runs/97/C20 TFIDF 38 Targets 35 Compound similarity, doc:raw_count*idf, query:double_norm*idf',\n",
       " u'artifact://runs/97/C20 TFIDF doc:log_norm*idf, query:log_norm*idf similarity positions',\n",
       " u'artifact://runs/97/C20 TFIDF doc:log_norm*unary, query:binary*idf_smooth similarity positions',\n",
       " u'artifact://runs/97/C20 TFIDF doc:raw_count*idf, query:double_norm*idf similarity positions',\n",
       " u'artifact://runs/97/C20 Target compound histogram ',\n",
       " u'artifact://runs/97/C23 Compound target histogram ',\n",
       " u'artifact://runs/97/C23 TFIDF 38 Targets 35 Compound similarity, doc:log_norm*idf, query:log_norm*idf',\n",
       " u'artifact://runs/97/C23 TFIDF 38 Targets 35 Compound similarity, doc:log_norm*unary, query:binary*idf_smooth',\n",
       " u'artifact://runs/97/C23 TFIDF 38 Targets 35 Compound similarity, doc:raw_count*idf, query:double_norm*idf',\n",
       " u'artifact://runs/97/C23 TFIDF doc:log_norm*idf, query:log_norm*idf similarity positions',\n",
       " u'artifact://runs/97/C23 TFIDF doc:log_norm*unary, query:binary*idf_smooth similarity positions',\n",
       " u'artifact://runs/97/C23 TFIDF doc:raw_count*idf, query:double_norm*idf similarity positions',\n",
       " u'artifact://runs/97/C23 Target compound histogram ',\n",
       " u'artifact://runs/97/TFIDF Target similarity, doc:log_norm*idf, query:log_norm*idf',\n",
       " u'artifact://runs/97/TFIDF Target similarity, doc:log_norm*unary, query:binary*idf_smooth',\n",
       " u'artifact://runs/97/TFIDF Target similarity, doc:raw_count*idf, query:double_norm*idf',\n",
       " u'artifact://runs/97/chemical features based target similarity',\n",
       " u'artifact://runs/97/compound based target similarity',\n",
       " u'artifact://runs/98/C17 Compound target histogram ',\n",
       " u'artifact://runs/98/C17 TFIDF 82 Targets 469 Compound similarity, doc:raw_count*idf, query:double_norm*idf',\n",
       " u'artifact://runs/98/C17 Target compound histogram ',\n",
       " u'artifact://runs/98/C20 Compound target histogram ',\n",
       " u'artifact://runs/98/C20 Target compound histogram ',\n",
       " u'artifact://runs/98/C23 Compound target histogram ',\n",
       " u'artifact://runs/98/C23 Target compound histogram ',\n",
       " u'artifact://runs/98/TFIDF Target similarity, doc:raw_count*idf, query:double_norm*idf',\n",
       " u'artifact://runs/98/chemical features based target similarity',\n",
       " u'artifact://runs/98/compound based target similarity',\n",
       " u'artifact://runs/99/C17 Compound target histogram ',\n",
       " u'artifact://runs/99/C17 TFIDF 82 Targets 469 Compound similarity, doc:log_norm*idf, query:log_norm*idf',\n",
       " u'artifact://runs/99/C17 TFIDF 82 Targets 469 Compound similarity, doc:log_norm*unary, query:binary*idf_smooth',\n",
       " u'artifact://runs/99/C17 TFIDF 82 Targets 469 Compound similarity, doc:raw_count*idf, query:double_norm*idf',\n",
       " u'artifact://runs/99/C17 TFIDF doc:log_norm*idf, query:log_norm*idf similarity positions',\n",
       " u'artifact://runs/99/C17 TFIDF doc:log_norm*unary, query:binary*idf_smooth similarity positions',\n",
       " u'artifact://runs/99/C17 TFIDF doc:raw_count*idf, query:double_norm*idf similarity positions',\n",
       " u'artifact://runs/99/C17 Target compound histogram ',\n",
       " u'artifact://runs/99/C20 Compound target histogram ',\n",
       " u'artifact://runs/99/C20 TFIDF 38 Targets 35 Compound similarity, doc:log_norm*idf, query:log_norm*idf',\n",
       " u'artifact://runs/99/C20 TFIDF 38 Targets 35 Compound similarity, doc:log_norm*unary, query:binary*idf_smooth',\n",
       " u'artifact://runs/99/C20 TFIDF 38 Targets 35 Compound similarity, doc:raw_count*idf, query:double_norm*idf',\n",
       " u'artifact://runs/99/C20 TFIDF doc:log_norm*idf, query:log_norm*idf similarity positions',\n",
       " u'artifact://runs/99/C20 TFIDF doc:log_norm*unary, query:binary*idf_smooth similarity positions',\n",
       " u'artifact://runs/99/C20 TFIDF doc:raw_count*idf, query:double_norm*idf similarity positions',\n",
       " u'artifact://runs/99/C20 Target compound histogram ',\n",
       " u'artifact://runs/99/C23 Compound target histogram ',\n",
       " u'artifact://runs/99/C23 TFIDF 38 Targets 35 Compound similarity, doc:log_norm*idf, query:log_norm*idf',\n",
       " u'artifact://runs/99/C23 TFIDF 38 Targets 35 Compound similarity, doc:log_norm*unary, query:binary*idf_smooth',\n",
       " u'artifact://runs/99/C23 TFIDF 38 Targets 35 Compound similarity, doc:raw_count*idf, query:double_norm*idf',\n",
       " u'artifact://runs/99/C23 TFIDF doc:log_norm*idf, query:log_norm*idf similarity positions',\n",
       " u'artifact://runs/99/C23 TFIDF doc:log_norm*unary, query:binary*idf_smooth similarity positions',\n",
       " u'artifact://runs/99/C23 TFIDF doc:raw_count*idf, query:double_norm*idf similarity positions',\n",
       " u'artifact://runs/99/C23 Target compound histogram ',\n",
       " u'artifact://runs/99/TFIDF Target similarity, doc:log_norm*idf, query:log_norm*idf',\n",
       " u'artifact://runs/99/TFIDF Target similarity, doc:log_norm*unary, query:binary*idf_smooth',\n",
       " u'artifact://runs/99/TFIDF Target similarity, doc:raw_count*idf, query:double_norm*idf',\n",
       " u'artifact://runs/99/chemical features based target similarity',\n",
       " u'artifact://runs/99/compound based target similarity']"
      ]
     },
     "execution_count": 288,
     "metadata": {},
     "output_type": "execute_result"
    }
   ],
   "source": [
    "fs.list()"
   ]
  },
  {
   "cell_type": "code",
   "execution_count": 201,
   "metadata": {},
   "outputs": [],
   "source": [
    "cth = fs.find_one({\"filename\": 'artifact://runs/39/compound based target similarity'})\n",
    "data = np.load(cth)"
   ]
  },
  {
   "cell_type": "code",
   "execution_count": 241,
   "metadata": {},
   "outputs": [],
   "source": [
    "cth = fs.find_one({\"filename\": 'artifact://runs/39/chemical features based target similarity'})\n",
    "data = np.load(cth)"
   ]
  },
  {
   "cell_type": "code",
   "execution_count": 353,
   "metadata": {},
   "outputs": [],
   "source": [
    "cth = fs.find_one({\"filename\": 'artifact://runs/103/C20 TFIDF doc:raw_count*idf, query:double_norm*idf similarity positions'})\n",
    "data = np.load(cth)"
   ]
  },
  {
   "cell_type": "code",
   "execution_count": 354,
   "metadata": {},
   "outputs": [
    {
     "data": {
      "text/plain": [
       "['cosine_sim_pos', 'dice_sim_pos']"
      ]
     },
     "execution_count": 354,
     "metadata": {},
     "output_type": "execute_result"
    }
   ],
   "source": [
    "data.files"
   ]
  },
  {
   "cell_type": "code",
   "execution_count": 355,
   "metadata": {},
   "outputs": [
    {
     "data": {
      "text/plain": [
       "array([[20,  0,  0,  0,  0,  0,  0,  0,  0,  0,  0,  0,  0,  0,  0,  0,  0,\n",
       "         0,  0,  0,  0],\n",
       "       [ 3,  0,  1, 22, 38, 38, 38, 38, 38, 38, 38, 38, 38, 38, 38, 38, 38,\n",
       "        38, 38, 38, 38],\n",
       "       [ 2,  1,  2, 38, 38, 38, 38, 38, 38, 38, 38, 38, 38, 38, 38, 38, 38,\n",
       "        38, 38, 38, 38],\n",
       "       [ 9,  0,  4,  6,  9, 20, 21, 29, 31, 35, 38, 38, 38, 38, 38, 38, 38,\n",
       "        38, 38, 38, 38],\n",
       "       [ 2, 14, 27, 38, 38, 38, 38, 38, 38, 38, 38, 38, 38, 38, 38, 38, 38,\n",
       "        38, 38, 38, 38],\n",
       "       [ 1, 33, 38, 38, 38, 38, 38, 38, 38, 38, 38, 38, 38, 38, 38, 38, 38,\n",
       "        38, 38, 38, 38],\n",
       "       [19,  0,  1,  2,  3,  4,  5,  6,  7,  8, 10, 11, 12, 13, 14, 18, 22,\n",
       "        25, 27, 31, 38],\n",
       "       [ 2, 14, 30, 38, 38, 38, 38, 38, 38, 38, 38, 38, 38, 38, 38, 38, 38,\n",
       "        38, 38, 38, 38],\n",
       "       [ 2,  0, 19, 38, 38, 38, 38, 38, 38, 38, 38, 38, 38, 38, 38, 38, 38,\n",
       "        38, 38, 38, 38],\n",
       "       [ 2, 32, 36, 38, 38, 38, 38, 38, 38, 38, 38, 38, 38, 38, 38, 38, 38,\n",
       "        38, 38, 38, 38],\n",
       "       [ 4,  0,  1,  2, 23, 38, 38, 38, 38, 38, 38, 38, 38, 38, 38, 38, 38,\n",
       "        38, 38, 38, 38],\n",
       "       [ 3,  0,  1, 21, 38, 38, 38, 38, 38, 38, 38, 38, 38, 38, 38, 38, 38,\n",
       "        38, 38, 38, 38],\n",
       "       [ 5,  1,  4,  6,  9, 10, 38, 38, 38, 38, 38, 38, 38, 38, 38, 38, 38,\n",
       "        38, 38, 38, 38],\n",
       "       [19,  0,  1,  2,  3,  4,  5,  6,  7,  8,  9, 10, 11, 12, 13, 14, 20,\n",
       "        21, 22, 25, 38],\n",
       "       [19,  0,  1,  2,  3,  4,  5,  6,  7,  8,  9, 10, 11, 14, 15, 16, 17,\n",
       "        20, 21, 22, 38],\n",
       "       [ 5,  0,  2, 13, 24, 25, 38, 38, 38, 38, 38, 38, 38, 38, 38, 38, 38,\n",
       "        38, 38, 38, 38],\n",
       "       [ 1,  2, 38, 38, 38, 38, 38, 38, 38, 38, 38, 38, 38, 38, 38, 38, 38,\n",
       "        38, 38, 38, 38],\n",
       "       [ 4,  0,  1, 14, 31, 38, 38, 38, 38, 38, 38, 38, 38, 38, 38, 38, 38,\n",
       "        38, 38, 38, 38],\n",
       "       [10,  0,  2,  3,  4,  8,  9, 10, 12, 17, 24, 38, 38, 38, 38, 38, 38,\n",
       "        38, 38, 38, 38],\n",
       "       [ 4,  0,  1,  2,  7, 38, 38, 38, 38, 38, 38, 38, 38, 38, 38, 38, 38,\n",
       "        38, 38, 38, 38],\n",
       "       [ 5,  0,  1, 20, 31, 35, 38, 38, 38, 38, 38, 38, 38, 38, 38, 38, 38,\n",
       "        38, 38, 38, 38],\n",
       "       [ 3,  0,  1,  2, 38, 38, 38, 38, 38, 38, 38, 38, 38, 38, 38, 38, 38,\n",
       "        38, 38, 38, 38],\n",
       "       [20,  1,  2,  3,  4,  9, 10, 12, 13, 14, 15, 16, 17, 18, 20, 21, 24,\n",
       "        25, 26, 27, 29],\n",
       "       [18,  0,  2,  3,  4,  5,  9, 10, 11, 14, 15, 17, 19, 20, 21, 26, 27,\n",
       "        31, 32, 38, 38],\n",
       "       [ 6,  1,  6,  7, 12, 26, 36, 38, 38, 38, 38, 38, 38, 38, 38, 38, 38,\n",
       "        38, 38, 38, 38],\n",
       "       [ 6, 17, 18, 29, 31, 32, 37, 38, 38, 38, 38, 38, 38, 38, 38, 38, 38,\n",
       "        38, 38, 38, 38],\n",
       "       [ 2,  0, 34, 38, 38, 38, 38, 38, 38, 38, 38, 38, 38, 38, 38, 38, 38,\n",
       "        38, 38, 38, 38],\n",
       "       [ 3,  0, 33, 34, 38, 38, 38, 38, 38, 38, 38, 38, 38, 38, 38, 38, 38,\n",
       "        38, 38, 38, 38],\n",
       "       [ 3,  0,  3,  4, 38, 38, 38, 38, 38, 38, 38, 38, 38, 38, 38, 38, 38,\n",
       "        38, 38, 38, 38],\n",
       "       [ 1, 30, 38, 38, 38, 38, 38, 38, 38, 38, 38, 38, 38, 38, 38, 38, 38,\n",
       "        38, 38, 38, 38],\n",
       "       [ 2, 18, 32, 38, 38, 38, 38, 38, 38, 38, 38, 38, 38, 38, 38, 38, 38,\n",
       "        38, 38, 38, 38],\n",
       "       [ 1,  0, 38, 38, 38, 38, 38, 38, 38, 38, 38, 38, 38, 38, 38, 38, 38,\n",
       "        38, 38, 38, 38],\n",
       "       [ 2,  0,  1, 38, 38, 38, 38, 38, 38, 38, 38, 38, 38, 38, 38, 38, 38,\n",
       "        38, 38, 38, 38],\n",
       "       [11,  1,  5,  8, 12, 14, 16, 19, 23, 24, 25, 32, 38, 38, 38, 38, 38,\n",
       "        38, 38, 38, 38],\n",
       "       [ 1, 21, 38, 38, 38, 38, 38, 38, 38, 38, 38, 38, 38, 38, 38, 38, 38,\n",
       "        38, 38, 38, 38]])"
      ]
     },
     "execution_count": 355,
     "metadata": {},
     "output_type": "execute_result"
    }
   ],
   "source": [
    "data['cosine_sim_pos']"
   ]
  },
  {
   "cell_type": "code",
   "execution_count": 358,
   "metadata": {},
   "outputs": [
    {
     "data": {
      "text/plain": [
       "204"
      ]
     },
     "execution_count": 358,
     "metadata": {},
     "output_type": "execute_result"
    }
   ],
   "source": [
    "(data['dice_sim_pos'][:,1:20] < 31).sum()"
   ]
  },
  {
   "cell_type": "code",
   "execution_count": 359,
   "metadata": {},
   "outputs": [
    {
     "data": {
      "text/plain": [
       "220"
      ]
     },
     "execution_count": 359,
     "metadata": {},
     "output_type": "execute_result"
    }
   ],
   "source": [
    "data['dice_sim_pos'][:,0].sum()"
   ]
  },
  {
   "cell_type": "code",
   "execution_count": 360,
   "metadata": {},
   "outputs": [
    {
     "data": {
      "text/plain": [
       "0.9272727272727272"
      ]
     },
     "execution_count": 360,
     "metadata": {},
     "output_type": "execute_result"
    }
   ],
   "source": [
    "204/float(220)"
   ]
  },
  {
   "cell_type": "code",
   "execution_count": 181,
   "metadata": {},
   "outputs": [
    {
     "data": {
      "text/plain": [
       "3321"
      ]
     },
     "execution_count": 181,
     "metadata": {},
     "output_type": "execute_result"
    }
   ],
   "source": [
    "iu1 = np.triu_indices(data['dice_similarity'].shape[0], 1)\n",
    "len(data['dice_similarity'][iu1])"
   ]
  },
  {
   "cell_type": "code",
   "execution_count": 256,
   "metadata": {},
   "outputs": [
    {
     "data": {
      "text/plain": [
       "array([ 0.00664786,  0.01942077,  0.00435298,  0.00059826,  0.02459053,\n",
       "        0.00359271,  0.00753114,  0.02806139,  0.01041852,  0.01999435,\n",
       "        0.02391898,  0.00903934,  0.02524426,  0.0010468 ,  0.14990014,\n",
       "        0.01214686,  0.02721564,  0.01617415,  0.00700634,  0.01500623,\n",
       "        0.01928594,  0.00887264,  0.03252033,  0.02862813,  0.01950742,\n",
       "        0.03096686,  0.01316449,  0.05247587,  0.03582582,  0.03954834,\n",
       "        0.03726218,  0.00625069,  0.00608051,  0.02062885,  0.03836094])"
      ]
     },
     "execution_count": 256,
     "metadata": {},
     "output_type": "execute_result"
    }
   ],
   "source": [
    "np.diagonal(data['cosine_similarity'])"
   ]
  },
  {
   "cell_type": "code",
   "execution_count": 255,
   "metadata": {},
   "outputs": [
    {
     "data": {
      "text/plain": [
       "array([ 0.00513887,  0.01418224,  0.00255933,  0.00033982,  0.0098182 ,\n",
       "        0.00076302,  0.00443928,  0.01107934,  0.00509706,  0.00804548,\n",
       "        0.01126287,  0.00438509,  0.0080587 ,  0.0002848 ,  0.06678889,\n",
       "        0.00511741,  0.01555696,  0.01553298,  0.00155628,  0.00552059,\n",
       "        0.01016119,  0.00513602,  0.00898034,  0.00994821,  0.01048672,\n",
       "        0.00904403,  0.01029255,  0.02177278,  0.01293873,  0.00996673,\n",
       "        0.00925787,  0.00229885,  0.00213676,  0.01213948,  0.00962927])"
      ]
     },
     "execution_count": 255,
     "metadata": {},
     "output_type": "execute_result"
    }
   ],
   "source": [
    "np.diagonal(data['dice_similarity'])"
   ]
  },
  {
   "cell_type": "code",
   "execution_count": 259,
   "metadata": {
    "scrolled": false
   },
   "outputs": [
    {
     "data": {
      "text/html": [
       "\n",
       "<div class=\"bk-root\">\n",
       "    <div class=\"bk-plotdiv\" id=\"80d81b30-4319-4bbb-a888-5bae870cb16a\"></div>\n",
       "</div>"
      ]
     },
     "metadata": {},
     "output_type": "display_data"
    },
    {
     "data": {
      "application/javascript": [
       "(function(root) {\n",
       "  function embed_document(root) {\n",
       "    \n",
       "  var docs_json = {\"3280137d-12ee-4004-b014-1d9a63db19f4\":{\"roots\":{\"references\":[{\"attributes\":{\"axis_label\":\"Coumpounds per target\",\"formatter\":{\"id\":\"5d03d68f-5bfc-466e-8883-39544ab87116\",\"type\":\"BasicTickFormatter\"},\"plot\":{\"id\":\"d2bda514-d6f7-4f14-9fde-4798c5d14ec3\",\"subtype\":\"Figure\",\"type\":\"Plot\"},\"ticker\":{\"id\":\"04b0abea-a138-4714-9e07-26ec689eacc5\",\"type\":\"BasicTicker\"}},\"id\":\"2bd851ba-d3d7-408b-aac2-0811659c9857\",\"type\":\"LinearAxis\"},{\"attributes\":{\"below\":[{\"id\":\"2bd851ba-d3d7-408b-aac2-0811659c9857\",\"type\":\"LinearAxis\"}],\"left\":[{\"id\":\"58e95728-c7ff-4c6c-aa16-317747ae3aa3\",\"type\":\"LinearAxis\"}],\"renderers\":[{\"id\":\"2bd851ba-d3d7-408b-aac2-0811659c9857\",\"type\":\"LinearAxis\"},{\"id\":\"6207b64c-3164-4812-9616-a836a0b0ac7d\",\"type\":\"Grid\"},{\"id\":\"58e95728-c7ff-4c6c-aa16-317747ae3aa3\",\"type\":\"LinearAxis\"},{\"id\":\"20e76c11-cd2d-4795-aa35-5385ecd5db89\",\"type\":\"Grid\"},{\"id\":\"a7cdd1d1-590d-42f4-82c8-9fa1679be2b0\",\"type\":\"BoxAnnotation\"},{\"id\":\"23e3909f-57ed-4f4e-85d1-529fae6457a1\",\"type\":\"GlyphRenderer\"}],\"title\":{\"id\":\"b505f098-bbd6-4c2f-a84f-63c1d0999606\",\"type\":\"Title\"},\"toolbar\":{\"id\":\"c207b0b7-368e-46aa-80fd-7422d145d405\",\"type\":\"Toolbar\"},\"x_range\":{\"id\":\"d2c41fe1-9a84-4d52-bad0-50c2f401d41f\",\"type\":\"DataRange1d\"},\"x_scale\":{\"id\":\"961fdd27-1312-4bdb-80c9-7489412bb77a\",\"type\":\"LinearScale\"},\"y_range\":{\"id\":\"d58c9fce-9380-4692-ad70-a9db08e0ef1d\",\"type\":\"DataRange1d\"},\"y_scale\":{\"id\":\"6322a953-a5cf-4519-b6f7-42fbb492520e\",\"type\":\"LinearScale\"}},\"id\":\"d2bda514-d6f7-4f14-9fde-4798c5d14ec3\",\"subtype\":\"Figure\",\"type\":\"Plot\"},{\"attributes\":{\"callback\":null,\"column_names\":[\"left\",\"top\",\"right\"],\"data\":{\"left\":{\"__ndarray__\":\"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\",\"dtype\":\"float64\",\"shape\":[274]},\"right\":{\"__ndarray__\":\"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\",\"dtype\":\"float64\",\"shape\":[274]},\"top\":{\"__ndarray__\":\"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\",\"dtype\":\"float64\",\"shape\":[274]}}},\"id\":\"e87f9c68-0e43-41f3-8c4e-0320dd60b408\",\"type\":\"ColumnDataSource\"},{\"attributes\":{},\"id\":\"43c8af4e-7f04-48bf-9924-b97e5d38a182\",\"type\":\"ResetTool\"},{\"attributes\":{},\"id\":\"50e1a35b-9d8d-4fbe-97d0-c798e568b09f\",\"type\":\"PanTool\"},{\"attributes\":{},\"id\":\"d11117ab-463b-4cb8-a3e6-88c9472363f2\",\"type\":\"HelpTool\"},{\"attributes\":{\"active_drag\":\"auto\",\"active_inspect\":\"auto\",\"active_scroll\":\"auto\",\"active_tap\":\"auto\",\"tools\":[{\"id\":\"50e1a35b-9d8d-4fbe-97d0-c798e568b09f\",\"type\":\"PanTool\"},{\"id\":\"cab00fe5-335b-4eda-bc18-56a93f2ce621\",\"type\":\"WheelZoomTool\"},{\"id\":\"2c6eb1ee-b871-4738-8b38-6a60554bc85c\",\"type\":\"BoxZoomTool\"},{\"id\":\"a787f5a0-d450-44ef-b3b7-5018277f9454\",\"type\":\"SaveTool\"},{\"id\":\"43c8af4e-7f04-48bf-9924-b97e5d38a182\",\"type\":\"ResetTool\"},{\"id\":\"d11117ab-463b-4cb8-a3e6-88c9472363f2\",\"type\":\"HelpTool\"}]},\"id\":\"c207b0b7-368e-46aa-80fd-7422d145d405\",\"type\":\"Toolbar\"},{\"attributes\":{},\"id\":\"a59b3957-19b6-4d06-a16a-600174f17268\",\"type\":\"BasicTicker\"},{\"attributes\":{},\"id\":\"a787f5a0-d450-44ef-b3b7-5018277f9454\",\"type\":\"SaveTool\"},{\"attributes\":{},\"id\":\"04b0abea-a138-4714-9e07-26ec689eacc5\",\"type\":\"BasicTicker\"},{\"attributes\":{\"callback\":null},\"id\":\"d2c41fe1-9a84-4d52-bad0-50c2f401d41f\",\"type\":\"DataRange1d\"},{\"attributes\":{\"bottom\":{\"value\":0},\"fill_alpha\":{\"value\":0.1},\"fill_color\":{\"value\":\"#1f77b4\"},\"left\":{\"field\":\"left\"},\"line_alpha\":{\"value\":0.1},\"line_color\":{\"value\":\"#1f77b4\"},\"right\":{\"field\":\"right\"},\"top\":{\"field\":\"top\"}},\"id\":\"0faccd50-f78d-4387-82a3-ecb01f257c1a\",\"type\":\"Quad\"},{\"attributes\":{},\"id\":\"142f595c-b5a6-4ccc-a7d6-0005ba0d4dc9\",\"type\":\"BasicTickFormatter\"},{\"attributes\":{\"dimension\":1,\"plot\":{\"id\":\"d2bda514-d6f7-4f14-9fde-4798c5d14ec3\",\"subtype\":\"Figure\",\"type\":\"Plot\"},\"ticker\":{\"id\":\"a59b3957-19b6-4d06-a16a-600174f17268\",\"type\":\"BasicTicker\"}},\"id\":\"20e76c11-cd2d-4795-aa35-5385ecd5db89\",\"type\":\"Grid\"},{\"attributes\":{\"axis_label\":\"Percentage of targets\",\"formatter\":{\"id\":\"142f595c-b5a6-4ccc-a7d6-0005ba0d4dc9\",\"type\":\"BasicTickFormatter\"},\"plot\":{\"id\":\"d2bda514-d6f7-4f14-9fde-4798c5d14ec3\",\"subtype\":\"Figure\",\"type\":\"Plot\"},\"ticker\":{\"id\":\"a59b3957-19b6-4d06-a16a-600174f17268\",\"type\":\"BasicTicker\"}},\"id\":\"58e95728-c7ff-4c6c-aa16-317747ae3aa3\",\"type\":\"LinearAxis\"},{\"attributes\":{\"bottom_units\":\"screen\",\"fill_alpha\":{\"value\":0.5},\"fill_color\":{\"value\":\"lightgrey\"},\"left_units\":\"screen\",\"level\":\"overlay\",\"line_alpha\":{\"value\":1.0},\"line_color\":{\"value\":\"black\"},\"line_dash\":[4,4],\"line_width\":{\"value\":2},\"plot\":null,\"render_mode\":\"css\",\"right_units\":\"screen\",\"top_units\":\"screen\"},\"id\":\"a7cdd1d1-590d-42f4-82c8-9fa1679be2b0\",\"type\":\"BoxAnnotation\"},{\"attributes\":{},\"id\":\"5d03d68f-5bfc-466e-8883-39544ab87116\",\"type\":\"BasicTickFormatter\"},{\"attributes\":{\"plot\":{\"id\":\"d2bda514-d6f7-4f14-9fde-4798c5d14ec3\",\"subtype\":\"Figure\",\"type\":\"Plot\"},\"ticker\":{\"id\":\"04b0abea-a138-4714-9e07-26ec689eacc5\",\"type\":\"BasicTicker\"}},\"id\":\"6207b64c-3164-4812-9616-a836a0b0ac7d\",\"type\":\"Grid\"},{\"attributes\":{},\"id\":\"cab00fe5-335b-4eda-bc18-56a93f2ce621\",\"type\":\"WheelZoomTool\"},{\"attributes\":{\"data_source\":{\"id\":\"e87f9c68-0e43-41f3-8c4e-0320dd60b408\",\"type\":\"ColumnDataSource\"},\"glyph\":{\"id\":\"458f9fa0-8399-4844-9eca-005fc072d4bb\",\"type\":\"Quad\"},\"hover_glyph\":null,\"muted_glyph\":null,\"nonselection_glyph\":{\"id\":\"0faccd50-f78d-4387-82a3-ecb01f257c1a\",\"type\":\"Quad\"},\"selection_glyph\":null,\"view\":{\"id\":\"aba165a2-7f0f-4869-a16e-ee593f1d0a61\",\"type\":\"CDSView\"}},\"id\":\"23e3909f-57ed-4f4e-85d1-529fae6457a1\",\"type\":\"GlyphRenderer\"},{\"attributes\":{\"overlay\":{\"id\":\"a7cdd1d1-590d-42f4-82c8-9fa1679be2b0\",\"type\":\"BoxAnnotation\"}},\"id\":\"2c6eb1ee-b871-4738-8b38-6a60554bc85c\",\"type\":\"BoxZoomTool\"},{\"attributes\":{\"callback\":null},\"id\":\"d58c9fce-9380-4692-ad70-a9db08e0ef1d\",\"type\":\"DataRange1d\"},{\"attributes\":{\"source\":{\"id\":\"e87f9c68-0e43-41f3-8c4e-0320dd60b408\",\"type\":\"ColumnDataSource\"}},\"id\":\"aba165a2-7f0f-4869-a16e-ee593f1d0a61\",\"type\":\"CDSView\"},{\"attributes\":{},\"id\":\"6322a953-a5cf-4519-b6f7-42fbb492520e\",\"type\":\"LinearScale\"},{\"attributes\":{\"bottom\":{\"value\":0},\"fill_color\":{\"value\":\"#99d594\"},\"left\":{\"field\":\"left\"},\"line_color\":{\"value\":\"#1f77b4\"},\"right\":{\"field\":\"right\"},\"top\":{\"field\":\"top\"}},\"id\":\"458f9fa0-8399-4844-9eca-005fc072d4bb\",\"type\":\"Quad\"},{\"attributes\":{},\"id\":\"961fdd27-1312-4bdb-80c9-7489412bb77a\",\"type\":\"LinearScale\"},{\"attributes\":{\"plot\":null,\"text\":\"\"},\"id\":\"b505f098-bbd6-4c2f-a84f-63c1d0999606\",\"type\":\"Title\"}],\"root_ids\":[\"d2bda514-d6f7-4f14-9fde-4798c5d14ec3\"]},\"title\":\"Bokeh Application\",\"version\":\"0.12.13\"}};\n",
       "  var render_items = [{\"docid\":\"3280137d-12ee-4004-b014-1d9a63db19f4\",\"elementid\":\"80d81b30-4319-4bbb-a888-5bae870cb16a\",\"modelid\":\"d2bda514-d6f7-4f14-9fde-4798c5d14ec3\",\"notebook_comms_target\":\"eded21e3-e419-4071-a4ee-35a7f7b29114\"}];\n",
       "  root.Bokeh.embed.embed_items_notebook(docs_json, render_items);\n",
       "\n",
       "  }\n",
       "  if (root.Bokeh !== undefined) {\n",
       "    embed_document(root);\n",
       "  } else {\n",
       "    var attempts = 0;\n",
       "    var timer = setInterval(function(root) {\n",
       "      if (root.Bokeh !== undefined) {\n",
       "        embed_document(root);\n",
       "        clearInterval(timer);\n",
       "      }\n",
       "      attempts++;\n",
       "      if (attempts > 100) {\n",
       "        console.log(\"Bokeh: ERROR: Unable to run BokehJS code because BokehJS library is missing\")\n",
       "        clearInterval(timer);\n",
       "      }\n",
       "    }, 10, root)\n",
       "  }\n",
       "})(window);"
      ],
      "application/vnd.bokehjs_exec.v0+json": ""
     },
     "metadata": {
      "application/vnd.bokehjs_exec.v0+json": {
       "id": "d2bda514-d6f7-4f14-9fde-4798c5d14ec3"
      }
     },
     "output_type": "display_data"
    },
    {
     "data": {
      "text/html": [
       "<p><code>&lt;Bokeh Notebook handle for <strong>In[4]</strong>&gt;</code></p>"
      ],
      "text/plain": [
       "<bokeh.io.notebook.CommsHandle at 0x118ef1090>"
      ]
     },
     "execution_count": 259,
     "metadata": {},
     "output_type": "execute_result"
    }
   ],
   "source": [
    "hist, edges = np.histogram(data['cosine_similarity'], density=False, bins='auto')\n",
    "hist = np.true_divide(hist, hist.sum())*100\n",
    "p1 = figure(x_axis_label='Coumpounds per target', y_axis_label='Percentage of targets')\n",
    "p1.quad(top=hist, bottom=0, left=edges[:-1], right=edges[1:],\n",
    "        fill_color=Spectral6[1])\n",
    "show(p1, notebook_handle=True)"
   ]
  },
  {
   "cell_type": "code",
   "execution_count": 219,
   "metadata": {},
   "outputs": [
    {
     "data": {
      "text/plain": [
       "array([707, 619, 351, 207, 178, 123, 118, 108, 111,  97,  88,  85,  67,\n",
       "        54,  34,  30,  27,  29,  25,  24,  17,  17,  11,  13,  10,   8,\n",
       "         7,   6,   8,   2,   4,   7,   3,   5,   2,   3,   2,   3,   2,\n",
       "         1,   1,   0,   1,   4,   0,   1,   2,   1,   0,   2,   5,   6,\n",
       "         1,   2,   1,   3,   1,   2,   0,   1,   0,   1,   0,   0,   1,\n",
       "         2,   0,   2,   2,   0,   1,   0,   2,   1,   2,   3,   2,   2,\n",
       "         1,   1,   0,   0,   1,   1,   0,   0,   1,   0,   0,   0,   0,\n",
       "         1,   1,   1,   1,   1,   0,   1,   0,   0,   1,   2,   4,   1,\n",
       "         2,   2,   1,   4,   0,   2,   2,   1,   1,   3,   1,   3,   0,\n",
       "         1,   1,   4,   0,   2,   0,   0,   0,   1,   1,   0,   0,   0,\n",
       "         0,   0,   1,   0,   1])"
      ]
     },
     "execution_count": 219,
     "metadata": {},
     "output_type": "execute_result"
    }
   ],
   "source": [
    "hist"
   ]
  },
  {
   "cell_type": "code",
   "execution_count": 260,
   "metadata": {
    "scrolled": false
   },
   "outputs": [
    {
     "data": {
      "text/html": [
       "\n",
       "<div class=\"bk-root\">\n",
       "    <div class=\"bk-plotdiv\" id=\"290dfb5d-0824-422b-abbe-8bb90f585e60\"></div>\n",
       "</div>"
      ]
     },
     "metadata": {},
     "output_type": "display_data"
    },
    {
     "data": {
      "application/javascript": [
       "(function(root) {\n",
       "  function embed_document(root) {\n",
       "    \n",
       "  var docs_json = {\"dee24b5e-1909-4321-a3b8-eacd27c4b552\":{\"roots\":{\"references\":[{\"attributes\":{},\"id\":\"944cd8dd-e30d-47ab-9817-88f0af15b611\",\"type\":\"WheelZoomTool\"},{\"attributes\":{},\"id\":\"a8f74174-d007-4ea4-b55f-ca8786d504c2\",\"type\":\"LinearScale\"},{\"attributes\":{\"plot\":{\"id\":\"89f01ba3-a93c-46a7-86f4-f57c6d295fb2\",\"subtype\":\"Figure\",\"type\":\"Plot\"},\"ticker\":{\"id\":\"27049090-2254-4cef-88f7-a067c1ce06a0\",\"type\":\"BasicTicker\"}},\"id\":\"2cae1e5b-ae00-4f0e-8466-d9f560216f32\",\"type\":\"Grid\"},{\"attributes\":{\"callback\":null},\"id\":\"4dd0f903-2a9d-43fc-918f-d6eff02a81b1\",\"type\":\"DataRange1d\"},{\"attributes\":{},\"id\":\"3257ebaf-ac7a-4c67-bcbf-9e0cb20dc4ac\",\"type\":\"BasicTickFormatter\"},{\"attributes\":{},\"id\":\"371a1dff-9a1b-41de-b4dd-6dab09c1ca26\",\"type\":\"PanTool\"},{\"attributes\":{},\"id\":\"91f6bcdf-90f3-416c-9e14-902ed856237a\",\"type\":\"LinearScale\"},{\"attributes\":{\"plot\":null,\"text\":\"\"},\"id\":\"4659f121-f795-4f89-820d-9d6c735c35c4\",\"type\":\"Title\"},{\"attributes\":{},\"id\":\"bf4bc092-7ea4-450d-8354-8dc5ca3043e8\",\"type\":\"HelpTool\"},{\"attributes\":{\"dimension\":1,\"plot\":{\"id\":\"89f01ba3-a93c-46a7-86f4-f57c6d295fb2\",\"subtype\":\"Figure\",\"type\":\"Plot\"},\"ticker\":{\"id\":\"3d3fb88a-3bd4-49d0-9ab3-c7ac4ece13b0\",\"type\":\"BasicTicker\"}},\"id\":\"8845039f-8c14-4b8e-96fa-3a07e910fb27\",\"type\":\"Grid\"},{\"attributes\":{},\"id\":\"344240ef-99c9-4759-925d-d8cd3c9e1a20\",\"type\":\"BasicTickFormatter\"},{\"attributes\":{\"callback\":null},\"id\":\"ee2241a4-9d49-4e9e-8c12-4d8c72df0d72\",\"type\":\"DataRange1d\"},{\"attributes\":{\"data_source\":{\"id\":\"c0243ea8-2222-443d-a951-3507c747ebbd\",\"type\":\"ColumnDataSource\"},\"glyph\":{\"id\":\"6a54eb37-d0c1-44af-95c4-f00e80b69b24\",\"type\":\"Quad\"},\"hover_glyph\":null,\"muted_glyph\":null,\"nonselection_glyph\":{\"id\":\"317a42c0-6068-4487-b856-fa762e7c9367\",\"type\":\"Quad\"},\"selection_glyph\":null,\"view\":{\"id\":\"4ef4d8f3-db87-4793-8e8b-6e6168c9022a\",\"type\":\"CDSView\"}},\"id\":\"adb17f3b-9e19-4f18-9670-b8a7bc33b252\",\"type\":\"GlyphRenderer\"},{\"attributes\":{\"bottom_units\":\"screen\",\"fill_alpha\":{\"value\":0.5},\"fill_color\":{\"value\":\"lightgrey\"},\"left_units\":\"screen\",\"level\":\"overlay\",\"line_alpha\":{\"value\":1.0},\"line_color\":{\"value\":\"black\"},\"line_dash\":[4,4],\"line_width\":{\"value\":2},\"plot\":null,\"render_mode\":\"css\",\"right_units\":\"screen\",\"top_units\":\"screen\"},\"id\":\"50c58744-2389-47af-86fd-e0e07404010b\",\"type\":\"BoxAnnotation\"},{\"attributes\":{\"axis_label\":\"Coumpounds per target\",\"formatter\":{\"id\":\"3257ebaf-ac7a-4c67-bcbf-9e0cb20dc4ac\",\"type\":\"BasicTickFormatter\"},\"plot\":{\"id\":\"89f01ba3-a93c-46a7-86f4-f57c6d295fb2\",\"subtype\":\"Figure\",\"type\":\"Plot\"},\"ticker\":{\"id\":\"27049090-2254-4cef-88f7-a067c1ce06a0\",\"type\":\"BasicTicker\"}},\"id\":\"d79d5a37-0686-46d6-90c1-1aab6b456492\",\"type\":\"LinearAxis\"},{\"attributes\":{\"axis_label\":\"Percentage of targets\",\"formatter\":{\"id\":\"344240ef-99c9-4759-925d-d8cd3c9e1a20\",\"type\":\"BasicTickFormatter\"},\"plot\":{\"id\":\"89f01ba3-a93c-46a7-86f4-f57c6d295fb2\",\"subtype\":\"Figure\",\"type\":\"Plot\"},\"ticker\":{\"id\":\"3d3fb88a-3bd4-49d0-9ab3-c7ac4ece13b0\",\"type\":\"BasicTicker\"}},\"id\":\"e8de3d1b-f288-48e2-9c4a-d8cc33e6a0f9\",\"type\":\"LinearAxis\"},{\"attributes\":{\"bottom\":{\"value\":0},\"fill_color\":{\"value\":\"#99d594\"},\"left\":{\"field\":\"left\"},\"line_color\":{\"value\":\"#1f77b4\"},\"right\":{\"field\":\"right\"},\"top\":{\"field\":\"top\"}},\"id\":\"6a54eb37-d0c1-44af-95c4-f00e80b69b24\",\"type\":\"Quad\"},{\"attributes\":{\"source\":{\"id\":\"c0243ea8-2222-443d-a951-3507c747ebbd\",\"type\":\"ColumnDataSource\"}},\"id\":\"4ef4d8f3-db87-4793-8e8b-6e6168c9022a\",\"type\":\"CDSView\"},{\"attributes\":{\"callback\":null,\"column_names\":[\"left\",\"top\",\"right\"],\"data\":{\"left\":{\"__ndarray__\":\"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\",\"dtype\":\"float64\",\"shape\":[655]},\"right\":{\"__ndarray__\":\"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\",\"dtype\":\"float64\",\"shape\":[655]},\"top\":{\"__ndarray__\":\"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\",\"dtype\":\"float64\",\"shape\":[655]}}},\"id\":\"c0243ea8-2222-443d-a951-3507c747ebbd\",\"type\":\"ColumnDataSource\"},{\"attributes\":{},\"id\":\"66278fbe-953c-47cd-8869-007ab047afd4\",\"type\":\"SaveTool\"},{\"attributes\":{\"below\":[{\"id\":\"d79d5a37-0686-46d6-90c1-1aab6b456492\",\"type\":\"LinearAxis\"}],\"left\":[{\"id\":\"e8de3d1b-f288-48e2-9c4a-d8cc33e6a0f9\",\"type\":\"LinearAxis\"}],\"renderers\":[{\"id\":\"d79d5a37-0686-46d6-90c1-1aab6b456492\",\"type\":\"LinearAxis\"},{\"id\":\"2cae1e5b-ae00-4f0e-8466-d9f560216f32\",\"type\":\"Grid\"},{\"id\":\"e8de3d1b-f288-48e2-9c4a-d8cc33e6a0f9\",\"type\":\"LinearAxis\"},{\"id\":\"8845039f-8c14-4b8e-96fa-3a07e910fb27\",\"type\":\"Grid\"},{\"id\":\"50c58744-2389-47af-86fd-e0e07404010b\",\"type\":\"BoxAnnotation\"},{\"id\":\"adb17f3b-9e19-4f18-9670-b8a7bc33b252\",\"type\":\"GlyphRenderer\"}],\"title\":{\"id\":\"4659f121-f795-4f89-820d-9d6c735c35c4\",\"type\":\"Title\"},\"toolbar\":{\"id\":\"7b966b20-1705-48ca-8cc7-485629574552\",\"type\":\"Toolbar\"},\"x_range\":{\"id\":\"ee2241a4-9d49-4e9e-8c12-4d8c72df0d72\",\"type\":\"DataRange1d\"},\"x_scale\":{\"id\":\"91f6bcdf-90f3-416c-9e14-902ed856237a\",\"type\":\"LinearScale\"},\"y_range\":{\"id\":\"4dd0f903-2a9d-43fc-918f-d6eff02a81b1\",\"type\":\"DataRange1d\"},\"y_scale\":{\"id\":\"a8f74174-d007-4ea4-b55f-ca8786d504c2\",\"type\":\"LinearScale\"}},\"id\":\"89f01ba3-a93c-46a7-86f4-f57c6d295fb2\",\"subtype\":\"Figure\",\"type\":\"Plot\"},{\"attributes\":{},\"id\":\"0b02e25b-8130-4d50-b88d-03dd603935ef\",\"type\":\"ResetTool\"},{\"attributes\":{},\"id\":\"3d3fb88a-3bd4-49d0-9ab3-c7ac4ece13b0\",\"type\":\"BasicTicker\"},{\"attributes\":{\"active_drag\":\"auto\",\"active_inspect\":\"auto\",\"active_scroll\":\"auto\",\"active_tap\":\"auto\",\"tools\":[{\"id\":\"371a1dff-9a1b-41de-b4dd-6dab09c1ca26\",\"type\":\"PanTool\"},{\"id\":\"944cd8dd-e30d-47ab-9817-88f0af15b611\",\"type\":\"WheelZoomTool\"},{\"id\":\"611299d8-09ed-4694-b3b7-e21a8b7e0663\",\"type\":\"BoxZoomTool\"},{\"id\":\"66278fbe-953c-47cd-8869-007ab047afd4\",\"type\":\"SaveTool\"},{\"id\":\"0b02e25b-8130-4d50-b88d-03dd603935ef\",\"type\":\"ResetTool\"},{\"id\":\"bf4bc092-7ea4-450d-8354-8dc5ca3043e8\",\"type\":\"HelpTool\"}]},\"id\":\"7b966b20-1705-48ca-8cc7-485629574552\",\"type\":\"Toolbar\"},{\"attributes\":{\"bottom\":{\"value\":0},\"fill_alpha\":{\"value\":0.1},\"fill_color\":{\"value\":\"#1f77b4\"},\"left\":{\"field\":\"left\"},\"line_alpha\":{\"value\":0.1},\"line_color\":{\"value\":\"#1f77b4\"},\"right\":{\"field\":\"right\"},\"top\":{\"field\":\"top\"}},\"id\":\"317a42c0-6068-4487-b856-fa762e7c9367\",\"type\":\"Quad\"},{\"attributes\":{},\"id\":\"27049090-2254-4cef-88f7-a067c1ce06a0\",\"type\":\"BasicTicker\"},{\"attributes\":{\"overlay\":{\"id\":\"50c58744-2389-47af-86fd-e0e07404010b\",\"type\":\"BoxAnnotation\"}},\"id\":\"611299d8-09ed-4694-b3b7-e21a8b7e0663\",\"type\":\"BoxZoomTool\"}],\"root_ids\":[\"89f01ba3-a93c-46a7-86f4-f57c6d295fb2\"]},\"title\":\"Bokeh Application\",\"version\":\"0.12.13\"}};\n",
       "  var render_items = [{\"docid\":\"dee24b5e-1909-4321-a3b8-eacd27c4b552\",\"elementid\":\"290dfb5d-0824-422b-abbe-8bb90f585e60\",\"modelid\":\"89f01ba3-a93c-46a7-86f4-f57c6d295fb2\",\"notebook_comms_target\":\"6edb92be-3dd3-44c8-b232-89d170604ae7\"}];\n",
       "  root.Bokeh.embed.embed_items_notebook(docs_json, render_items);\n",
       "\n",
       "  }\n",
       "  if (root.Bokeh !== undefined) {\n",
       "    embed_document(root);\n",
       "  } else {\n",
       "    var attempts = 0;\n",
       "    var timer = setInterval(function(root) {\n",
       "      if (root.Bokeh !== undefined) {\n",
       "        embed_document(root);\n",
       "        clearInterval(timer);\n",
       "      }\n",
       "      attempts++;\n",
       "      if (attempts > 100) {\n",
       "        console.log(\"Bokeh: ERROR: Unable to run BokehJS code because BokehJS library is missing\")\n",
       "        clearInterval(timer);\n",
       "      }\n",
       "    }, 10, root)\n",
       "  }\n",
       "})(window);"
      ],
      "application/vnd.bokehjs_exec.v0+json": ""
     },
     "metadata": {
      "application/vnd.bokehjs_exec.v0+json": {
       "id": "89f01ba3-a93c-46a7-86f4-f57c6d295fb2"
      }
     },
     "output_type": "display_data"
    },
    {
     "data": {
      "text/html": [
       "<p><code>&lt;Bokeh Notebook handle for <strong>In[4]</strong>&gt;</code></p>"
      ],
      "text/plain": [
       "<bokeh.io.notebook.CommsHandle at 0x11872c310>"
      ]
     },
     "execution_count": 260,
     "metadata": {},
     "output_type": "execute_result"
    }
   ],
   "source": [
    "hist, edges = np.histogram(data['dice_similarity'], density=False, bins='auto')\n",
    "hist = np.true_divide(hist, hist.sum())*100\n",
    "p1 = figure(x_axis_label='Coumpounds per target', y_axis_label='Percentage of targets')\n",
    "p1.quad(top=hist, bottom=0, left=edges[:-1], right=edges[1:],\n",
    "        fill_color=Spectral6[1])\n",
    "show(p1, notebook_handle=True)"
   ]
  },
  {
   "cell_type": "code",
   "execution_count": 239,
   "metadata": {},
   "outputs": [
    {
     "data": {
      "text/html": [
       "\n",
       "<div class=\"bk-root\">\n",
       "    <div class=\"bk-plotdiv\" id=\"1a25206b-09a5-40bb-8bbb-220cf2edbf96\"></div>\n",
       "</div>"
      ]
     },
     "metadata": {},
     "output_type": "display_data"
    },
    {
     "data": {
      "application/javascript": [
       "(function(root) {\n",
       "  function embed_document(root) {\n",
       "    \n",
       "  var docs_json = {\"3c533597-489a-4c5d-b83c-d9343743b728\":{\"roots\":{\"references\":[{\"attributes\":{},\"id\":\"5579cae3-9e83-4213-bdf0-9314d4065fa5\",\"type\":\"LinearScale\"},{\"attributes\":{\"bottom\":{\"value\":0},\"fill_alpha\":{\"value\":0.1},\"fill_color\":{\"value\":\"#1f77b4\"},\"left\":{\"field\":\"left\"},\"line_alpha\":{\"value\":0.1},\"line_color\":{\"value\":\"#1f77b4\"},\"right\":{\"field\":\"right\"},\"top\":{\"field\":\"top\"}},\"id\":\"3733d1d1-4c99-4e1a-b654-6e768f866148\",\"type\":\"Quad\"},{\"attributes\":{},\"id\":\"1f3b7d64-04b5-4436-a5ae-72b0a996f684\",\"type\":\"BasicTicker\"},{\"attributes\":{\"data_source\":{\"id\":\"eee7ad02-cc18-4c0e-b159-dbdee9820cab\",\"type\":\"ColumnDataSource\"},\"glyph\":{\"id\":\"1a7b14ee-da74-4642-912b-5f5377b81a0a\",\"type\":\"Quad\"},\"hover_glyph\":null,\"muted_glyph\":null,\"nonselection_glyph\":{\"id\":\"3733d1d1-4c99-4e1a-b654-6e768f866148\",\"type\":\"Quad\"},\"selection_glyph\":null,\"view\":{\"id\":\"d2cc7d7e-efa4-48dc-8b54-91a627da1e1d\",\"type\":\"CDSView\"}},\"id\":\"b7bde62a-ce8f-4aca-a741-734396006df9\",\"type\":\"GlyphRenderer\"},{\"attributes\":{},\"id\":\"c999f8bd-0610-4046-9df4-67a0c4194536\",\"type\":\"WheelZoomTool\"},{\"attributes\":{\"source\":{\"id\":\"eee7ad02-cc18-4c0e-b159-dbdee9820cab\",\"type\":\"ColumnDataSource\"}},\"id\":\"d2cc7d7e-efa4-48dc-8b54-91a627da1e1d\",\"type\":\"CDSView\"},{\"attributes\":{\"overlay\":{\"id\":\"0ac19459-c6b6-4e25-8e6e-bccf25e055f4\",\"type\":\"BoxAnnotation\"}},\"id\":\"167b6f62-5301-4209-b705-fdedfb697569\",\"type\":\"BoxZoomTool\"},{\"attributes\":{\"callback\":null},\"id\":\"6b9f4d25-c135-46f9-9050-e94d921ad156\",\"type\":\"DataRange1d\"},{\"attributes\":{\"dimension\":1,\"plot\":{\"id\":\"eeeafd8b-d6e2-42d0-b2c3-07910b9451ae\",\"subtype\":\"Figure\",\"type\":\"Plot\"},\"ticker\":{\"id\":\"1f3b7d64-04b5-4436-a5ae-72b0a996f684\",\"type\":\"BasicTicker\"}},\"id\":\"a23b26c1-db35-47fd-a5ff-cec45a3dcfde\",\"type\":\"Grid\"},{\"attributes\":{\"plot\":null,\"text\":\"\"},\"id\":\"0aeac325-0c15-47e5-b54d-813f72fe271e\",\"type\":\"Title\"},{\"attributes\":{},\"id\":\"fb7a31c8-4344-4a2d-a2d4-0f0d2764c168\",\"type\":\"LinearScale\"},{\"attributes\":{\"plot\":{\"id\":\"eeeafd8b-d6e2-42d0-b2c3-07910b9451ae\",\"subtype\":\"Figure\",\"type\":\"Plot\"},\"ticker\":{\"id\":\"3b3207a2-d39a-4be5-afb3-f1d785d7e1c5\",\"type\":\"BasicTicker\"}},\"id\":\"a27a874c-8ad5-4b98-a5f3-40a3c7aa4852\",\"type\":\"Grid\"},{\"attributes\":{},\"id\":\"d94236d7-c134-43af-a121-9e25312268ec\",\"type\":\"SaveTool\"},{\"attributes\":{},\"id\":\"44941c6b-482d-4116-b734-9aae317b1f7d\",\"type\":\"HelpTool\"},{\"attributes\":{\"axis_label\":\"Coumpounds per target\",\"formatter\":{\"id\":\"ff78b670-a2d7-4459-ad12-39a4adb48ee0\",\"type\":\"BasicTickFormatter\"},\"plot\":{\"id\":\"eeeafd8b-d6e2-42d0-b2c3-07910b9451ae\",\"subtype\":\"Figure\",\"type\":\"Plot\"},\"ticker\":{\"id\":\"3b3207a2-d39a-4be5-afb3-f1d785d7e1c5\",\"type\":\"BasicTicker\"}},\"id\":\"cf1e4db7-cccb-4fbb-88bf-d4b093f14b4a\",\"type\":\"LinearAxis\"},{\"attributes\":{\"below\":[{\"id\":\"cf1e4db7-cccb-4fbb-88bf-d4b093f14b4a\",\"type\":\"LinearAxis\"}],\"left\":[{\"id\":\"765581f8-a69c-40ff-a64e-eaa03f793e48\",\"type\":\"LinearAxis\"}],\"renderers\":[{\"id\":\"cf1e4db7-cccb-4fbb-88bf-d4b093f14b4a\",\"type\":\"LinearAxis\"},{\"id\":\"a27a874c-8ad5-4b98-a5f3-40a3c7aa4852\",\"type\":\"Grid\"},{\"id\":\"765581f8-a69c-40ff-a64e-eaa03f793e48\",\"type\":\"LinearAxis\"},{\"id\":\"a23b26c1-db35-47fd-a5ff-cec45a3dcfde\",\"type\":\"Grid\"},{\"id\":\"0ac19459-c6b6-4e25-8e6e-bccf25e055f4\",\"type\":\"BoxAnnotation\"},{\"id\":\"b7bde62a-ce8f-4aca-a741-734396006df9\",\"type\":\"GlyphRenderer\"}],\"title\":{\"id\":\"0aeac325-0c15-47e5-b54d-813f72fe271e\",\"type\":\"Title\"},\"toolbar\":{\"id\":\"4b150d53-d306-4a65-8543-a97cae4f2fe9\",\"type\":\"Toolbar\"},\"x_range\":{\"id\":\"6b9f4d25-c135-46f9-9050-e94d921ad156\",\"type\":\"DataRange1d\"},\"x_scale\":{\"id\":\"5579cae3-9e83-4213-bdf0-9314d4065fa5\",\"type\":\"LinearScale\"},\"y_range\":{\"id\":\"12ef4dc0-e224-42d2-b105-5de64cd0b7fc\",\"type\":\"DataRange1d\"},\"y_scale\":{\"id\":\"fb7a31c8-4344-4a2d-a2d4-0f0d2764c168\",\"type\":\"LinearScale\"}},\"id\":\"eeeafd8b-d6e2-42d0-b2c3-07910b9451ae\",\"subtype\":\"Figure\",\"type\":\"Plot\"},{\"attributes\":{\"bottom_units\":\"screen\",\"fill_alpha\":{\"value\":0.5},\"fill_color\":{\"value\":\"lightgrey\"},\"left_units\":\"screen\",\"level\":\"overlay\",\"line_alpha\":{\"value\":1.0},\"line_color\":{\"value\":\"black\"},\"line_dash\":[4,4],\"line_width\":{\"value\":2},\"plot\":null,\"render_mode\":\"css\",\"right_units\":\"screen\",\"top_units\":\"screen\"},\"id\":\"0ac19459-c6b6-4e25-8e6e-bccf25e055f4\",\"type\":\"BoxAnnotation\"},{\"attributes\":{},\"id\":\"36cedd86-dd5e-4f32-9d9f-5cd43f58b1fb\",\"type\":\"BasicTickFormatter\"},{\"attributes\":{},\"id\":\"ff78b670-a2d7-4459-ad12-39a4adb48ee0\",\"type\":\"BasicTickFormatter\"},{\"attributes\":{\"active_drag\":\"auto\",\"active_inspect\":\"auto\",\"active_scroll\":\"auto\",\"active_tap\":\"auto\",\"tools\":[{\"id\":\"94543ea0-035c-44c6-a293-d8aa72502034\",\"type\":\"PanTool\"},{\"id\":\"c999f8bd-0610-4046-9df4-67a0c4194536\",\"type\":\"WheelZoomTool\"},{\"id\":\"167b6f62-5301-4209-b705-fdedfb697569\",\"type\":\"BoxZoomTool\"},{\"id\":\"d94236d7-c134-43af-a121-9e25312268ec\",\"type\":\"SaveTool\"},{\"id\":\"af568a79-0b7f-423b-9dba-e8aca17fb5d1\",\"type\":\"ResetTool\"},{\"id\":\"44941c6b-482d-4116-b734-9aae317b1f7d\",\"type\":\"HelpTool\"}]},\"id\":\"4b150d53-d306-4a65-8543-a97cae4f2fe9\",\"type\":\"Toolbar\"},{\"attributes\":{\"axis_label\":\"Percentage of targets\",\"formatter\":{\"id\":\"36cedd86-dd5e-4f32-9d9f-5cd43f58b1fb\",\"type\":\"BasicTickFormatter\"},\"plot\":{\"id\":\"eeeafd8b-d6e2-42d0-b2c3-07910b9451ae\",\"subtype\":\"Figure\",\"type\":\"Plot\"},\"ticker\":{\"id\":\"1f3b7d64-04b5-4436-a5ae-72b0a996f684\",\"type\":\"BasicTicker\"}},\"id\":\"765581f8-a69c-40ff-a64e-eaa03f793e48\",\"type\":\"LinearAxis\"},{\"attributes\":{\"bottom\":{\"value\":0},\"fill_color\":{\"value\":\"#99d594\"},\"left\":{\"field\":\"left\"},\"line_color\":{\"value\":\"#1f77b4\"},\"right\":{\"field\":\"right\"},\"top\":{\"field\":\"top\"}},\"id\":\"1a7b14ee-da74-4642-912b-5f5377b81a0a\",\"type\":\"Quad\"},{\"attributes\":{\"callback\":null},\"id\":\"12ef4dc0-e224-42d2-b105-5de64cd0b7fc\",\"type\":\"DataRange1d\"},{\"attributes\":{\"callback\":null,\"column_names\":[\"left\",\"top\",\"right\"],\"data\":{\"left\":{\"__ndarray__\":\"Jfrss8ykqD82dJd7Iv2xP1lrOJ3ep7c/fGLZvppSvT/QLD1wq37BP2GoDYEJVMQ/8yPekWcpxz+En66ixf7JPxYbf7Mj1Mw/qJZPxIGpzz8dCZDqbz/RP+ZG+PIeqtI/r4Rg+80U1D94wsgDfX/VP0AAMQws6tY/CT6ZFNtU2D/SewEdir/ZP5u5aSU5Kts/ZPfRLeiU3D8sNTo2l//dP/Vyoj5Gat8/X1iFo3pq4D9Dd7kn0h/hPyeW7asp1eE/DLUhMIGK4j/w01W02D/jP9XyiTgw9eM/uRG+vIeq5D+dMPJA31/lP4JPJsU2FeY/Zm5aSY7K5j9LjY7N5X/nPy+swlE9Neg/E8v21ZTq6D/46Spa7J/pP9wIX95DVeo/wSeTYpsK6z+lRsfm8r/rP4ll+2pKdew/boQv76Eq7T9So2Nz+d/tPzfCl/dQle4/G+HLe6hK7z8=\",\"dtype\":\"float64\",\"shape\":[43]},\"right\":{\"__ndarray__\":\"NnSXeyL9sT9Zazid3qe3P3xi2b6aUr0/0Cw9cKt+wT9hqA2BCVTEP/Mj3pFnKcc/hJ+uosX+yT8WG3+zI9TMP6iWT8SBqc8/HQmQ6m8/0T/mRvjyHqrSP6+EYPvNFNQ/eMLIA31/1T9AADEMLOrWPwk+mRTbVNg/0nsBHYq/2T+buWklOSrbP2T30S3olNw/LDU6Npf/3T/1cqI+RmrfP19YhaN6auA/Q3e5J9If4T8nlu2rKdXhPwy1ITCBiuI/8NNVtNg/4z/V8ok4MPXjP7kRvryHquQ/nTDyQN9f5T+CTybFNhXmP2ZuWkmOyuY/S42OzeV/5z8vrMJRPTXoPxPL9tWU6ug/+OkqWuyf6T/cCF/eQ1XqP8Enk2KbCus/pUbH5vK/6z+JZftqSnXsP26EL++hKu0/UqNjc/nf7T83wpf3UJXuPxvhy3uoSu8/AAAAAAAA8D8=\",\"dtype\":\"float64\",\"shape\":[43]},\"top\":{\"__ndarray__\":\"4xEV8v4p7T/c7ai9husIQNz/Rxu65x5AME8iz65VGkCJns4Jkn0NQP1HfHbN8AdA21Kj9DDOA0DdZHDLdRACQOsj4shDbPs/txw8cGIH+T+EFZYXgaL2P6bUYwdyivA/KBkXPQMb8D/u7dY2mDHxP3oDyUA8YOg/f4wvrF6B5z8ZfuP6m7fiP3Hx+2n3Hdo/g/H7afcd2j+m1GMHcorgP1/NYbxtmd0/rUv9m09p4T8nfuP6m7fiP2kDyUA8YNg/fN8uk7Lbyz+US/2bT2nBP3zfLpOy26s/nSdj7sXktD9KzWG8bZnNP61L/ZtPacE/aQPJQDxguD+MA8lAPGDIP4wDyUA8YMg/aQPJQDxguD+MA8lAPGC4P38nY+7F5LQ/rUv9m09pwT+MA8lAPGC4P38nY+7F5LQ/nSdj7sXkpD9/J2PuxeSkP61L/ZtPacE/aQPJQDxguD8=\",\"dtype\":\"float64\",\"shape\":[43]}}},\"id\":\"eee7ad02-cc18-4c0e-b159-dbdee9820cab\",\"type\":\"ColumnDataSource\"},{\"attributes\":{},\"id\":\"af568a79-0b7f-423b-9dba-e8aca17fb5d1\",\"type\":\"ResetTool\"},{\"attributes\":{},\"id\":\"94543ea0-035c-44c6-a293-d8aa72502034\",\"type\":\"PanTool\"},{\"attributes\":{},\"id\":\"3b3207a2-d39a-4be5-afb3-f1d785d7e1c5\",\"type\":\"BasicTicker\"}],\"root_ids\":[\"eeeafd8b-d6e2-42d0-b2c3-07910b9451ae\"]},\"title\":\"Bokeh Application\",\"version\":\"0.12.13\"}};\n",
       "  var render_items = [{\"docid\":\"3c533597-489a-4c5d-b83c-d9343743b728\",\"elementid\":\"1a25206b-09a5-40bb-8bbb-220cf2edbf96\",\"modelid\":\"eeeafd8b-d6e2-42d0-b2c3-07910b9451ae\",\"notebook_comms_target\":\"9f6fa53c-7a6e-4c85-a444-086beae4ea76\"}];\n",
       "  root.Bokeh.embed.embed_items_notebook(docs_json, render_items);\n",
       "\n",
       "  }\n",
       "  if (root.Bokeh !== undefined) {\n",
       "    embed_document(root);\n",
       "  } else {\n",
       "    var attempts = 0;\n",
       "    var timer = setInterval(function(root) {\n",
       "      if (root.Bokeh !== undefined) {\n",
       "        embed_document(root);\n",
       "        clearInterval(timer);\n",
       "      }\n",
       "      attempts++;\n",
       "      if (attempts > 100) {\n",
       "        console.log(\"Bokeh: ERROR: Unable to run BokehJS code because BokehJS library is missing\")\n",
       "        clearInterval(timer);\n",
       "      }\n",
       "    }, 10, root)\n",
       "  }\n",
       "})(window);"
      ],
      "application/vnd.bokehjs_exec.v0+json": ""
     },
     "metadata": {
      "application/vnd.bokehjs_exec.v0+json": {
       "id": "eeeafd8b-d6e2-42d0-b2c3-07910b9451ae"
      }
     },
     "output_type": "display_data"
    },
    {
     "data": {
      "text/html": [
       "<p><code>&lt;Bokeh Notebook handle for <strong>In[4]</strong>&gt;</code></p>"
      ],
      "text/plain": [
       "<bokeh.io.notebook.CommsHandle at 0x1187d3750>"
      ]
     },
     "execution_count": 239,
     "metadata": {},
     "output_type": "execute_result"
    }
   ],
   "source": [
    "hist, edges = np.histogram(data['cosine_similarity'][iu1], density=True, bins='auto')\n",
    "p1 = figure(x_axis_label='Coumpounds per target', y_axis_label='Percentage of targets')\n",
    "p1.quad(top=hist, bottom=0, left=edges[:-1], right=edges[1:],\n",
    "        fill_color=Spectral6[1])\n",
    "show(p1, notebook_handle=True)"
   ]
  },
  {
   "cell_type": "code",
   "execution_count": 240,
   "metadata": {},
   "outputs": [
    {
     "data": {
      "text/html": [
       "\n",
       "<div class=\"bk-root\">\n",
       "    <div class=\"bk-plotdiv\" id=\"2ff4b5e5-6184-4ee3-aa82-6d97cd486557\"></div>\n",
       "</div>"
      ]
     },
     "metadata": {},
     "output_type": "display_data"
    },
    {
     "data": {
      "application/javascript": [
       "(function(root) {\n",
       "  function embed_document(root) {\n",
       "    \n",
       "  var docs_json = {\"c780ca3a-fb78-4a9b-8cfe-a8fadd76d958\":{\"roots\":{\"references\":[{\"attributes\":{},\"id\":\"f44f6130-0b5b-4987-8f4a-c4ab0dfb6efc\",\"type\":\"HelpTool\"},{\"attributes\":{\"overlay\":{\"id\":\"ba187d9a-4883-4c99-8310-692dc93c7682\",\"type\":\"BoxAnnotation\"}},\"id\":\"019b6f4e-c954-4ed3-a3f2-c5eb20ed4c02\",\"type\":\"BoxZoomTool\"},{\"attributes\":{},\"id\":\"9445d173-cb1b-4e2d-93e1-1bcd8f618254\",\"type\":\"BasicTicker\"},{\"attributes\":{},\"id\":\"5a0a612c-769a-4804-af1f-3886eb678b39\",\"type\":\"PanTool\"},{\"attributes\":{\"active_drag\":\"auto\",\"active_inspect\":\"auto\",\"active_scroll\":\"auto\",\"active_tap\":\"auto\",\"tools\":[{\"id\":\"5a0a612c-769a-4804-af1f-3886eb678b39\",\"type\":\"PanTool\"},{\"id\":\"1a0816a2-c703-4028-b75a-36329435ac15\",\"type\":\"WheelZoomTool\"},{\"id\":\"019b6f4e-c954-4ed3-a3f2-c5eb20ed4c02\",\"type\":\"BoxZoomTool\"},{\"id\":\"b7d2b5fa-d659-4097-bc7d-ed1f2e9967ec\",\"type\":\"SaveTool\"},{\"id\":\"f54b5f4a-4b6e-4115-b09d-1572255b4cdf\",\"type\":\"ResetTool\"},{\"id\":\"f44f6130-0b5b-4987-8f4a-c4ab0dfb6efc\",\"type\":\"HelpTool\"}]},\"id\":\"31f1e56f-d729-41a3-a0de-dfa2f47a2d52\",\"type\":\"Toolbar\"},{\"attributes\":{},\"id\":\"15d60a36-c2c1-4223-8ba1-5f420529128c\",\"type\":\"BasicTickFormatter\"},{\"attributes\":{\"data_source\":{\"id\":\"23387443-3805-49ab-acae-e27fb3f23edb\",\"type\":\"ColumnDataSource\"},\"glyph\":{\"id\":\"372ca62b-8f49-4ed9-a704-5b00613982e4\",\"type\":\"Quad\"},\"hover_glyph\":null,\"muted_glyph\":null,\"nonselection_glyph\":{\"id\":\"eabf0be5-d943-486a-aa01-724f3e65a451\",\"type\":\"Quad\"},\"selection_glyph\":null,\"view\":{\"id\":\"ee818f25-e589-4030-8777-68b316d613fa\",\"type\":\"CDSView\"}},\"id\":\"bea8a832-4983-423a-8b72-c16d86e55ac2\",\"type\":\"GlyphRenderer\"},{\"attributes\":{\"axis_label\":\"Percentage of targets\",\"formatter\":{\"id\":\"7e2d86ea-e514-4288-88c1-ad960f2eb6d6\",\"type\":\"BasicTickFormatter\"},\"plot\":{\"id\":\"713d1bcb-b319-4f77-9a82-1105c3f6d295\",\"subtype\":\"Figure\",\"type\":\"Plot\"},\"ticker\":{\"id\":\"9445d173-cb1b-4e2d-93e1-1bcd8f618254\",\"type\":\"BasicTicker\"}},\"id\":\"ddb373dd-c5bd-4eed-a227-36cb08c1026b\",\"type\":\"LinearAxis\"},{\"attributes\":{},\"id\":\"7e2d86ea-e514-4288-88c1-ad960f2eb6d6\",\"type\":\"BasicTickFormatter\"},{\"attributes\":{\"dimension\":1,\"plot\":{\"id\":\"713d1bcb-b319-4f77-9a82-1105c3f6d295\",\"subtype\":\"Figure\",\"type\":\"Plot\"},\"ticker\":{\"id\":\"9445d173-cb1b-4e2d-93e1-1bcd8f618254\",\"type\":\"BasicTicker\"}},\"id\":\"65f1c5a3-5c0f-41a2-b0bc-e459a6adab10\",\"type\":\"Grid\"},{\"attributes\":{},\"id\":\"1a0816a2-c703-4028-b75a-36329435ac15\",\"type\":\"WheelZoomTool\"},{\"attributes\":{\"callback\":null,\"column_names\":[\"left\",\"top\",\"right\"],\"data\":{\"left\":{\"__ndarray__\":\"4CFJ5ZEjpj8CAtvV1aKwPxRzEbniM7Y/JeRHnO/Euz+cKr8//qrAPyRjWrGEc8M/rZv1Igs8xj821JCUkQTJP78MLAYYzcs/SEXHd56Vzj/oPrF0Eq/QPy3bfq1VE9I/cXdM5ph30z+2Exof3NvUP/qv51cfQNY/P0y1kGKk1z+D6ILJpQjZP8eEUALpbNo/DCEeOyzR2z9QvetzbzXdP5VZuayymd4/2fWG5fX93z8PSSqPHLHgPzEXkSs+Y+E/U+X3x18V4j91s15kgcfiP5iBxQCjeeM/uk8sncQr5D/cHZM55t3kP/7r+dUHkOU/IbpgcilC5j9DiMcOS/TmP2VWLqtspuc/hySVR45Y6D+p8vvjrwrpP8zAYoDRvOk/7o7JHPNu6j8QXTC5FCHrPzIrl1U20+s/Vfn98VeF7D93x2SOeTftP5mVyyqb6e0/u2Myx7yb7j/dMZlj3k3vPw==\",\"dtype\":\"float64\",\"shape\":[44]},\"right\":{\"__ndarray__\":\"AgLb1dWisD8UcxG54jO2PyXkR5zvxLs/nCq/P/6qwD8kY1qxhHPDP62b9SILPMY/NtSQlJEEyT+/DCwGGM3LP0hFx3eelc4/6D6xdBKv0D8t236tVRPSP3F3TOaYd9M/thMaH9zb1D/6r+dXH0DWPz9MtZBipNc/g+iCyaUI2T/HhFAC6WzaPwwhHjss0ds/UL3rc2813T+VWbmsspneP9n1huX1/d8/D0kqjxyx4D8xF5ErPmPhP1Pl98dfFeI/dbNeZIHH4j+YgcUAo3njP7pPLJ3EK+Q/3B2TOebd5D/+6/nVB5DlPyG6YHIpQuY/Q4jHDkv05j9lVi6rbKbnP4cklUeOWOg/qfL7468K6T/MwGKA0bzpP+6OyRzzbuo/EF0wuRQh6z8yK5dVNtPrP1X5/fFXhew/d8dkjnk37T+Zlcsqm+ntP7tjMse8m+4/3TGZY95N7z8AAAAAAADwPw==\",\"dtype\":\"float64\",\"shape\":[44]},\"top\":{\"__ndarray__\":\"AqmmE9Pt9z+CIc/HFisSQAlgEYk8XBxAHmiKrcklGUCoP9m0Z7oQQAOTFUsPKAZA4kjpzDYNBEBi16JJPhAAQEM9/w+EI/w/i9g5PYCZ9j/5vjfclrP5P0i5mFztgPE/+ADrNeIE7z/I6CuGmizwP/tm87mHnOI/CWfzuYec4j8JZ/O5h5ziP/oz7/e00Ng/CWfzuYec0j/4daJRACLePw+MMxrE598/fAs+/1Jl4D8J8jueaX/jPwseXi/xCtc/CNyq1aW50T/nSYDAeJbKPw5gEYk8XLw/DDTv97TQuD8PjDMaxOe/P+3xO55pf8M/CgjNZi1FtT8PjDMaxOe/Pww07/e00Mg/CNyq1aW5wT/lXxGJPFysPw5gEYk8XLw/CNyq1aW5wT8I3KrVpbnBP+VfEYk8XKw/DmARiTxcrD8KCM1mLUWlPw5gEYk8XKw/D4wzGsTnvz/oM+/3tNC4Pw==\",\"dtype\":\"float64\",\"shape\":[44]}}},\"id\":\"23387443-3805-49ab-acae-e27fb3f23edb\",\"type\":\"ColumnDataSource\"},{\"attributes\":{\"axis_label\":\"Coumpounds per target\",\"formatter\":{\"id\":\"15d60a36-c2c1-4223-8ba1-5f420529128c\",\"type\":\"BasicTickFormatter\"},\"plot\":{\"id\":\"713d1bcb-b319-4f77-9a82-1105c3f6d295\",\"subtype\":\"Figure\",\"type\":\"Plot\"},\"ticker\":{\"id\":\"743edffc-8fcf-4315-9cbc-cce15221bf82\",\"type\":\"BasicTicker\"}},\"id\":\"cbc96181-5818-40aa-bd9a-a0b7d42d1130\",\"type\":\"LinearAxis\"},{\"attributes\":{\"bottom\":{\"value\":0},\"fill_alpha\":{\"value\":0.1},\"fill_color\":{\"value\":\"#1f77b4\"},\"left\":{\"field\":\"left\"},\"line_alpha\":{\"value\":0.1},\"line_color\":{\"value\":\"#1f77b4\"},\"right\":{\"field\":\"right\"},\"top\":{\"field\":\"top\"}},\"id\":\"eabf0be5-d943-486a-aa01-724f3e65a451\",\"type\":\"Quad\"},{\"attributes\":{\"plot\":null,\"text\":\"\"},\"id\":\"25f8ec0c-1d52-4bcd-a689-de43282edf0e\",\"type\":\"Title\"},{\"attributes\":{\"source\":{\"id\":\"23387443-3805-49ab-acae-e27fb3f23edb\",\"type\":\"ColumnDataSource\"}},\"id\":\"ee818f25-e589-4030-8777-68b316d613fa\",\"type\":\"CDSView\"},{\"attributes\":{\"bottom_units\":\"screen\",\"fill_alpha\":{\"value\":0.5},\"fill_color\":{\"value\":\"lightgrey\"},\"left_units\":\"screen\",\"level\":\"overlay\",\"line_alpha\":{\"value\":1.0},\"line_color\":{\"value\":\"black\"},\"line_dash\":[4,4],\"line_width\":{\"value\":2},\"plot\":null,\"render_mode\":\"css\",\"right_units\":\"screen\",\"top_units\":\"screen\"},\"id\":\"ba187d9a-4883-4c99-8310-692dc93c7682\",\"type\":\"BoxAnnotation\"},{\"attributes\":{},\"id\":\"1723c3ab-95b7-45f0-be0f-631d10396ef3\",\"type\":\"LinearScale\"},{\"attributes\":{},\"id\":\"743edffc-8fcf-4315-9cbc-cce15221bf82\",\"type\":\"BasicTicker\"},{\"attributes\":{\"bottom\":{\"value\":0},\"fill_color\":{\"value\":\"#99d594\"},\"left\":{\"field\":\"left\"},\"line_color\":{\"value\":\"#1f77b4\"},\"right\":{\"field\":\"right\"},\"top\":{\"field\":\"top\"}},\"id\":\"372ca62b-8f49-4ed9-a704-5b00613982e4\",\"type\":\"Quad\"},{\"attributes\":{\"below\":[{\"id\":\"cbc96181-5818-40aa-bd9a-a0b7d42d1130\",\"type\":\"LinearAxis\"}],\"left\":[{\"id\":\"ddb373dd-c5bd-4eed-a227-36cb08c1026b\",\"type\":\"LinearAxis\"}],\"renderers\":[{\"id\":\"cbc96181-5818-40aa-bd9a-a0b7d42d1130\",\"type\":\"LinearAxis\"},{\"id\":\"a0b251f9-017d-4d26-8c98-67a2fb20aabd\",\"type\":\"Grid\"},{\"id\":\"ddb373dd-c5bd-4eed-a227-36cb08c1026b\",\"type\":\"LinearAxis\"},{\"id\":\"65f1c5a3-5c0f-41a2-b0bc-e459a6adab10\",\"type\":\"Grid\"},{\"id\":\"ba187d9a-4883-4c99-8310-692dc93c7682\",\"type\":\"BoxAnnotation\"},{\"id\":\"bea8a832-4983-423a-8b72-c16d86e55ac2\",\"type\":\"GlyphRenderer\"}],\"title\":{\"id\":\"25f8ec0c-1d52-4bcd-a689-de43282edf0e\",\"type\":\"Title\"},\"toolbar\":{\"id\":\"31f1e56f-d729-41a3-a0de-dfa2f47a2d52\",\"type\":\"Toolbar\"},\"x_range\":{\"id\":\"addb89b2-f455-4fe0-896f-8bca2e767b9c\",\"type\":\"DataRange1d\"},\"x_scale\":{\"id\":\"2196b024-8db1-466e-a6ce-5bf0fa1fbd4f\",\"type\":\"LinearScale\"},\"y_range\":{\"id\":\"cb6ede50-01e9-4677-951e-6089e985432e\",\"type\":\"DataRange1d\"},\"y_scale\":{\"id\":\"1723c3ab-95b7-45f0-be0f-631d10396ef3\",\"type\":\"LinearScale\"}},\"id\":\"713d1bcb-b319-4f77-9a82-1105c3f6d295\",\"subtype\":\"Figure\",\"type\":\"Plot\"},{\"attributes\":{},\"id\":\"b7d2b5fa-d659-4097-bc7d-ed1f2e9967ec\",\"type\":\"SaveTool\"},{\"attributes\":{\"plot\":{\"id\":\"713d1bcb-b319-4f77-9a82-1105c3f6d295\",\"subtype\":\"Figure\",\"type\":\"Plot\"},\"ticker\":{\"id\":\"743edffc-8fcf-4315-9cbc-cce15221bf82\",\"type\":\"BasicTicker\"}},\"id\":\"a0b251f9-017d-4d26-8c98-67a2fb20aabd\",\"type\":\"Grid\"},{\"attributes\":{},\"id\":\"2196b024-8db1-466e-a6ce-5bf0fa1fbd4f\",\"type\":\"LinearScale\"},{\"attributes\":{\"callback\":null},\"id\":\"addb89b2-f455-4fe0-896f-8bca2e767b9c\",\"type\":\"DataRange1d\"},{\"attributes\":{},\"id\":\"f54b5f4a-4b6e-4115-b09d-1572255b4cdf\",\"type\":\"ResetTool\"},{\"attributes\":{\"callback\":null},\"id\":\"cb6ede50-01e9-4677-951e-6089e985432e\",\"type\":\"DataRange1d\"}],\"root_ids\":[\"713d1bcb-b319-4f77-9a82-1105c3f6d295\"]},\"title\":\"Bokeh Application\",\"version\":\"0.12.13\"}};\n",
       "  var render_items = [{\"docid\":\"c780ca3a-fb78-4a9b-8cfe-a8fadd76d958\",\"elementid\":\"2ff4b5e5-6184-4ee3-aa82-6d97cd486557\",\"modelid\":\"713d1bcb-b319-4f77-9a82-1105c3f6d295\",\"notebook_comms_target\":\"bae4bd5a-298c-4e0c-b41d-1065a0020bd4\"}];\n",
       "  root.Bokeh.embed.embed_items_notebook(docs_json, render_items);\n",
       "\n",
       "  }\n",
       "  if (root.Bokeh !== undefined) {\n",
       "    embed_document(root);\n",
       "  } else {\n",
       "    var attempts = 0;\n",
       "    var timer = setInterval(function(root) {\n",
       "      if (root.Bokeh !== undefined) {\n",
       "        embed_document(root);\n",
       "        clearInterval(timer);\n",
       "      }\n",
       "      attempts++;\n",
       "      if (attempts > 100) {\n",
       "        console.log(\"Bokeh: ERROR: Unable to run BokehJS code because BokehJS library is missing\")\n",
       "        clearInterval(timer);\n",
       "      }\n",
       "    }, 10, root)\n",
       "  }\n",
       "})(window);"
      ],
      "application/vnd.bokehjs_exec.v0+json": ""
     },
     "metadata": {
      "application/vnd.bokehjs_exec.v0+json": {
       "id": "713d1bcb-b319-4f77-9a82-1105c3f6d295"
      }
     },
     "output_type": "display_data"
    },
    {
     "data": {
      "text/html": [
       "<p><code>&lt;Bokeh Notebook handle for <strong>In[4]</strong>&gt;</code></p>"
      ],
      "text/plain": [
       "<bokeh.io.notebook.CommsHandle at 0x1186f7c90>"
      ]
     },
     "execution_count": 240,
     "metadata": {},
     "output_type": "execute_result"
    }
   ],
   "source": [
    "hist, edges = np.histogram(data['dice_similarity'][iu1], density=True, bins='auto')\n",
    "p1 = figure(x_axis_label='Coumpounds per target', y_axis_label='Percentage of targets')\n",
    "p1.quad(top=hist, bottom=0, left=edges[:-1], right=edges[1:],\n",
    "        fill_color=Spectral6[1])\n",
    "show(p1, notebook_handle=True)"
   ]
  },
  {
   "cell_type": "code",
   "execution_count": 103,
   "metadata": {},
   "outputs": [
    {
     "ename": "AttributeError",
     "evalue": "'DataFrame' object has no attribute 'readline'",
     "output_type": "error",
     "traceback": [
      "\u001b[0;31m---------------------------------------------------------------------------\u001b[0m",
      "\u001b[0;31mAttributeError\u001b[0m                            Traceback (most recent call last)",
      "\u001b[0;32m<ipython-input-103-46d0e0b8f61d>\u001b[0m in \u001b[0;36m<module>\u001b[0;34m()\u001b[0m\n\u001b[0;32m----> 1\u001b[0;31m \u001b[0mpickle\u001b[0m\u001b[0;34m.\u001b[0m\u001b[0mload\u001b[0m\u001b[0;34m(\u001b[0m\u001b[0mdata\u001b[0m\u001b[0;34m)\u001b[0m\u001b[0;34m\u001b[0m\u001b[0m\n\u001b[0m",
      "\u001b[0;32m/Users/sh/anaconda2/lib/python2.7/pickle.pyc\u001b[0m in \u001b[0;36mload\u001b[0;34m(file)\u001b[0m\n\u001b[1;32m   1382\u001b[0m \u001b[0;34m\u001b[0m\u001b[0m\n\u001b[1;32m   1383\u001b[0m \u001b[0;32mdef\u001b[0m \u001b[0mload\u001b[0m\u001b[0;34m(\u001b[0m\u001b[0mfile\u001b[0m\u001b[0;34m)\u001b[0m\u001b[0;34m:\u001b[0m\u001b[0;34m\u001b[0m\u001b[0m\n\u001b[0;32m-> 1384\u001b[0;31m     \u001b[0;32mreturn\u001b[0m \u001b[0mUnpickler\u001b[0m\u001b[0;34m(\u001b[0m\u001b[0mfile\u001b[0m\u001b[0;34m)\u001b[0m\u001b[0;34m.\u001b[0m\u001b[0mload\u001b[0m\u001b[0;34m(\u001b[0m\u001b[0;34m)\u001b[0m\u001b[0;34m\u001b[0m\u001b[0m\n\u001b[0m\u001b[1;32m   1385\u001b[0m \u001b[0;34m\u001b[0m\u001b[0m\n\u001b[1;32m   1386\u001b[0m \u001b[0;32mdef\u001b[0m \u001b[0mloads\u001b[0m\u001b[0;34m(\u001b[0m\u001b[0mstr\u001b[0m\u001b[0;34m)\u001b[0m\u001b[0;34m:\u001b[0m\u001b[0;34m\u001b[0m\u001b[0m\n",
      "\u001b[0;32m/Users/sh/anaconda2/lib/python2.7/pickle.pyc\u001b[0m in \u001b[0;36m__init__\u001b[0;34m(self, file)\u001b[0m\n\u001b[1;32m    845\u001b[0m         \u001b[0;32mor\u001b[0m \u001b[0many\u001b[0m \u001b[0mother\u001b[0m \u001b[0mcustom\u001b[0m \u001b[0mobject\u001b[0m \u001b[0mthat\u001b[0m \u001b[0mmeets\u001b[0m \u001b[0mthis\u001b[0m \u001b[0minterface\u001b[0m\u001b[0;34m.\u001b[0m\u001b[0;34m\u001b[0m\u001b[0m\n\u001b[1;32m    846\u001b[0m         \"\"\"\n\u001b[0;32m--> 847\u001b[0;31m         \u001b[0mself\u001b[0m\u001b[0;34m.\u001b[0m\u001b[0mreadline\u001b[0m \u001b[0;34m=\u001b[0m \u001b[0mfile\u001b[0m\u001b[0;34m.\u001b[0m\u001b[0mreadline\u001b[0m\u001b[0;34m\u001b[0m\u001b[0m\n\u001b[0m\u001b[1;32m    848\u001b[0m         \u001b[0mself\u001b[0m\u001b[0;34m.\u001b[0m\u001b[0mread\u001b[0m \u001b[0;34m=\u001b[0m \u001b[0mfile\u001b[0m\u001b[0;34m.\u001b[0m\u001b[0mread\u001b[0m\u001b[0;34m\u001b[0m\u001b[0m\n\u001b[1;32m    849\u001b[0m         \u001b[0mself\u001b[0m\u001b[0;34m.\u001b[0m\u001b[0mmemo\u001b[0m \u001b[0;34m=\u001b[0m \u001b[0;34m{\u001b[0m\u001b[0;34m}\u001b[0m\u001b[0;34m\u001b[0m\u001b[0m\n",
      "\u001b[0;32m/Users/sh/anaconda2/lib/python2.7/site-packages/pandas/core/generic.pyc\u001b[0m in \u001b[0;36m__getattr__\u001b[0;34m(self, name)\u001b[0m\n\u001b[1;32m   3612\u001b[0m             \u001b[0;32mif\u001b[0m \u001b[0mname\u001b[0m \u001b[0;32min\u001b[0m \u001b[0mself\u001b[0m\u001b[0;34m.\u001b[0m\u001b[0m_info_axis\u001b[0m\u001b[0;34m:\u001b[0m\u001b[0;34m\u001b[0m\u001b[0m\n\u001b[1;32m   3613\u001b[0m                 \u001b[0;32mreturn\u001b[0m \u001b[0mself\u001b[0m\u001b[0;34m[\u001b[0m\u001b[0mname\u001b[0m\u001b[0;34m]\u001b[0m\u001b[0;34m\u001b[0m\u001b[0m\n\u001b[0;32m-> 3614\u001b[0;31m             \u001b[0;32mreturn\u001b[0m \u001b[0mobject\u001b[0m\u001b[0;34m.\u001b[0m\u001b[0m__getattribute__\u001b[0m\u001b[0;34m(\u001b[0m\u001b[0mself\u001b[0m\u001b[0;34m,\u001b[0m \u001b[0mname\u001b[0m\u001b[0;34m)\u001b[0m\u001b[0;34m\u001b[0m\u001b[0m\n\u001b[0m\u001b[1;32m   3615\u001b[0m \u001b[0;34m\u001b[0m\u001b[0m\n\u001b[1;32m   3616\u001b[0m     \u001b[0;32mdef\u001b[0m \u001b[0m__setattr__\u001b[0m\u001b[0;34m(\u001b[0m\u001b[0mself\u001b[0m\u001b[0;34m,\u001b[0m \u001b[0mname\u001b[0m\u001b[0;34m,\u001b[0m \u001b[0mvalue\u001b[0m\u001b[0;34m)\u001b[0m\u001b[0;34m:\u001b[0m\u001b[0;34m\u001b[0m\u001b[0m\n",
      "\u001b[0;31mAttributeError\u001b[0m: 'DataFrame' object has no attribute 'readline'"
     ]
    }
   ],
   "source": [
    "pickle.load(data)"
   ]
  }
 ],
 "metadata": {
  "kernelspec": {
   "display_name": "Python 2",
   "language": "python",
   "name": "python2"
  },
  "language_info": {
   "codemirror_mode": {
    "name": "ipython",
    "version": 2
   },
   "file_extension": ".py",
   "mimetype": "text/x-python",
   "name": "python",
   "nbconvert_exporter": "python",
   "pygments_lexer": "ipython2",
   "version": "2.7.14"
  }
 },
 "nbformat": 4,
 "nbformat_minor": 2
}
