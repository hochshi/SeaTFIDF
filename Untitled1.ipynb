{
 "cells": [
  {
   "cell_type": "code",
   "execution_count": 1,
   "metadata": {},
   "outputs": [],
   "source": [
    "from pymongo import MongoClient\n",
    "import gridfs\n",
    "import numpy as np\n",
    "\n",
    "db = MongoClient().sacred\n",
    "fs = gridfs.GridFS(db)"
   ]
  },
  {
   "cell_type": "code",
   "execution_count": 2,
   "metadata": {},
   "outputs": [
    {
     "data": {
      "text/plain": [
       "[u'/Users/sh/Code/newSeaModel/tfidf_experiment/CMerModel.py',\n",
       " u'/Users/sh/Code/newSeaModel/tfidf_experiment/cf_ingredient.py',\n",
       " u'/Users/sh/Code/newSeaModel/tfidf_experiment/dataset_ingredient.py',\n",
       " u'/Users/sh/Code/newSeaModel/tfidf_experiment/filter_ingredient.py',\n",
       " u'/Users/sh/Code/newSeaModel/tfidf_experiment/log_ingredient.py',\n",
       " u'/Users/sh/Code/newSeaModel/tfidf_experiment/similarity_measures.py',\n",
       " u'/Users/sh/Code/newSeaModel/tfidf_experiment/tfidf_experiment.py',\n",
       " u'artifact://runs/2/C17 Compound target histogram ',\n",
       " u'artifact://runs/2/C17 TFIDF 1785 Targets 231897 Compound similarity, doc:raw_count*idf, query:double_norm*idf',\n",
       " u'artifact://runs/2/C17 Target compound histogram ',\n",
       " u'artifact://runs/2/C20 Compound target histogram ',\n",
       " u'artifact://runs/2/C20 Target compound histogram ',\n",
       " u'artifact://runs/2/C23 Compound target histogram ',\n",
       " u'artifact://runs/2/C23 Target compound histogram ',\n",
       " u'artifact://runs/2/TFIDF Target similarity, doc:raw_count*idf, query:double_norm*idf',\n",
       " u'artifact://runs/2/chemical features based target similarity',\n",
       " u'artifact://runs/2/compound based target similarity',\n",
       " u'artifact://runs/3/C17 Compound target histogram ',\n",
       " u'artifact://runs/3/C17 TFIDF 1785 Targets 231897 Compound similarity, doc:log_norm*idf, query:log_norm*idf',\n",
       " u'artifact://runs/3/C17 TFIDF 1785 Targets 231897 Compound similarity, doc:log_norm*unary, query:binary*idf_smooth',\n",
       " u'artifact://runs/3/C17 TFIDF 1785 Targets 231897 Compound similarity, doc:raw_count*idf, query:double_norm*idf',\n",
       " u'artifact://runs/3/C17 TFIDF doc:log_norm*idf, query:log_norm*idf similarity positions',\n",
       " u'artifact://runs/3/C17 TFIDF doc:log_norm*unary, query:binary*idf_smooth similarity positions',\n",
       " u'artifact://runs/3/C17 TFIDF doc:raw_count*idf, query:double_norm*idf similarity positions',\n",
       " u'artifact://runs/3/C17 Target compound histogram ',\n",
       " u'artifact://runs/3/C20 Compound target histogram ',\n",
       " u'artifact://runs/3/C20 TFIDF 311 Targets 107 Compound similarity, doc:log_norm*idf, query:log_norm*idf',\n",
       " u'artifact://runs/3/C20 TFIDF 311 Targets 107 Compound similarity, doc:log_norm*unary, query:binary*idf_smooth',\n",
       " u'artifact://runs/3/C20 TFIDF 311 Targets 107 Compound similarity, doc:raw_count*idf, query:double_norm*idf',\n",
       " u'artifact://runs/3/C20 TFIDF doc:log_norm*idf, query:log_norm*idf similarity positions',\n",
       " u'artifact://runs/3/C20 TFIDF doc:log_norm*unary, query:binary*idf_smooth similarity positions',\n",
       " u'artifact://runs/3/C20 TFIDF doc:raw_count*idf, query:double_norm*idf similarity positions',\n",
       " u'artifact://runs/3/C20 Target compound histogram ',\n",
       " u'artifact://runs/3/C23 Compound target histogram ',\n",
       " u'artifact://runs/3/C23 TFIDF 311 Targets 107 Compound similarity, doc:log_norm*idf, query:log_norm*idf',\n",
       " u'artifact://runs/3/C23 TFIDF 311 Targets 107 Compound similarity, doc:log_norm*unary, query:binary*idf_smooth',\n",
       " u'artifact://runs/3/C23 TFIDF 311 Targets 107 Compound similarity, doc:raw_count*idf, query:double_norm*idf',\n",
       " u'artifact://runs/3/C23 TFIDF doc:log_norm*idf, query:log_norm*idf similarity positions',\n",
       " u'artifact://runs/3/C23 TFIDF doc:log_norm*unary, query:binary*idf_smooth similarity positions',\n",
       " u'artifact://runs/3/C23 TFIDF doc:raw_count*idf, query:double_norm*idf similarity positions',\n",
       " u'artifact://runs/3/C23 Target compound histogram ',\n",
       " u'artifact://runs/3/TFIDF Target similarity, doc:log_norm*idf, query:log_norm*idf',\n",
       " u'artifact://runs/3/TFIDF Target similarity, doc:log_norm*unary, query:binary*idf_smooth',\n",
       " u'artifact://runs/3/TFIDF Target similarity, doc:raw_count*idf, query:double_norm*idf',\n",
       " u'artifact://runs/3/chemical features based target similarity',\n",
       " u'artifact://runs/3/compound based target similarity']"
      ]
     },
     "execution_count": 2,
     "metadata": {},
     "output_type": "execute_result"
    }
   ],
   "source": [
    "fs.list()"
   ]
  },
  {
   "cell_type": "code",
   "execution_count": 16,
   "metadata": {},
   "outputs": [],
   "source": [
    "dbfile = fs.find_one({\"filename\": \"artifact://runs/3/C17 TFIDF doc:log_norm*unary, query:binary*idf_smooth similarity positions\"}, no_cursor_timeout=True)\n",
    "data = np.load(dbfile)"
   ]
  },
  {
   "cell_type": "code",
   "execution_count": 17,
   "metadata": {},
   "outputs": [
    {
     "data": {
      "text/plain": [
       "['cosine_sim_pos', 'dice_sim_pos']"
      ]
     },
     "execution_count": 17,
     "metadata": {},
     "output_type": "execute_result"
    }
   ],
   "source": [
    "data.files"
   ]
  },
  {
   "cell_type": "code",
   "execution_count": 23,
   "metadata": {},
   "outputs": [
    {
     "data": {
      "text/plain": [
       "array([[   2,    0,    0, ..., 1785, 1785, 1785],\n",
       "       [   1,    0, 1785, ..., 1785, 1785, 1785],\n",
       "       [   1,    0, 1785, ..., 1785, 1785, 1785],\n",
       "       ..., \n",
       "       [   1,    0, 1785, ..., 1785, 1785, 1785],\n",
       "       [   3,  281,  298, ..., 1785, 1785, 1785],\n",
       "       [   3,   10,   26, ..., 1785, 1785, 1785]])"
      ]
     },
     "execution_count": 23,
     "metadata": {},
     "output_type": "execute_result"
    }
   ],
   "source": [
    "data['cosine_sim_pos']"
   ]
  },
  {
   "cell_type": "code",
   "execution_count": 24,
   "metadata": {},
   "outputs": [
    {
     "data": {
      "text/plain": [
       "359676"
      ]
     },
     "execution_count": 24,
     "metadata": {},
     "output_type": "execute_result"
    }
   ],
   "source": [
    "sum(data['cosine_sim_pos'][:,0])"
   ]
  },
  {
   "cell_type": "code",
   "execution_count": 25,
   "metadata": {},
   "outputs": [],
   "source": [
    "row = []\n",
    "col = []\n",
    "for idx, val in enumerate(data['dice_sim_pos'][:,0]):\n",
    "    row.append(np.repeat(idx, val))\n",
    "    col.append(1 + np.arange(val))"
   ]
  },
  {
   "cell_type": "code",
   "execution_count": 26,
   "metadata": {},
   "outputs": [
    {
     "data": {
      "text/plain": [
       "array([     0,      0,      1, ..., 231896, 231896, 231896])"
      ]
     },
     "execution_count": 26,
     "metadata": {},
     "output_type": "execute_result"
    }
   ],
   "source": [
    "np.concatenate(row)"
   ]
  },
  {
   "cell_type": "code",
   "execution_count": 27,
   "metadata": {},
   "outputs": [
    {
     "data": {
      "text/plain": [
       "0.17319754445667768"
      ]
     },
     "execution_count": 27,
     "metadata": {},
     "output_type": "execute_result"
    }
   ],
   "source": [
    "sum(data['cosine_sim_pos'][np.concatenate(row),np.concatenate(col)] < 30)/float(sum(data['cosine_sim_pos'][:,0]))"
   ]
  },
  {
   "cell_type": "code",
   "execution_count": 81,
   "metadata": {},
   "outputs": [
    {
     "data": {
      "text/plain": [
       "0.5847589424572317"
      ]
     },
     "execution_count": 81,
     "metadata": {},
     "output_type": "execute_result"
    }
   ],
   "source": [
    "sum(data['cosine_sim_pos'][np.concatenate(row),np.concatenate(col)] < 30)/float(sum(data['cosine_sim_pos'][:,0]))"
   ]
  }
 ],
 "metadata": {
  "kernelspec": {
   "display_name": "Python 2",
   "language": "python",
   "name": "python2"
  },
  "language_info": {
   "codemirror_mode": {
    "name": "ipython",
    "version": 2
   },
   "file_extension": ".py",
   "mimetype": "text/x-python",
   "name": "python",
   "nbconvert_exporter": "python",
   "pygments_lexer": "ipython2",
   "version": "2.7.14"
  }
 },
 "nbformat": 4,
 "nbformat_minor": 2
}
