{
 "cells": [
  {
   "cell_type": "code",
   "execution_count": 1,
   "metadata": {},
   "outputs": [],
   "source": [
    "from gen_experiment_configs import yield_config\n",
    "import subprocess\n",
    "cfg_gen = yield_config()\n",
    "cfgs = list(yield_config())\n",
    "pre_args = ['/home/shlomoyakh/anaconda2/bin/python', 'tfidf_experiment.py', 'with']\n",
    "failed_cfg = []"
   ]
  },
  {
   "cell_type": "code",
   "execution_count": null,
   "metadata": {},
   "outputs": [],
   "source": [
    "for cfg in cfgs[0:1]:\n",
    "    args = ['%s=%s' % (key, val) for key, val in cfg.iteritems()]\n",
    "    all_args = pre_args + args\n",
    "    try:\n",
    "        subprocess.check_output(all_args, stderr=subprocess.STDOUT)\n",
    "    except subprocess.CalledProcessError as e:\n",
    "        print e.output\n",
    "        failed_cfg.append(cfg)"
   ]
  },
  {
   "cell_type": "code",
   "execution_count": 2,
   "metadata": {},
   "outputs": [],
   "source": [
    "def run_cfg(cfg):\n",
    "    args = ['%s=%s' % (key, val) for key, val in cfg.iteritems()]\n",
    "    all_args = pre_args + args\n",
    "    try:\n",
    "        subprocess.check_output(all_args, stderr=subprocess.STDOUT)\n",
    "    except subprocess.CalledProcessError as e:\n",
    "        print e.output\n",
    "        return cfg"
   ]
  },
  {
   "cell_type": "code",
   "execution_count": 3,
   "metadata": {},
   "outputs": [],
   "source": [
    "from pathos.multiprocessing import ProcessPool\n",
    "from multiprocessing import cpu_count\n",
    "pool = ProcessPool(3)"
   ]
  },
  {
   "cell_type": "code",
   "execution_count": null,
   "metadata": {},
   "outputs": [],
   "source": [
    "failed_cfg2 = pool.map(run_cfg, cfgs[0:12])"
   ]
  }
 ],
 "metadata": {
  "kernelspec": {
   "display_name": "Python 2",
   "language": "python",
   "name": "python2"
  },
  "language_info": {
   "codemirror_mode": {
    "name": "ipython",
    "version": 2
   },
   "file_extension": ".py",
   "mimetype": "text/x-python",
   "name": "python",
   "nbconvert_exporter": "python",
   "pygments_lexer": "ipython2",
   "version": "2.7.14"
  }
 },
 "nbformat": 4,
 "nbformat_minor": 2
}
