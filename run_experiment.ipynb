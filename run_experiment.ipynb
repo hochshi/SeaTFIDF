{
 "cells": [
  {
   "cell_type": "code",
   "execution_count": 1,
   "metadata": {},
   "outputs": [],
   "source": [
    "from gen_experiment_configs import yield_config\n",
    "import subprocess\n",
    "cfg_gen = yield_config()\n",
    "cfgs = list(yield_config())\n",
    "pre_args = ['/home/shlomoyakh/anaconda2/bin/python', 'tfidf_experiment.py', 'with']\n",
    "failed_cfg = []"
   ]
  },
  {
   "cell_type": "code",
   "execution_count": 2,
   "metadata": {},
   "outputs": [
    {
     "data": {
      "text/plain": [
       "80"
      ]
     },
     "execution_count": 2,
     "metadata": {},
     "output_type": "execute_result"
    }
   ],
   "source": [
    "len(cfgs)"
   ]
  },
  {
   "cell_type": "code",
   "execution_count": 6,
   "metadata": {},
   "outputs": [
    {
     "name": "stdout",
     "output_type": "stream",
     "text": [
      "INFO - tfidf_experiment - Running command 'run'\n",
      "INFO - tfidf_experiment - Started run with ID \"2\"\n",
      "running filter_mol_by_target_num\n",
      "running filter_target_by_mol_num\n",
      "running keep_single_mapping\n",
      "running sanitize\n",
      "running filter_mol_by_target_num\n",
      "running filter_target_by_mol_num\n",
      "running keep_single_mapping\n",
      "running sanitize\n",
      "running filter_mol_by_target_num\n",
      "running filter_target_by_mol_num\n",
      "running keep_single_mapping\n",
      "running sanitize\n",
      "\n"
     ]
    }
   ],
   "source": [
    "for cfg in cfgs[0:1]:\n",
    "    args = ['%s=%s' % (key, val) for key, val in cfg.iteritems()]\n",
    "    all_args = pre_args + args\n",
    "    try:\n",
    "        subprocess.check_output(all_args, stderr=subprocess.STDOUT)\n",
    "    except subprocess.CalledProcessError as e:\n",
    "        print e.output\n",
    "        failed_cfg.append(cfg)"
   ]
  },
  {
   "cell_type": "code",
   "execution_count": null,
   "metadata": {},
   "outputs": [],
   "source": []
  },
  {
   "cell_type": "code",
   "execution_count": null,
   "metadata": {},
   "outputs": [],
   "source": [
    "def run_cfg(cfg):\n",
    "    args = ['%s=%s' % (key, val) for key, val in cfg.iteritems()]\n",
    "    all_args = pre_args + args\n",
    "    try:\n",
    "        subprocess.check_output(all_args, stderr=subprocess.STDOUT)\n",
    "    except subprocess.CalledProcessError as e:\n",
    "        print e.output\n",
    "        return cfg"
   ]
  },
  {
   "cell_type": "code",
   "execution_count": null,
   "metadata": {},
   "outputs": [],
   "source": [
    "from pathos.multiprocessing import ProcessPool\n",
    "from multiprocessing import cpu_count\n",
    "pool = ProcessPool(3)"
   ]
  },
  {
   "cell_type": "code",
   "execution_count": null,
   "metadata": {},
   "outputs": [],
   "source": [
    "failed_cfg2 = pool.map(run_cfg, cfgs[0:12])"
   ]
  }
 ],
 "metadata": {
  "kernelspec": {
   "display_name": "Python 2",
   "language": "python",
   "name": "python2"
  },
  "language_info": {
   "codemirror_mode": {
    "name": "ipython",
    "version": 2
   },
   "file_extension": ".py",
   "mimetype": "text/x-python",
   "name": "python",
   "nbconvert_exporter": "python",
   "pygments_lexer": "ipython2",
   "version": "2.7.14"
  }
 },
 "nbformat": 4,
 "nbformat_minor": 2
}
