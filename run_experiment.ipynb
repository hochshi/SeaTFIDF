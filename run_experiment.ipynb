{
 "cells": [
  {
   "cell_type": "code",
   "execution_count": 1,
   "metadata": {},
   "outputs": [],
   "source": [
    "from gen_experiment_configs import yield_config\n",
    "import subprocess32 as subprocess\n",
    "import sys\n",
    "cfg_gen = yield_config()\n",
    "cfgs = list(yield_config())\n",
    "pre_args = [sys.executable, 'tfidf_experiment.py', '-m','sacred','-q','with']\n",
    "failed_cfg = []"
   ]
  },
  {
   "cell_type": "code",
   "execution_count": 2,
   "metadata": {},
   "outputs": [],
   "source": [
    "for cfg in cfgs:\n",
    "    args = ['%s=%s' % (key, val) for key, val in cfg.iteritems()]\n",
    "    all_args = pre_args + args\n",
    "    p = subprocess.Popen(all_args, close_fds=True)\n",
    "    #print \"PID: %d\" % p.pid\n",
    "    p.wait()\n",
    "    #res = \"PID: %d return code: %d\" % (p.pid, p.returncode)"
   ]
  },
  {
   "cell_type": "code",
   "execution_count": 3,
   "metadata": {},
   "outputs": [],
   "source": [
    "from pymongo import MongoClient\n",
    "db = MongoClient().sacred\n",
    "runs = db.runs"
   ]
  },
  {
   "cell_type": "code",
   "execution_count": 4,
   "metadata": {},
   "outputs": [
    {
     "name": "stderr",
     "output_type": "stream",
     "text": [
      "INFO - tfidf_experiment - Running command 'run'\n",
      "INFO - tfidf_experiment - Running command 'run'\n",
      "INFO - tfidf_experiment - Running command 'run'\n",
      "INFO - tfidf_experiment - Started run with ID \"9\"\n",
      "INFO - tfidf_experiment - Started run with ID \"15\"\n",
      "INFO - tfidf_experiment - Started run with ID \"1\"\n"
     ]
    },
    {
     "name": "stdout",
     "output_type": "stream",
     "text": [
      "Done called\n",
      "Done called\n",
      "Done called\n"
     ]
    }
   ],
   "source": [
    "from pathos.multiprocessing import ProcessPool\n",
    "\n",
    "pool = ProcessPool(3)"
   ]
  },
  {
   "cell_type": "code",
   "execution_count": 5,
   "metadata": {},
   "outputs": [],
   "source": [
    "def execute_run(run_dict):\n",
    "    if 2 == run_dict['config']['cf']['mers']:\n",
    "        return \"run id:%d didn't run\" %(run_dict['_id'])\n",
    "    from tfidf_experiment import ex\n",
    "    from sacred.observers import MongoObserver\n",
    "    to_run = ex._create_run(config_updates=run_dict['config'])\n",
    "    to_run.observers.append(MongoObserver.create(overwrite=run_dict))\n",
    "    to_run.experiment_info = run_dict['experiment']\n",
    "    to_run()\n",
    "    return \"run id:%d status: %s\" %(run_dict['_id'], to_run.status)\n",
    "    \n",
    "run_list = list(runs.find({\"status\" : \"QUEUED\"}).sort(\"_id\"))"
   ]
  },
  {
   "cell_type": "code",
   "execution_count": null,
   "metadata": {},
   "outputs": [],
   "source": [
    "pool.map(execute_run, run_list)"
   ]
  },
  {
   "cell_type": "code",
   "execution_count": null,
   "metadata": {
    "scrolled": false
   },
   "outputs": [],
   "source": [
    "execute_run(run_list[13])"
   ]
  },
  {
   "cell_type": "code",
   "execution_count": null,
   "metadata": {},
   "outputs": [],
   "source": [
    "run_list[13]['config']['cf']['mers']"
   ]
  },
  {
   "cell_type": "code",
   "execution_count": null,
   "metadata": {},
   "outputs": [],
   "source": [
    "# ex.add_config(run['config'])"
   ]
  },
  {
   "cell_type": "code",
   "execution_count": null,
   "metadata": {},
   "outputs": [],
   "source": []
  },
  {
   "cell_type": "code",
   "execution_count": null,
   "metadata": {},
   "outputs": [],
   "source": [
    "ex.get_experiment_info()"
   ]
  },
  {
   "cell_type": "code",
   "execution_count": null,
   "metadata": {},
   "outputs": [],
   "source": [
    "run['experiment']"
   ]
  },
  {
   "cell_type": "code",
   "execution_count": null,
   "metadata": {},
   "outputs": [],
   "source": [
    "# ex.observers.append(MongoObserver.create(overwrite=run))"
   ]
  },
  {
   "cell_type": "code",
   "execution_count": null,
   "metadata": {},
   "outputs": [],
   "source": [
    "to_run = ex._create_run(config_updates=run_list[0]['config'])"
   ]
  },
  {
   "cell_type": "code",
   "execution_count": null,
   "metadata": {},
   "outputs": [],
   "source": [
    "to_run.observers.append(MongoObserver.create(overwrite=run_list[0]))"
   ]
  },
  {
   "cell_type": "code",
   "execution_count": null,
   "metadata": {},
   "outputs": [],
   "source": [
    "to_run.experiment_info = run_list[0]['experiment']"
   ]
  },
  {
   "cell_type": "code",
   "execution_count": null,
   "metadata": {},
   "outputs": [],
   "source": [
    "to_run()"
   ]
  },
  {
   "cell_type": "code",
   "execution_count": null,
   "metadata": {},
   "outputs": [],
   "source": [
    "run['config']"
   ]
  },
  {
   "cell_type": "code",
   "execution_count": null,
   "metadata": {},
   "outputs": [],
   "source": [
    "def test(arg):\n",
    "    return \"%s. run id: %d\" %(type(arg), arg['_id'])\n",
    "\n",
    "pool.map(test, runs.find({\"status\" : \"QUEUED\"}).sort(\"_id\"))"
   ]
  },
  {
   "cell_type": "code",
   "execution_count": null,
   "metadata": {
    "scrolled": true
   },
   "outputs": [],
   "source": [
    "run_list[0]"
   ]
  }
 ],
 "metadata": {
  "kernelspec": {
   "display_name": "Python 2",
   "language": "python",
   "name": "python2"
  },
  "language_info": {
   "codemirror_mode": {
    "name": "ipython",
    "version": 2
   },
   "file_extension": ".py",
   "mimetype": "text/x-python",
   "name": "python",
   "nbconvert_exporter": "python",
   "pygments_lexer": "ipython2",
   "version": "2.7.14"
  }
 },
 "nbformat": 4,
 "nbformat_minor": 2
}
