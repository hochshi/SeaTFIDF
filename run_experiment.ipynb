{
 "cells": [
  {
   "cell_type": "code",
   "execution_count": null,
   "metadata": {},
   "outputs": [],
   "source": [
    "from gen_experiment_configs import yield_config\n",
    "import subprocess32 as subprocess\n",
    "import sys\n",
    "cfg_gen = yield_config()\n",
    "cfgs = list(yield_config())\n",
    "pre_args = [sys.executable, 'tfidf_experiment.py', '-m','sacred','-q','with']\n",
    "failed_cfg = []"
   ]
  },
  {
   "cell_type": "code",
   "execution_count": null,
   "metadata": {},
   "outputs": [],
   "source": [
    "for cfg in cfgs:\n",
    "    args = ['%s=%s' % (key, val) for key, val in cfg.iteritems()]\n",
    "    all_args = pre_args + args\n",
    "    p = subprocess.Popen(all_args, close_fds=True)\n",
    "    #print \"PID: %d\" % p.pid\n",
    "    p.wait()\n",
    "    #res = \"PID: %d return code: %d\" % (p.pid, p.returncode)"
   ]
  },
  {
   "cell_type": "code",
   "execution_count": 1,
   "metadata": {},
   "outputs": [],
   "source": [
    "from pymongo import MongoClient\n",
    "db = MongoClient().sacred\n",
    "runs = db.runs"
   ]
  },
  {
   "cell_type": "code",
   "execution_count": null,
   "metadata": {},
   "outputs": [],
   "source": [
    "from pathos.multiprocessing import ProcessPool\n",
    "\n",
    "pool = ProcessPool(3)"
   ]
  },
  {
   "cell_type": "code",
   "execution_count": 2,
   "metadata": {},
   "outputs": [],
   "source": [
    "def execute_run(run_dict):\n",
    "#     if 2 == run_dict['config']['cf']['mers']:\n",
    "#         return \"run id:%d didn't run\" %(run_dict['_id'])\n",
    "    from tfidf_experiment import ex\n",
    "    from sacred.observers import MongoObserver\n",
    "    to_run = ex._create_run(config_updates=run_dict['config'])\n",
    "    to_run.observers.append(MongoObserver.create(overwrite=run_dict))\n",
    "    to_run.experiment_info = run_dict['experiment']\n",
    "    to_run()\n",
    "    return \"run id:%d status: %s\" %(run_dict['_id'], to_run.status)\n",
    "    \n",
    "run_list = list(runs.find({\"status\" : \"QUEUED\"}).sort(\"_id\"))"
   ]
  },
  {
   "cell_type": "code",
   "execution_count": null,
   "metadata": {},
   "outputs": [],
   "source": [
    "pool.map(execute_run, run_list)"
   ]
  },
  {
   "cell_type": "code",
   "execution_count": 15,
   "metadata": {
    "scrolled": false
   },
   "outputs": [
    {
     "name": "stderr",
     "output_type": "stream",
     "text": [
      "INFO - tfidf_experiment - Running command 'run'\n",
      "INFO - tfidf_experiment - Started run with ID \"56\"\n",
      "INFO - run - Loading C17 data\n",
      "INFO - run - Curating C17 dataset\n",
      "INFO - run - Preparing C17 data\n",
      "INFO - run - C17 target_similarity_compounds\n",
      "INFO - run - C17 target_similarity_cf\n",
      "INFO - run - C17 c17m_mat\n",
      "INFO - run - Loading C20 data\n",
      "INFO - run - Curating C20 dataset\n",
      "INFO - run - C20 c20m_mat\n",
      "INFO - run - Loading C23 data\n",
      "INFO - run - Curating C23 dataset\n",
      "INFO - run - C23 c23m_mat\n",
      "INFO - run - {'doc': {'tf': 'raw_count', 'idf': 'idf'}, 'query': {'tf': 'double_norm', 'idf': 'idf'}}\n",
      "INFO - run - {'doc': {'tf': 'log_norm', 'idf': 'unary'}, 'query': {'tf': 'binary', 'idf': 'idf_smooth'}}\n",
      "INFO - run - {'doc': {'tf': 'log_norm', 'idf': 'idf'}, 'query': {'tf': 'log_norm', 'idf': 'idf'}}\n",
      "INFO - tfidf_experiment - Completed after 3:11:27\n"
     ]
    },
    {
     "name": "stdout",
     "output_type": "stream",
     "text": [
      "11486.9621069\n"
     ]
    }
   ],
   "source": [
    "import time\n",
    "start = time.time()\n",
    "execute_run(run_list[39])\n",
    "end = time.time()\n",
    "print(end-start)"
   ]
  },
  {
   "cell_type": "code",
   "execution_count": 14,
   "metadata": {},
   "outputs": [
    {
     "data": {
      "text/plain": [
       "{u'cf': {u'mers': 2, u'use_counts': False},\n",
       " u'dataset': {u'c20files': {u'map': u'data/chembl_17_10uM_target_mol.csv',\n",
       "   u'mols': u'data/chembl_20_10uM_mol_data.csv',\n",
       "   u'targets': u'data/chembl_20_10uM_target_data.csv'},\n",
       "  u'c23files': {u'map': u'data/chembl_23_10uM_target_mol.csv',\n",
       "   u'mols': u'data/chembl_23_10uM_mol_data.csv',\n",
       "   u'targets': u'data/chembl_23_10uM_target_data.csv'},\n",
       "  u'files': {u'map': u'data/chembl_17_10uM_target_mol.csv',\n",
       "   u'mols': u'data/chembl_17_10uM_mol_data.csv',\n",
       "   u'targets': u'data/chembl_17_10uM_target_data.csv'},\n",
       "  u'max_radius': 2,\n",
       "  u'select_largest_frag': True},\n",
       " u'filters': {u'action_list': [u'filter_mol_by_target_num',\n",
       "   u'filter_target_by_mol_num',\n",
       "   u'keep_single_mapping',\n",
       "   u'sanitize'],\n",
       "  u'filter_mol_by_target_num': {u'cutoff': 11},\n",
       "  u'filter_mols_by_phase': {u'max_phase': 0},\n",
       "  u'filter_target_by_drug_num': {u'cutoff': 0, u'max_phase': 0},\n",
       "  u'filter_target_by_mol_num': {u'cutoff': 9},\n",
       "  u'radii': {u'0': True, u'1': True, u'2': False}},\n",
       " u'kfcv': False,\n",
       " u'mol_id': u'MOLREGNO',\n",
       " u'seed': 958747105,\n",
       " u'target_id': u'TARGET_ID'}"
      ]
     },
     "execution_count": 14,
     "metadata": {},
     "output_type": "execute_result"
    }
   ],
   "source": [
    "run_list[39]['config']"
   ]
  },
  {
   "cell_type": "code",
   "execution_count": null,
   "metadata": {},
   "outputs": [],
   "source": [
    "# ex.add_config(run['config'])"
   ]
  },
  {
   "cell_type": "code",
   "execution_count": null,
   "metadata": {},
   "outputs": [],
   "source": [
    "1406.20706606"
   ]
  },
  {
   "cell_type": "code",
   "execution_count": null,
   "metadata": {},
   "outputs": [],
   "source": [
    "ex.get_experiment_info()"
   ]
  },
  {
   "cell_type": "code",
   "execution_count": null,
   "metadata": {},
   "outputs": [],
   "source": [
    "run['experiment']"
   ]
  },
  {
   "cell_type": "code",
   "execution_count": null,
   "metadata": {},
   "outputs": [],
   "source": [
    "# ex.observers.append(MongoObserver.create(overwrite=run))"
   ]
  },
  {
   "cell_type": "code",
   "execution_count": null,
   "metadata": {},
   "outputs": [],
   "source": [
    "to_run = ex._create_run(config_updates=run_list[0]['config'])"
   ]
  },
  {
   "cell_type": "code",
   "execution_count": null,
   "metadata": {},
   "outputs": [],
   "source": [
    "to_run.observers.append(MongoObserver.create(overwrite=run_list[0]))"
   ]
  },
  {
   "cell_type": "code",
   "execution_count": null,
   "metadata": {},
   "outputs": [],
   "source": [
    "to_run.experiment_info = run_list[0]['experiment']"
   ]
  },
  {
   "cell_type": "code",
   "execution_count": null,
   "metadata": {},
   "outputs": [],
   "source": [
    "to_run()"
   ]
  },
  {
   "cell_type": "code",
   "execution_count": null,
   "metadata": {},
   "outputs": [],
   "source": [
    "run['config']"
   ]
  },
  {
   "cell_type": "code",
   "execution_count": null,
   "metadata": {},
   "outputs": [],
   "source": [
    "def test(arg):\n",
    "    return \"%s. run id: %d\" %(type(arg), arg['_id'])\n",
    "\n",
    "pool.map(test, runs.find({\"status\" : \"QUEUED\"}).sort(\"_id\"))"
   ]
  },
  {
   "cell_type": "code",
   "execution_count": null,
   "metadata": {
    "scrolled": true
   },
   "outputs": [],
   "source": [
    "run_list[0]"
   ]
  }
 ],
 "metadata": {
  "kernelspec": {
   "display_name": "Python 2",
   "language": "python",
   "name": "python2"
  },
  "language_info": {
   "codemirror_mode": {
    "name": "ipython",
    "version": 2
   },
   "file_extension": ".py",
   "mimetype": "text/x-python",
   "name": "python",
   "nbconvert_exporter": "python",
   "pygments_lexer": "ipython2",
   "version": "2.7.14"
  }
 },
 "nbformat": 4,
 "nbformat_minor": 2
}
